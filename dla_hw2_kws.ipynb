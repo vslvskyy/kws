{
  "cells": [
    {
      "cell_type": "markdown",
      "metadata": {
        "id": "_lhrn5O-qUYZ"
      },
      "source": [
        "# Import and misc"
      ]
    },
    {
      "cell_type": "code",
      "execution_count": null,
      "metadata": {
        "id": "meO-Mp9jiAFC"
      },
      "outputs": [],
      "source": [
        "# Instal latest torch and torchaudio"
      ]
    },
    {
      "cell_type": "code",
      "source": [
        "from google.colab import drive\n",
        "drive.mount('/content/drive', force_remount=True)"
      ],
      "metadata": {
        "colab": {
          "base_uri": "https://localhost:8080/"
        },
        "id": "Uz37SAvYLKFH",
        "outputId": "4083532e-aaf6-46a7-d7f0-b90f02e1696b"
      },
      "execution_count": 1,
      "outputs": [
        {
          "output_type": "stream",
          "name": "stdout",
          "text": [
            "Mounted at /content/drive\n"
          ]
        }
      ]
    },
    {
      "cell_type": "code",
      "execution_count": 2,
      "metadata": {
        "id": "bbUpoArCqUYa"
      },
      "outputs": [],
      "source": [
        "from typing import Tuple, Union, List, Callable, Optional\n",
        "from tqdm import tqdm\n",
        "from itertools import islice\n",
        "import pathlib\n",
        "import dataclasses\n",
        "\n",
        "import numpy as np\n",
        "import pandas as pd\n",
        "import math\n",
        "\n",
        "import torch\n",
        "import torch.nn.functional as F\n",
        "from torch import nn\n",
        "from torch import distributions\n",
        "from torch.utils.data import DataLoader, Dataset, WeightedRandomSampler\n",
        "from torch.nn.utils.rnn import pad_sequence\n",
        "\n",
        "import torchaudio\n",
        "from IPython import display as display_\n",
        "\n",
        "from collections import defaultdict\n",
        "from IPython.display import clear_output\n",
        "from matplotlib import pyplot as plt\n",
        "\n"
      ]
    },
    {
      "cell_type": "code",
      "source": [
        "import random\n",
        "\n",
        "def set_random_seed(seed=42):\n",
        "    random.seed(seed)\n",
        "    np.random.seed(seed)\n",
        "    torch.manual_seed(seed)\n",
        "    if torch.cuda.is_available():\n",
        "        torch.cuda.manual_seed_all(seed)\n",
        "\n",
        "set_random_seed()"
      ],
      "metadata": {
        "id": "UGvlaOehkVSl"
      },
      "execution_count": 3,
      "outputs": []
    },
    {
      "cell_type": "markdown",
      "metadata": {
        "id": "812GwLfqqUYf"
      },
      "source": [
        "# Task"
      ]
    },
    {
      "cell_type": "markdown",
      "metadata": {
        "id": "i1DuQIyRqUYf"
      },
      "source": [
        "In this notebook we will implement a model for finding a keyword in a stream.\n",
        "\n",
        "We will implement the version with CRNN because it is easy and improves the model. \n",
        "(from https://www.dropbox.com/s/22ah2ba7dug6pzw/KWS_Attention.pdf)"
      ]
    },
    {
      "cell_type": "code",
      "execution_count": 4,
      "metadata": {
        "id": "8PdhApeEh9pH"
      },
      "outputs": [],
      "source": [
        "@dataclasses.dataclass\n",
        "class TaskConfig:\n",
        "    keyword: str = 'sheila'  # We will use 1 key word -- 'sheila'\n",
        "    batch_size: int = 128\n",
        "    learning_rate: float = 3e-4\n",
        "    weight_decay: float = 1e-5\n",
        "    num_epochs: int = 20\n",
        "    n_mels: int = 40\n",
        "    cnn_out_channels: int = 8\n",
        "    kernel_size: Tuple[int, int] = (5, 20)\n",
        "    stride: Tuple[int, int] = (2, 8)\n",
        "    hidden_size: int = 64\n",
        "    gru_num_layers: int = 2\n",
        "    bidirectional: bool = False\n",
        "    num_classes: int = 2\n",
        "    sample_rate: int = 16000\n",
        "    device: torch.device = torch.device(\n",
        "        'cuda:0' if torch.cuda.is_available() else 'cpu')\n",
        "    max_window_length: int = 130\n",
        "    streaming_step_size = 40\n",
        "    t: int = 10\n",
        "    target_loss_w: float = 0.5\n"
      ]
    },
    {
      "cell_type": "markdown",
      "source": [
        "# Quality measurment functions:"
      ],
      "metadata": {
        "id": "ItjcT3iW1fzj"
      }
    },
    {
      "cell_type": "code",
      "source": [
        "# FA - true: 0, model: 1\n",
        "# FR - true: 1, model: 0\n",
        "\n",
        "def count_FA_FR(preds, labels):\n",
        "    FA = torch.sum(preds[labels == 0])\n",
        "    FR = torch.sum(labels[preds == 0])\n",
        "    \n",
        "    # torch.numel - returns total number of elements in tensor\n",
        "    return FA.item() / torch.numel(preds), FR.item() / torch.numel(preds)\n",
        "\n",
        "\n",
        "def get_au_fa_fr(probs, labels):\n",
        "    sorted_probs, _ = torch.sort(probs)\n",
        "    sorted_probs = torch.cat((torch.Tensor([0]), sorted_probs, torch.Tensor([1])))\n",
        "    labels = torch.cat(labels, dim=0)\n",
        "        \n",
        "    FAs, FRs = [], []\n",
        "    for prob in sorted_probs:\n",
        "        preds = (probs >= prob) * 1\n",
        "        FA, FR = count_FA_FR(preds, labels)        \n",
        "        FAs.append(FA)\n",
        "        FRs.append(FR)\n",
        "    # plt.plot(FAs, FRs)\n",
        "    # plt.show()\n",
        "\n",
        "    # ~ area under curve using trapezoidal rule\n",
        "    return -np.trapz(FRs, x=FAs)"
      ],
      "metadata": {
        "id": "rpyOowbO1jCG"
      },
      "execution_count": 50,
      "outputs": []
    },
    {
      "cell_type": "code",
      "source": [
        "!pip install thop"
      ],
      "metadata": {
        "id": "nVGu7LOXc_PN"
      },
      "execution_count": null,
      "outputs": []
    },
    {
      "cell_type": "code",
      "source": [
        "import tempfile\n",
        "import time\n",
        "\n",
        "from thop import profile\n",
        "\n",
        "\n",
        "class Timer:\n",
        "\n",
        "    def __init__(self, name: str, verbose=False):\n",
        "        self.name = name\n",
        "        self.verbose = verbose\n",
        "\n",
        "    def __enter__(self):\n",
        "        self.t = time.time()\n",
        "        return self\n",
        "\n",
        "    def __exit__(self, type, value, traceback):\n",
        "        self.t = time.time() - self.t\n",
        "\n",
        "        if self.verbose:\n",
        "            print(f\"{self.name.capitalize()} | Elapsed time : {self.t}\")\n",
        "\n",
        "\n",
        "def get_size_in_megabytes(model):\n",
        "    # https://pytorch.org/tutorials/recipes/recipes/dynamic_quantization.html#look-at-model-size\n",
        "    with tempfile.TemporaryFile() as f:\n",
        "        torch.save(model.state_dict(), f)\n",
        "        size = f.tell() / 2**20\n",
        "    return size"
      ],
      "metadata": {
        "id": "13Lj9VvpdElN"
      },
      "execution_count": 52,
      "outputs": []
    },
    {
      "cell_type": "markdown",
      "metadata": {
        "id": "KA1gPmE1h9pI"
      },
      "source": [
        "# Data"
      ]
    },
    {
      "cell_type": "code",
      "execution_count": 6,
      "metadata": {
        "id": "Y2N8zcx9MF1X",
        "colab": {
          "base_uri": "https://localhost:8080/"
        },
        "outputId": "309dbeb2-a57c-432e-d5a5-a24426ab9043"
      },
      "outputs": [
        {
          "output_type": "stream",
          "name": "stdout",
          "text": [
            "--2022-11-06 15:45:01--  http://download.tensorflow.org/data/speech_commands_v0.01.tar.gz\n",
            "Resolving download.tensorflow.org (download.tensorflow.org)... 108.177.127.128, 2a00:1450:4013:c07::80\n",
            "Connecting to download.tensorflow.org (download.tensorflow.org)|108.177.127.128|:80... connected.\n",
            "HTTP request sent, awaiting response... 200 OK\n",
            "Length: 1489096277 (1.4G) [application/gzip]\n",
            "Saving to: ‘speech_commands_v0.01.tar.gz’\n",
            "\n",
            "speech_commands_v0. 100%[===================>]   1.39G   245MB/s    in 5.9s    \n",
            "\n",
            "2022-11-06 15:45:07 (240 MB/s) - ‘speech_commands_v0.01.tar.gz’ saved [1489096277/1489096277]\n",
            "\n"
          ]
        }
      ],
      "source": [
        "# !wget http://download.tensorflow.org/data/speech_commands_v0.01.tar.gz -O speech_commands_v0.01.tar.gz\n",
        "# !mkdir speech_commands && tar -C speech_commands -xvzf speech_commands_v0.01.tar.gz 1> log"
      ]
    },
    {
      "cell_type": "code",
      "source": [
        "metadata = torchaudio.info(\"speech_commands/bed/00176480_nohash_0.wav\")\n",
        "print(metadata)"
      ],
      "metadata": {
        "colab": {
          "base_uri": "https://localhost:8080/"
        },
        "id": "tfichKHb5Ifn",
        "outputId": "fa2fae36-4b2d-452b-a797-d24da4182c87"
      },
      "execution_count": 7,
      "outputs": [
        {
          "output_type": "stream",
          "name": "stdout",
          "text": [
            "AudioMetaData(sample_rate=16000, num_frames=16000, num_channels=1, bits_per_sample=16, encoding=PCM_S)\n"
          ]
        }
      ]
    },
    {
      "cell_type": "code",
      "execution_count": 8,
      "metadata": {
        "id": "12wBTK0mNUsG"
      },
      "outputs": [],
      "source": [
        "from pickle import FALSE\n",
        "class SpeechCommandDataset(Dataset):\n",
        "\n",
        "    def __init__(\n",
        "        self,\n",
        "        transform: Optional[Callable] = None,\n",
        "        path2dir: str = None,\n",
        "        keywords: Union[str, List[str]] = None,\n",
        "        csv: Optional[pd.DataFrame] = None,\n",
        "        return_path: bool = False\n",
        "    ):        \n",
        "        self.transform = transform\n",
        "        self.return_path = return_path\n",
        "\n",
        "        if csv is None:\n",
        "            path2dir = pathlib.Path(path2dir)\n",
        "            keywords = keywords if isinstance(keywords, list) else [keywords]\n",
        "            \n",
        "            all_keywords = [\n",
        "                p.stem for p in path2dir.glob('*')\n",
        "                if p.is_dir() and not p.stem.startswith('_')\n",
        "            ]\n",
        "\n",
        "            triplets = []\n",
        "            for keyword in all_keywords:\n",
        "                paths = (path2dir / keyword).rglob('*.wav')\n",
        "                if keyword in keywords:\n",
        "                    for path2wav in paths:\n",
        "                        triplets.append((path2wav.as_posix(), keyword, 1))\n",
        "                else:\n",
        "                    for path2wav in paths:\n",
        "                        triplets.append((path2wav.as_posix(), keyword, 0))\n",
        "            \n",
        "            self.csv = pd.DataFrame(\n",
        "                triplets,\n",
        "                columns=['path', 'keyword', 'label']\n",
        "            )\n",
        "\n",
        "        else:\n",
        "            self.csv = csv\n",
        "    \n",
        "    def __getitem__(self, index: int):\n",
        "        instance = self.csv.iloc[index]\n",
        "\n",
        "        path2wav = instance['path']\n",
        "        wav, sr = torchaudio.load(path2wav)\n",
        "        wav = wav.sum(dim=0)\n",
        "        \n",
        "        if self.transform:\n",
        "            wav = self.transform(wav)\n",
        "\n",
        "        if self.return_path:\n",
        "            return {\n",
        "                'wav': wav,\n",
        "                'keyword': instance['keyword'],\n",
        "                'label': instance['label'],\n",
        "                'path': path2wav\n",
        "            }\n",
        "        return {\n",
        "                'wav': wav,\n",
        "                'keyword': instance['keyword'],\n",
        "                'label': instance['label'],\n",
        "            }\n",
        "\n",
        "    def __len__(self):\n",
        "        return len(self.csv)"
      ]
    },
    {
      "cell_type": "code",
      "execution_count": 9,
      "metadata": {
        "id": "-1rVkT81Pk90",
        "colab": {
          "base_uri": "https://localhost:8080/",
          "height": 206
        },
        "outputId": "64e0e523-e7ca-49e4-ed41-350b7b878b70"
      },
      "outputs": [
        {
          "output_type": "execute_result",
          "data": {
            "text/plain": [
              "                                              path keyword  label\n",
              "50866    speech_commands/two/f4cae173_nohash_0.wav     two      0\n",
              "1003   speech_commands/happy/d3a18257_nohash_1.wav   happy      0\n",
              "38126  speech_commands/right/471a0925_nohash_0.wav   right      0\n",
              "144    speech_commands/happy/518588b6_nohash_1.wav   happy      0\n",
              "31651     speech_commands/go/5588c7e6_nohash_0.wav      go      0"
            ],
            "text/html": [
              "\n",
              "  <div id=\"df-3603af44-7a13-40dd-a04c-b324b3b4a314\">\n",
              "    <div class=\"colab-df-container\">\n",
              "      <div>\n",
              "<style scoped>\n",
              "    .dataframe tbody tr th:only-of-type {\n",
              "        vertical-align: middle;\n",
              "    }\n",
              "\n",
              "    .dataframe tbody tr th {\n",
              "        vertical-align: top;\n",
              "    }\n",
              "\n",
              "    .dataframe thead th {\n",
              "        text-align: right;\n",
              "    }\n",
              "</style>\n",
              "<table border=\"1\" class=\"dataframe\">\n",
              "  <thead>\n",
              "    <tr style=\"text-align: right;\">\n",
              "      <th></th>\n",
              "      <th>path</th>\n",
              "      <th>keyword</th>\n",
              "      <th>label</th>\n",
              "    </tr>\n",
              "  </thead>\n",
              "  <tbody>\n",
              "    <tr>\n",
              "      <th>50866</th>\n",
              "      <td>speech_commands/two/f4cae173_nohash_0.wav</td>\n",
              "      <td>two</td>\n",
              "      <td>0</td>\n",
              "    </tr>\n",
              "    <tr>\n",
              "      <th>1003</th>\n",
              "      <td>speech_commands/happy/d3a18257_nohash_1.wav</td>\n",
              "      <td>happy</td>\n",
              "      <td>0</td>\n",
              "    </tr>\n",
              "    <tr>\n",
              "      <th>38126</th>\n",
              "      <td>speech_commands/right/471a0925_nohash_0.wav</td>\n",
              "      <td>right</td>\n",
              "      <td>0</td>\n",
              "    </tr>\n",
              "    <tr>\n",
              "      <th>144</th>\n",
              "      <td>speech_commands/happy/518588b6_nohash_1.wav</td>\n",
              "      <td>happy</td>\n",
              "      <td>0</td>\n",
              "    </tr>\n",
              "    <tr>\n",
              "      <th>31651</th>\n",
              "      <td>speech_commands/go/5588c7e6_nohash_0.wav</td>\n",
              "      <td>go</td>\n",
              "      <td>0</td>\n",
              "    </tr>\n",
              "  </tbody>\n",
              "</table>\n",
              "</div>\n",
              "      <button class=\"colab-df-convert\" onclick=\"convertToInteractive('df-3603af44-7a13-40dd-a04c-b324b3b4a314')\"\n",
              "              title=\"Convert this dataframe to an interactive table.\"\n",
              "              style=\"display:none;\">\n",
              "        \n",
              "  <svg xmlns=\"http://www.w3.org/2000/svg\" height=\"24px\"viewBox=\"0 0 24 24\"\n",
              "       width=\"24px\">\n",
              "    <path d=\"M0 0h24v24H0V0z\" fill=\"none\"/>\n",
              "    <path d=\"M18.56 5.44l.94 2.06.94-2.06 2.06-.94-2.06-.94-.94-2.06-.94 2.06-2.06.94zm-11 1L8.5 8.5l.94-2.06 2.06-.94-2.06-.94L8.5 2.5l-.94 2.06-2.06.94zm10 10l.94 2.06.94-2.06 2.06-.94-2.06-.94-.94-2.06-.94 2.06-2.06.94z\"/><path d=\"M17.41 7.96l-1.37-1.37c-.4-.4-.92-.59-1.43-.59-.52 0-1.04.2-1.43.59L10.3 9.45l-7.72 7.72c-.78.78-.78 2.05 0 2.83L4 21.41c.39.39.9.59 1.41.59.51 0 1.02-.2 1.41-.59l7.78-7.78 2.81-2.81c.8-.78.8-2.07 0-2.86zM5.41 20L4 18.59l7.72-7.72 1.47 1.35L5.41 20z\"/>\n",
              "  </svg>\n",
              "      </button>\n",
              "      \n",
              "  <style>\n",
              "    .colab-df-container {\n",
              "      display:flex;\n",
              "      flex-wrap:wrap;\n",
              "      gap: 12px;\n",
              "    }\n",
              "\n",
              "    .colab-df-convert {\n",
              "      background-color: #E8F0FE;\n",
              "      border: none;\n",
              "      border-radius: 50%;\n",
              "      cursor: pointer;\n",
              "      display: none;\n",
              "      fill: #1967D2;\n",
              "      height: 32px;\n",
              "      padding: 0 0 0 0;\n",
              "      width: 32px;\n",
              "    }\n",
              "\n",
              "    .colab-df-convert:hover {\n",
              "      background-color: #E2EBFA;\n",
              "      box-shadow: 0px 1px 2px rgba(60, 64, 67, 0.3), 0px 1px 3px 1px rgba(60, 64, 67, 0.15);\n",
              "      fill: #174EA6;\n",
              "    }\n",
              "\n",
              "    [theme=dark] .colab-df-convert {\n",
              "      background-color: #3B4455;\n",
              "      fill: #D2E3FC;\n",
              "    }\n",
              "\n",
              "    [theme=dark] .colab-df-convert:hover {\n",
              "      background-color: #434B5C;\n",
              "      box-shadow: 0px 1px 3px 1px rgba(0, 0, 0, 0.15);\n",
              "      filter: drop-shadow(0px 1px 2px rgba(0, 0, 0, 0.3));\n",
              "      fill: #FFFFFF;\n",
              "    }\n",
              "  </style>\n",
              "\n",
              "      <script>\n",
              "        const buttonEl =\n",
              "          document.querySelector('#df-3603af44-7a13-40dd-a04c-b324b3b4a314 button.colab-df-convert');\n",
              "        buttonEl.style.display =\n",
              "          google.colab.kernel.accessAllowed ? 'block' : 'none';\n",
              "\n",
              "        async function convertToInteractive(key) {\n",
              "          const element = document.querySelector('#df-3603af44-7a13-40dd-a04c-b324b3b4a314');\n",
              "          const dataTable =\n",
              "            await google.colab.kernel.invokeFunction('convertToInteractive',\n",
              "                                                     [key], {});\n",
              "          if (!dataTable) return;\n",
              "\n",
              "          const docLinkHtml = 'Like what you see? Visit the ' +\n",
              "            '<a target=\"_blank\" href=https://colab.research.google.com/notebooks/data_table.ipynb>data table notebook</a>'\n",
              "            + ' to learn more about interactive tables.';\n",
              "          element.innerHTML = '';\n",
              "          dataTable['output_type'] = 'display_data';\n",
              "          await google.colab.output.renderOutput(dataTable, element);\n",
              "          const docLink = document.createElement('div');\n",
              "          docLink.innerHTML = docLinkHtml;\n",
              "          element.appendChild(docLink);\n",
              "        }\n",
              "      </script>\n",
              "    </div>\n",
              "  </div>\n",
              "  "
            ]
          },
          "metadata": {},
          "execution_count": 9
        }
      ],
      "source": [
        "dataset = SpeechCommandDataset(\n",
        "    path2dir='speech_commands', keywords=TaskConfig.keyword\n",
        ")\n",
        "dataset.csv.sample(5)"
      ]
    },
    {
      "cell_type": "code",
      "source": [
        "my_dataset = SpeechCommandDataset(\n",
        "    path2dir='my_dataset', keywords=TaskConfig.keyword,\n",
        "    return_path=True\n",
        ")\n",
        "my_dataset.csv"
      ],
      "metadata": {
        "colab": {
          "base_uri": "https://localhost:8080/",
          "height": 49
        },
        "id": "yOOr63fiTvdV",
        "outputId": "deea656f-e11d-4e91-9384-caf842324294"
      },
      "execution_count": 10,
      "outputs": [
        {
          "output_type": "execute_result",
          "data": {
            "text/plain": [
              "Empty DataFrame\n",
              "Columns: [path, keyword, label]\n",
              "Index: []"
            ],
            "text/html": [
              "\n",
              "  <div id=\"df-b7b22c80-3241-47b9-9139-9d29edfb7fa7\">\n",
              "    <div class=\"colab-df-container\">\n",
              "      <div>\n",
              "<style scoped>\n",
              "    .dataframe tbody tr th:only-of-type {\n",
              "        vertical-align: middle;\n",
              "    }\n",
              "\n",
              "    .dataframe tbody tr th {\n",
              "        vertical-align: top;\n",
              "    }\n",
              "\n",
              "    .dataframe thead th {\n",
              "        text-align: right;\n",
              "    }\n",
              "</style>\n",
              "<table border=\"1\" class=\"dataframe\">\n",
              "  <thead>\n",
              "    <tr style=\"text-align: right;\">\n",
              "      <th></th>\n",
              "      <th>path</th>\n",
              "      <th>keyword</th>\n",
              "      <th>label</th>\n",
              "    </tr>\n",
              "  </thead>\n",
              "  <tbody>\n",
              "  </tbody>\n",
              "</table>\n",
              "</div>\n",
              "      <button class=\"colab-df-convert\" onclick=\"convertToInteractive('df-b7b22c80-3241-47b9-9139-9d29edfb7fa7')\"\n",
              "              title=\"Convert this dataframe to an interactive table.\"\n",
              "              style=\"display:none;\">\n",
              "        \n",
              "  <svg xmlns=\"http://www.w3.org/2000/svg\" height=\"24px\"viewBox=\"0 0 24 24\"\n",
              "       width=\"24px\">\n",
              "    <path d=\"M0 0h24v24H0V0z\" fill=\"none\"/>\n",
              "    <path d=\"M18.56 5.44l.94 2.06.94-2.06 2.06-.94-2.06-.94-.94-2.06-.94 2.06-2.06.94zm-11 1L8.5 8.5l.94-2.06 2.06-.94-2.06-.94L8.5 2.5l-.94 2.06-2.06.94zm10 10l.94 2.06.94-2.06 2.06-.94-2.06-.94-.94-2.06-.94 2.06-2.06.94z\"/><path d=\"M17.41 7.96l-1.37-1.37c-.4-.4-.92-.59-1.43-.59-.52 0-1.04.2-1.43.59L10.3 9.45l-7.72 7.72c-.78.78-.78 2.05 0 2.83L4 21.41c.39.39.9.59 1.41.59.51 0 1.02-.2 1.41-.59l7.78-7.78 2.81-2.81c.8-.78.8-2.07 0-2.86zM5.41 20L4 18.59l7.72-7.72 1.47 1.35L5.41 20z\"/>\n",
              "  </svg>\n",
              "      </button>\n",
              "      \n",
              "  <style>\n",
              "    .colab-df-container {\n",
              "      display:flex;\n",
              "      flex-wrap:wrap;\n",
              "      gap: 12px;\n",
              "    }\n",
              "\n",
              "    .colab-df-convert {\n",
              "      background-color: #E8F0FE;\n",
              "      border: none;\n",
              "      border-radius: 50%;\n",
              "      cursor: pointer;\n",
              "      display: none;\n",
              "      fill: #1967D2;\n",
              "      height: 32px;\n",
              "      padding: 0 0 0 0;\n",
              "      width: 32px;\n",
              "    }\n",
              "\n",
              "    .colab-df-convert:hover {\n",
              "      background-color: #E2EBFA;\n",
              "      box-shadow: 0px 1px 2px rgba(60, 64, 67, 0.3), 0px 1px 3px 1px rgba(60, 64, 67, 0.15);\n",
              "      fill: #174EA6;\n",
              "    }\n",
              "\n",
              "    [theme=dark] .colab-df-convert {\n",
              "      background-color: #3B4455;\n",
              "      fill: #D2E3FC;\n",
              "    }\n",
              "\n",
              "    [theme=dark] .colab-df-convert:hover {\n",
              "      background-color: #434B5C;\n",
              "      box-shadow: 0px 1px 3px 1px rgba(0, 0, 0, 0.15);\n",
              "      filter: drop-shadow(0px 1px 2px rgba(0, 0, 0, 0.3));\n",
              "      fill: #FFFFFF;\n",
              "    }\n",
              "  </style>\n",
              "\n",
              "      <script>\n",
              "        const buttonEl =\n",
              "          document.querySelector('#df-b7b22c80-3241-47b9-9139-9d29edfb7fa7 button.colab-df-convert');\n",
              "        buttonEl.style.display =\n",
              "          google.colab.kernel.accessAllowed ? 'block' : 'none';\n",
              "\n",
              "        async function convertToInteractive(key) {\n",
              "          const element = document.querySelector('#df-b7b22c80-3241-47b9-9139-9d29edfb7fa7');\n",
              "          const dataTable =\n",
              "            await google.colab.kernel.invokeFunction('convertToInteractive',\n",
              "                                                     [key], {});\n",
              "          if (!dataTable) return;\n",
              "\n",
              "          const docLinkHtml = 'Like what you see? Visit the ' +\n",
              "            '<a target=\"_blank\" href=https://colab.research.google.com/notebooks/data_table.ipynb>data table notebook</a>'\n",
              "            + ' to learn more about interactive tables.';\n",
              "          element.innerHTML = '';\n",
              "          dataTable['output_type'] = 'display_data';\n",
              "          await google.colab.output.renderOutput(dataTable, element);\n",
              "          const docLink = document.createElement('div');\n",
              "          docLink.innerHTML = docLinkHtml;\n",
              "          element.appendChild(docLink);\n",
              "        }\n",
              "      </script>\n",
              "    </div>\n",
              "  </div>\n",
              "  "
            ]
          },
          "metadata": {},
          "execution_count": 10
        }
      ]
    },
    {
      "cell_type": "markdown",
      "metadata": {
        "id": "LUxfDJw1qUYi"
      },
      "source": [
        "### Augmentations"
      ]
    },
    {
      "cell_type": "code",
      "execution_count": 11,
      "metadata": {
        "id": "dkmkxPWQqUYe"
      },
      "outputs": [],
      "source": [
        "class AugsCreation:\n",
        "\n",
        "    def __init__(self):\n",
        "        self.background_noises = [\n",
        "            'speech_commands/_background_noise_/white_noise.wav',\n",
        "            'speech_commands/_background_noise_/dude_miaowing.wav',\n",
        "            'speech_commands/_background_noise_/doing_the_dishes.wav',\n",
        "            'speech_commands/_background_noise_/exercise_bike.wav',\n",
        "            'speech_commands/_background_noise_/pink_noise.wav',\n",
        "            'speech_commands/_background_noise_/running_tap.wav'\n",
        "        ]\n",
        "\n",
        "        self.noises = [\n",
        "            torchaudio.load(p)[0].squeeze()\n",
        "            for p in self.background_noises\n",
        "        ]\n",
        "\n",
        "    def add_rand_noise(self, audio):\n",
        "\n",
        "        # randomly choose noise\n",
        "        noise_num = torch.randint(low=0, high=len(\n",
        "            self.background_noises), size=(1,)).item()\n",
        "        noise = self.noises[noise_num]\n",
        "\n",
        "        noise_level = torch.Tensor([1])  # [0, 40]\n",
        "\n",
        "        noise_energy = torch.norm(noise)\n",
        "        audio_energy = torch.norm(audio)\n",
        "        alpha = (audio_energy / noise_energy) * \\\n",
        "            torch.pow(10, -noise_level / 20)\n",
        "\n",
        "        start = torch.randint(\n",
        "            low=0,\n",
        "            high=max(int(noise.size(0) - audio.size(0) - 1), 1),\n",
        "            size=(1,)\n",
        "        ).item()\n",
        "        noise_sample = noise[start: start + audio.size(0)]\n",
        "\n",
        "        audio_new = audio + alpha * noise_sample\n",
        "        audio_new.clamp_(-1, 1)\n",
        "        return audio_new\n",
        "\n",
        "    def __call__(self, wav):\n",
        "        aug_num = torch.randint(low=0, high=4, size=(1,)).item()   # choose 1 random aug from augs\n",
        "        augs = [\n",
        "            lambda x: x,\n",
        "            lambda x: (x + distributions.Normal(0, 0.01).sample(x.size())).clamp_(-1, 1),\n",
        "            lambda x: torchaudio.transforms.Vol(.25)(x),\n",
        "            lambda x: self.add_rand_noise(x)\n",
        "        ]\n",
        "\n",
        "        return augs[aug_num](wav)"
      ]
    },
    {
      "cell_type": "code",
      "execution_count": 12,
      "metadata": {
        "id": "ClWThxyYh9pM"
      },
      "outputs": [],
      "source": [
        "set_random_seed()\n",
        "indexes = torch.randperm(len(dataset))\n",
        "train_indexes = indexes[:int(len(dataset) * 0.8)]\n",
        "val_indexes = indexes[int(len(dataset) * 0.8):]\n",
        "\n",
        "train_df = dataset.csv.iloc[train_indexes].reset_index(drop=True)\n",
        "val_df = dataset.csv.iloc[val_indexes].reset_index(drop=True)"
      ]
    },
    {
      "cell_type": "code",
      "execution_count": 13,
      "metadata": {
        "id": "PDPLht5fqUYe"
      },
      "outputs": [],
      "source": [
        "# Sample is a dict of utt, word and label\n",
        "train_set = SpeechCommandDataset(csv=train_df, transform=AugsCreation())\n",
        "val_set = SpeechCommandDataset(csv=val_df)"
      ]
    },
    {
      "cell_type": "markdown",
      "metadata": {
        "id": "2vbPDqd6qUYj"
      },
      "source": [
        "### Sampler for oversampling:"
      ]
    },
    {
      "cell_type": "code",
      "execution_count": 14,
      "metadata": {
        "id": "rfnjRKo2qUYj"
      },
      "outputs": [],
      "source": [
        "# We should provide to WeightedRandomSampler _weight for every sample_; by default it is 1/len(target)\n",
        "\n",
        "def get_sampler(target):\n",
        "    class_sample_count = np.array(\n",
        "        [len(np.where(target == t)[0]) for t in np.unique(target)])   # for every class count it's number of occ.\n",
        "    weight = 1. / class_sample_count\n",
        "    samples_weight = np.array([weight[t] for t in target])\n",
        "    samples_weight = torch.from_numpy(samples_weight)\n",
        "    samples_weigth = samples_weight.float()\n",
        "    sampler = WeightedRandomSampler(samples_weight, len(samples_weight))\n",
        "    return sampler"
      ]
    },
    {
      "cell_type": "code",
      "execution_count": 15,
      "metadata": {
        "id": "UM8gLmHeqUYj"
      },
      "outputs": [],
      "source": [
        "train_sampler = get_sampler(train_set.csv['label'].values)"
      ]
    },
    {
      "cell_type": "code",
      "execution_count": 16,
      "metadata": {
        "id": "lyBqbxp0h9pO"
      },
      "outputs": [],
      "source": [
        "class Collator:\n",
        "    \n",
        "    def __call__(self, data):\n",
        "        wavs, labels, paths = [], [], []\n",
        "\n",
        "        for el in data:\n",
        "            wavs.append(el['wav'])\n",
        "            labels.append(el['label'])\n",
        "            try:\n",
        "                paths.append(el['path'])\n",
        "            except:\n",
        "              continue\n",
        "\n",
        "        # torch.nn.utils.rnn.pad_sequence takes list(Tensors) and returns padded (with 0.0) Tensor\n",
        "        wavs = pad_sequence(wavs, batch_first=True)    \n",
        "        labels = torch.Tensor(labels).long()\n",
        "        if len(paths) == len(wavs):\n",
        "            return wavs, labels, paths\n",
        "        return wavs, labels"
      ]
    },
    {
      "cell_type": "markdown",
      "metadata": {
        "id": "e8G9xPRVqUYk"
      },
      "source": [
        "###  Dataloaders"
      ]
    },
    {
      "cell_type": "code",
      "execution_count": 17,
      "metadata": {
        "id": "6wGBMcQiqUYk"
      },
      "outputs": [],
      "source": [
        "# Here we are obliged to use shuffle=False because of our sampler with randomness inside.\n",
        "\n",
        "train_loader = DataLoader(train_set, batch_size=TaskConfig.batch_size,\n",
        "                          shuffle=False, collate_fn=Collator(),\n",
        "                          sampler=train_sampler,\n",
        "                          num_workers=2, pin_memory=True)\n",
        "\n",
        "val_loader = DataLoader(val_set, batch_size=TaskConfig.batch_size,\n",
        "                        shuffle=False, collate_fn=Collator(),\n",
        "                        num_workers=2, pin_memory=True)\n",
        "\n",
        "my_loader = DataLoader(my_dataset, batch_size=1,\n",
        "                        shuffle=False, collate_fn=Collator(),\n",
        "                        num_workers=2, pin_memory=True)"
      ]
    },
    {
      "cell_type": "markdown",
      "metadata": {
        "id": "kTlsn6cpqUYk"
      },
      "source": [
        "### Creating MelSpecs on GPU for speeeed: "
      ]
    },
    {
      "cell_type": "code",
      "execution_count": 18,
      "metadata": {
        "id": "pRXMt6it56fW"
      },
      "outputs": [],
      "source": [
        "class LogMelspec:\n",
        "\n",
        "    def __init__(self, is_train, config):\n",
        "        # with augmentations\n",
        "        if is_train:\n",
        "            self.melspec = nn.Sequential(\n",
        "                torchaudio.transforms.MelSpectrogram(\n",
        "                    sample_rate=config.sample_rate,\n",
        "                    n_fft=400,\n",
        "                    win_length=400,\n",
        "                    hop_length=160,\n",
        "                    n_mels=config.n_mels\n",
        "                ),\n",
        "                torchaudio.transforms.FrequencyMasking(freq_mask_param=15),\n",
        "                torchaudio.transforms.TimeMasking(time_mask_param=35),\n",
        "            ).to(config.device)\n",
        "\n",
        "        # no augmentations\n",
        "        else:\n",
        "            self.melspec = torchaudio.transforms.MelSpectrogram(\n",
        "                sample_rate=config.sample_rate,\n",
        "                n_fft=400,\n",
        "                win_length=400,\n",
        "                hop_length=160,\n",
        "                n_mels=config.n_mels\n",
        "            ).to(config.device)\n",
        "\n",
        "    def __call__(self, batch):\n",
        "        # already on device\n",
        "        return torch.log(self.melspec(batch).clamp_(min=1e-9, max=1e9))"
      ]
    },
    {
      "cell_type": "code",
      "execution_count": 19,
      "metadata": {
        "id": "Pqkz4_gn8BiF"
      },
      "outputs": [],
      "source": [
        "melspec_train = LogMelspec(is_train=True, config=TaskConfig)\n",
        "melspec_val = LogMelspec(is_train=False, config=TaskConfig)"
      ]
    },
    {
      "cell_type": "markdown",
      "metadata": {
        "id": "CcEP5cEZqUYl"
      },
      "source": [
        "# Models"
      ]
    },
    {
      "cell_type": "code",
      "execution_count": 20,
      "metadata": {
        "id": "2cP_pFIsy5p2"
      },
      "outputs": [],
      "source": [
        "class SmallAttention(nn.Module):\n",
        "    def __init__(self, hidden_size: int, scale: int = 2):\n",
        "        assert hidden_size >= scale\n",
        "        super().__init__()\n",
        "\n",
        "        self.energy = nn.Sequential(\n",
        "            nn.Linear(hidden_size, hidden_size // scale),\n",
        "            nn.Tanh(),\n",
        "            nn.Linear(hidden_size // scale, 1)\n",
        "        )\n",
        "    \n",
        "    def forward(self, input):\n",
        "        energy = self.energy(input)\n",
        "        alpha = torch.softmax(energy, dim=-2)\n",
        "        return (input * alpha).sum(dim=-2)\n",
        "\n",
        "class Attention(nn.Module):\n",
        "\n",
        "    def __init__(self, hidden_size: int):\n",
        "        super().__init__()\n",
        "\n",
        "        self.energy = nn.Sequential(\n",
        "            nn.Linear(hidden_size, hidden_size),\n",
        "            nn.Tanh(),\n",
        "            nn.Linear(hidden_size, 1)\n",
        "        )\n",
        "    \n",
        "    def forward(self, input):\n",
        "        energy = self.energy(input)\n",
        "        alpha = torch.softmax(energy, dim=-2)\n",
        "        return (input * alpha).sum(dim=-2)\n",
        "\n",
        "class CRNN(nn.Module):\n",
        "\n",
        "    def __init__(self, config: TaskConfig):\n",
        "        super().__init__()\n",
        "        self.config = config\n",
        "\n",
        "        self.conv = nn.Sequential(\n",
        "            nn.Conv2d(\n",
        "                in_channels=1, out_channels=config.cnn_out_channels,\n",
        "                kernel_size=config.kernel_size, stride=config.stride\n",
        "            ),\n",
        "            nn.Flatten(start_dim=1, end_dim=2),\n",
        "        )\n",
        "\n",
        "        self.conv_out_frequency = (config.n_mels - config.kernel_size[0]) // \\\n",
        "            config.stride[0] + 1\n",
        "        \n",
        "        self.gru = nn.GRU(\n",
        "            input_size=self.conv_out_frequency * config.cnn_out_channels,\n",
        "            hidden_size=config.hidden_size,\n",
        "            num_layers=config.gru_num_layers,\n",
        "            dropout=0.1,\n",
        "            bidirectional=config.bidirectional,\n",
        "            batch_first=True\n",
        "        )\n",
        "\n",
        "        self.attention = Attention(config.hidden_size)\n",
        "        self.classifier = nn.Linear(config.hidden_size, config.num_classes)\n",
        "    \n",
        "    def forward(self, input):\n",
        "        input = input.unsqueeze(dim=1)\n",
        "        conv_output = self.conv(input).transpose(-1, -2)\n",
        "        gru_output, _ = self.gru(conv_output)\n",
        "        contex_vector = self.attention(gru_output)\n",
        "        output = self.classifier(contex_vector)\n",
        "        return output\n",
        "\n",
        "\n",
        "class StreamingCRNNPrev(CRNN, nn.Module):\n",
        "\n",
        "    def __init__(self, config: TaskConfig):\n",
        "        super().__init__(config)\n",
        "        self.buffer = None\n",
        "        self.last_hidden = None\n",
        "        self.streaming_mode = True\n",
        "        self.gru_output_buffer = None\n",
        "    \n",
        "    def flush(self):\n",
        "        self.buffer = None\n",
        "        self.gru_output_buffer = None\n",
        "        self.last_hidden = None\n",
        "        self.streaming_mode = False\n",
        "\n",
        "    def forward(self, input):\n",
        "        if self.training or not self.streaming_mode:\n",
        "            output = super().forward(input)\n",
        "            \n",
        "        else:   \n",
        "            n_input_frames = input.size()[-1]\n",
        "\n",
        "            # набираем буфер (чтобы размерности были больше kernel_size)\n",
        "            if self.buffer is None:\n",
        "                self.buffer = input.unsqueeze(dim=1)\n",
        "                return None\n",
        "            elif self.buffer.size()[-1] < self.config.kernel_size[1]:  # self.config.max_window_length:  \n",
        "                self.buffer = torch.cat((\n",
        "                    self.buffer,\n",
        "                    input.unsqueeze(dim=1)\n",
        "                    ),\n",
        "                    dim=-1\n",
        "                )\n",
        "                return None\n",
        "            # добавляем в буфер новые фреймы + оставляем kernel_size - 1 пердыдущих\n",
        "            # чтобы первый фрейм входа был связан с предыдущими\n",
        "            else:\n",
        "                self.buffer = torch.cat((\n",
        "                    self.buffer[:, :, :, -(self.config.kernel_size[1] - 1):],  # -(self.config.max_window_length - n_input_frames):],\n",
        "                    input.unsqueeze(dim=1)\n",
        "                    ), \n",
        "                    dim=-1\n",
        "                )\n",
        "            conv_output = self.conv(self.buffer).transpose(-1, -2)\n",
        "\n",
        "            # применяем gru и сохраняем hidden_state (gru)\n",
        "            if self.last_hidden is None:\n",
        "                gru_output, self.last_hidden = self.gru(conv_output)\n",
        "            else:\n",
        "                gru_output, self.last_hidden = self.gru(conv_output, self.last_hidden)\n",
        "\n",
        "            contex_vector = self.attention(gru_output)\n",
        "            output = self.classifier(contex_vector)\n",
        "        return output\n",
        "\n",
        "\n",
        "class StreamingCRNN(CRNN, nn.Module):\n",
        "\n",
        "    def __init__(self, config: TaskConfig):\n",
        "        super().__init__(config)\n",
        "        self.buffer = torch.tensor([])\n",
        "        self.last_hidden = torch.tensor([])\n",
        "        self.gru_chunk_buffer: List[torch.tensor] = []\n",
        "        self.streaming_mode = True\n",
        "\n",
        "    def forward(self, input, flush=False, max_window_length=101, streaming_step_size=40):\n",
        "        if self.training or not self.streaming_mode:\n",
        "            # output = super().forward(input)\n",
        "            input = input.unsqueeze(dim=1)\n",
        "            conv_output = self.conv(input).transpose(-1, -2)\n",
        "            gru_output, _ = self.gru(conv_output)\n",
        "            contex_vector = self.attention(gru_output)\n",
        "            output = self.classifier(contex_vector)\n",
        "            \n",
        "        else: \n",
        "            if flush:\n",
        "                self.buffer = torch.tensor([])\n",
        "                self.last_hidden = torch.tensor([])\n",
        "                self.gru_chunk_buffer = []\n",
        "                self.streaming_mode = True\n",
        "\n",
        "            n_input_frames = input.size()[-1]\n",
        "            max_chunk_n = max_window_length // streaming_step_size\n",
        "\n",
        "            # набираем буфер (чтобы размерности были больше kernel_size)\n",
        "            if len(self.buffer) == 0:\n",
        "                self.buffer = input.unsqueeze(dim=1)\n",
        "                return None\n",
        "            elif self.buffer.size()[-1] < self.conv[0].kernel_size[1] - 1:  # self.config.max_window_length:  \n",
        "                self.buffer = torch.cat((\n",
        "                    self.buffer,\n",
        "                    input.unsqueeze(dim=1)\n",
        "                    ),\n",
        "                    dim=-1\n",
        "                )\n",
        "                return None\n",
        "            # добавляем в буфер новые фреймы + оставляем kernel_size - 1 пердыдущих\n",
        "            # чтобы первый фрейм входа был связа с предыдущими\n",
        "            else:\n",
        "                self.buffer = torch.cat((\n",
        "                    self.buffer[:, :, :, -(self.conv[0].kernel_size[1] - 1):],\n",
        "                    input.unsqueeze(dim=1)\n",
        "                    ), \n",
        "                    dim=-1\n",
        "                )\n",
        "            conv_output = self.conv(self.buffer).transpose(-1, -2)\n",
        "\n",
        "            # применяем gru и сохраняем hidden_state (gru)\n",
        "            if len(self.last_hidden) == 0:\n",
        "                gru_output, self.last_hidden = self.gru(conv_output)\n",
        "            else:\n",
        "                gru_output, self.last_hidden = self.gru(conv_output, self.last_hidden)\n",
        "\n",
        "            # заполняем буфер выходов gru\n",
        "            if len(self.gru_chunk_buffer) == 0:\n",
        "                self.gru_output_buffer = [gru_output]\n",
        "            else:\n",
        "                self.gru_output_buffer.append(gru_output)\n",
        "                self.gru_output_buffer = self.gru_output_buffer[-max_chunk_n:]\n",
        "            \n",
        "            contex_vector = self.attention(torch.cat(self.gru_output_buffer, dim=-2))\n",
        "            output = self.classifier(contex_vector)\n",
        "        return output"
      ]
    },
    {
      "cell_type": "markdown",
      "source": [
        "# Training Functions"
      ],
      "metadata": {
        "id": "j7-iqO5jralt"
      }
    },
    {
      "cell_type": "code",
      "execution_count": 21,
      "metadata": {
        "id": "DmmSFvWaqUYn"
      },
      "outputs": [],
      "source": [
        "def train_epoch(model, opt, loader, log_melspec, device):\n",
        "    model.train()\n",
        "    for i, (batch, labels) in tqdm(enumerate(loader), total=len(loader)):\n",
        "        batch, labels = batch.to(device), labels.to(device)\n",
        "        batch = log_melspec(batch)\n",
        "\n",
        "        opt.zero_grad()\n",
        "\n",
        "        # run model # with autocast():\n",
        "        logits = model(batch)\n",
        "        # we need probabilities so we use softmax & CE separately\n",
        "        probs = F.softmax(logits, dim=-1)\n",
        "        loss = F.cross_entropy(logits, labels)\n",
        "\n",
        "        loss.backward()\n",
        "        torch.nn.utils.clip_grad_norm_(model.parameters(), 5)\n",
        "\n",
        "        opt.step()\n",
        "\n",
        "        # logging\n",
        "        argmax_probs = torch.argmax(probs, dim=-1)\n",
        "        FA, FR = count_FA_FR(argmax_probs, labels)\n",
        "        acc = torch.sum(argmax_probs == labels) / torch.numel(argmax_probs)\n",
        "\n",
        "    return acc\n",
        "\n",
        "\n",
        "def train_distillation_epoch(model, teacher, opt, loader, log_melspec, device, t=1, target_loss_w=0.5):\n",
        "    model.train(), teacher.eval()\n",
        "\n",
        "    for i, (batch, labels) in tqdm(enumerate(loader), total=len(loader)):\n",
        "        batch, labels = batch.to(device), labels.to(device)\n",
        "        batch = log_melspec(batch)\n",
        "\n",
        "        opt.zero_grad()\n",
        "\n",
        "        # run model # with autocast():\n",
        "        logits = model(batch)\n",
        "        # we need probabilities so we use softmax & CE separately\n",
        "        probs = F.softmax(logits, dim=-1)\n",
        "\n",
        "        with torch.no_grad():\n",
        "            teacher_logits = teacher(batch)\n",
        "            teacher_probs = F.softmax(teacher_logits / t, dim=-1)\n",
        "\n",
        "        distill_loss = F.kl_div(torch.log(F.softmax(logits / t, dim=-1)), torch.log(teacher_probs), reduction='batchmean')\n",
        "        target_loss = F.cross_entropy(logits, labels)\n",
        "        loss = target_loss_w * target_loss + (1 - target_loss_w) * distill_loss\n",
        "\n",
        "        loss.backward()\n",
        "        torch.nn.utils.clip_grad_norm_(model.parameters(), 5)\n",
        "\n",
        "        opt.step()\n",
        "\n",
        "        # logging\n",
        "        argmax_probs = torch.argmax(probs, dim=-1)\n",
        "        FA, FR = count_FA_FR(argmax_probs, labels)\n",
        "        acc = torch.sum(argmax_probs == labels) / torch.numel(argmax_probs)\n",
        "\n",
        "    return acc"
      ]
    },
    {
      "cell_type": "code",
      "execution_count": 46,
      "metadata": {
        "id": "UIeRbn4tqUYo"
      },
      "outputs": [],
      "source": [
        "@torch.no_grad()\n",
        "def validation(model, loader, log_melspec, device):\n",
        "    model.eval()\n",
        "\n",
        "    val_losses, accs, FAs, FRs = [], [], [], []\n",
        "    all_probs, all_labels = [], []\n",
        "    for i, (batch, labels) in tqdm(enumerate(loader), total=len(loader)):\n",
        "        batch, labels = batch.to(device), labels.to(device)\n",
        "        batch = log_melspec(batch)\n",
        "\n",
        "        output = model(batch)\n",
        "        # we need probabilities so we use softmax & CE separately\n",
        "        probs = F.softmax(output, dim=-1)\n",
        "\n",
        "        loss = F.cross_entropy(output, labels)\n",
        "\n",
        "        # logging\n",
        "        argmax_probs = torch.argmax(probs, dim=-1)\n",
        "        all_probs.append(probs[:, 1].cpu())\n",
        "        all_labels.append(labels.cpu())\n",
        "        val_losses.append(loss.item())\n",
        "        accs.append(\n",
        "            torch.sum(argmax_probs == labels).item() /  # ???\n",
        "            torch.numel(argmax_probs)\n",
        "        )\n",
        "        FA, FR = count_FA_FR(argmax_probs, labels)\n",
        "        FAs.append(FA)\n",
        "        FRs.append(FR)\n",
        "\n",
        "    # area under FA/FR curve for whole loader\n",
        "    au_fa_fr = get_au_fa_fr(torch.cat(all_probs, dim=0).cpu(), all_labels)\n",
        "    return au_fa_fr\n",
        "\n",
        "\n",
        "def train(model, config, opt, teacher=None):\n",
        "    history = defaultdict(list)\n",
        "    for n in range(config.num_epochs):\n",
        "        if teacher is None:\n",
        "            train_epoch(model, opt, train_loader,\n",
        "                        melspec_train, config.device)\n",
        "        else:\n",
        "            train_distillation_epoch(model, teacher, opt, train_loader,\n",
        "                melspec_train, config.device,\n",
        "                t=config.t, target_loss_w=config.target_loss_w)\n",
        "\n",
        "        au_fa_fr = validation(model, val_loader,\n",
        "                              melspec_val, config.device)\n",
        "        history['val_metric'].append(au_fa_fr)\n",
        "\n",
        "        clear_output()\n",
        "        plt.plot(history['val_metric'])\n",
        "        plt.ylabel('Metric')\n",
        "        plt.xlabel('Epoch')\n",
        "        plt.grid()\n",
        "        plt.show()\n",
        "\n",
        "        print('END OF EPOCH', n)\n",
        "    return history"
      ]
    },
    {
      "cell_type": "markdown",
      "source": [
        "# Streaming Model Training"
      ],
      "metadata": {
        "id": "VlOkiCcasIyp"
      }
    },
    {
      "cell_type": "code",
      "source": [
        "set_random_seed()\n",
        "history = defaultdict(list)\n",
        "streaming_config = TaskConfig(\n",
        "    hidden_size=32,\n",
        "    num_epochs=20\n",
        ")\n",
        "streaming_model = StreamingCRNN(streaming_config).to(streaming_config.device)\n",
        "streaming_model.streaming_mode = False\n",
        "\n",
        "print(streaming_model)\n",
        "\n",
        "streaming_opt = torch.optim.Adam(\n",
        "    streaming_model.parameters(),\n",
        "    lr=streaming_config.learning_rate,\n",
        "    weight_decay=streaming_config.weight_decay\n",
        ")"
      ],
      "metadata": {
        "colab": {
          "base_uri": "https://localhost:8080/"
        },
        "id": "g0gYzg_MsILz",
        "outputId": "51b0ee20-f9b3-4e06-85ac-14e5c15deb57"
      },
      "execution_count": null,
      "outputs": [
        {
          "output_type": "stream",
          "name": "stdout",
          "text": [
            "StreamingCRNN(\n",
            "  (conv): Sequential(\n",
            "    (0): Conv2d(1, 8, kernel_size=(5, 20), stride=(2, 8))\n",
            "    (1): Flatten(start_dim=1, end_dim=2)\n",
            "  )\n",
            "  (gru): GRU(144, 32, num_layers=2, batch_first=True, dropout=0.1)\n",
            "  (attention): Attention(\n",
            "    (energy): Sequential(\n",
            "      (0): Linear(in_features=32, out_features=32, bias=True)\n",
            "      (1): Tanh()\n",
            "      (2): Linear(in_features=32, out_features=1, bias=True)\n",
            "    )\n",
            "  )\n",
            "  (classifier): Linear(in_features=32, out_features=2, bias=True)\n",
            ")\n"
          ]
        }
      ]
    },
    {
      "cell_type": "code",
      "source": [
        "train(streaming_model, streaming_config, streaming_opt)"
      ],
      "metadata": {
        "colab": {
          "base_uri": "https://localhost:8080/",
          "height": 297
        },
        "id": "qxM6UU_ptkXl",
        "outputId": "a3373cab-dc2c-4eb5-dfde-236d9c2832d3"
      },
      "execution_count": null,
      "outputs": [
        {
          "output_type": "display_data",
          "data": {
            "text/plain": [
              "<Figure size 432x288 with 1 Axes>"
            ],
            "image/png": "[encoded data removed]"
          },
          "metadata": {
            "needs_background": "light"
          }
        },
        {
          "output_type": "stream",
          "name": "stdout",
          "text": [
            "END OF EPOCH 19\n"
          ]
        }
      ]
    },
    {
      "cell_type": "code",
      "source": [
        "torch.save(streaming_model.state_dict(), \"streaming_model_state_dict\")"
      ],
      "metadata": {
        "id": "OThUsrCXSx4I"
      },
      "execution_count": null,
      "outputs": []
    },
    {
      "cell_type": "markdown",
      "source": [
        "# Streaming Model Inference"
      ],
      "metadata": {
        "id": "JVd8Ar0GS-W_"
      }
    },
    {
      "cell_type": "code",
      "source": [
        "streaming_config = TaskConfig(hidden_size=32)\n",
        "\n",
        "streaming_model = StreamingCRNN(streaming_config).to(streaming_config.device)\n",
        "streaming_model.load_state_dict(torch.load(\"streaming_model_state_dict\"))\n",
        "\n",
        "streaming_model.eval()\n",
        "streaming_model.streaming_mode = True\n",
        "streaming_melspec = LogMelspec(is_train=False, config=streaming_config)\n",
        "max_window_length = 101\n",
        "streaming_step_size = 40\n",
        "\n",
        "probs_history = defaultdict(list)\n",
        "for obj, label, path in my_loader:\n",
        "\n",
        "    obj, label = obj.to(streaming_config.device), label.to(streaming_config.device)\n",
        "    obj = obj[:, 1::3]  # sample rate 16000 from 48000\n",
        "    batch = streaming_melspec(obj)\n",
        "\n",
        "    for i in range(0, batch.size()[-1], streaming_step_size):\n",
        "        chunk = batch[:, :, i : i + streaming_step_size]\n",
        "\n",
        "        flush = True if i == 0 else False\n",
        "        output = streaming_model(chunk, flush, max_window_length, streaming_step_size)\n",
        "\n",
        "        if output is not None:\n",
        "            probs = F.softmax(output, dim=-1)\n",
        "\n",
        "            argmax_probs = torch.argmax(probs, dim=-1)\n",
        "            probs_history[path[0]].append(probs[:, 1].cpu().item())"
      ],
      "metadata": {
        "id": "OxiILnFCyzWr"
      },
      "execution_count": null,
      "outputs": []
    },
    {
      "cell_type": "code",
      "source": [
        "title_dict = {\n",
        "    \"my_dataset/sheila/sheila_alphabet.wav\": [\"abc...xyz Sheila abc...xyz\", \"Sheila\"],\n",
        "    \"my_dataset/sheila/friend_sheila.wav\": [\"My friend's name is Sheila. She is very kind and beautiful\", \"Sheila\"],\n",
        "    \"my_dataset/sheila/sheila.wav\": [\"Sheila\", \"Sheila\"],\n",
        "    \"my_dataset/sheila/sheila_ones.wav\": [\"one one ... one Sheila one ... one one\", \"Sheila\"],\n",
        "    \"my_dataset/not_sheila/alphabet.wav\": [\"abc...xyz abc...xyz\", \"not Sheila\"],\n",
        "    \"my_dataset/not_sheila/friend_alex.wav\": [\"My friend's name is Alex. He is very kind and funny\", \"not Sheila\"]\n",
        "}"
      ],
      "metadata": {
        "id": "u1Q0RtNul8t_"
      },
      "execution_count": null,
      "outputs": []
    },
    {
      "cell_type": "code",
      "source": [
        "fig, axs = plt.subplots((len(probs_history) + 2) // 3, 3, figsize=(35,20))\n",
        "for i, path in enumerate(probs_history):\n",
        "    raw, col = i // 3, i - (i // 3) * 3\n",
        "    axs[raw, col].plot(range(len(probs_history[path])), probs_history[path] , label=title_dict[path][1])\n",
        "    axs[raw, col].legend(fontsize=14)\n",
        "    axs[raw, col].set_title(title_dict[path][0], fontsize=15)\n",
        "    axs[raw, col].set_ylabel(\"Вероятность Sheil'ы\", fontsize=15)\n",
        "plt.show()"
      ],
      "metadata": {
        "id": "k8NDIfUS9blX",
        "colab": {
          "base_uri": "https://localhost:8080/",
          "height": 914
        },
        "outputId": "e982c48d-9a9c-4b74-e392-d0637fdc21c2"
      },
      "execution_count": null,
      "outputs": [
        {
          "output_type": "display_data",
          "data": {
            "text/plain": [
              "<Figure size 2520x1440 with 6 Axes>"
            ],
            "image/png": "[encoded data removed]"
          },
          "metadata": {
            "needs_background": "light"
          }
        }
      ]
    },
    {
      "cell_type": "markdown",
      "metadata": {
        "id": "GSNW-nZCJ4Q0"
      },
      "source": [
        "# Training"
      ]
    },
    {
      "cell_type": "code",
      "execution_count": null,
      "metadata": {
        "colab": {
          "base_uri": "https://localhost:8080/"
        },
        "id": "Q8sVpHNoocgA",
        "outputId": "a485266e-aa05-4946-dbff-1ea273298395"
      },
      "outputs": [
        {
          "output_type": "stream",
          "name": "stdout",
          "text": [
            "CRNN(\n",
            "  (conv): Sequential(\n",
            "    (0): Conv2d(1, 8, kernel_size=(5, 20), stride=(2, 8))\n",
            "    (1): Flatten(start_dim=1, end_dim=2)\n",
            "  )\n",
            "  (gru): GRU(144, 32, num_layers=2, batch_first=True, dropout=0.1)\n",
            "  (attention): Attention(\n",
            "    (energy): Sequential(\n",
            "      (0): Linear(in_features=32, out_features=32, bias=True)\n",
            "      (1): Tanh()\n",
            "      (2): Linear(in_features=32, out_features=1, bias=True)\n",
            "    )\n",
            "  )\n",
            "  (classifier): Linear(in_features=32, out_features=2, bias=True)\n",
            ")\n"
          ]
        }
      ],
      "source": [
        "set_random_seed()\n",
        "teacher_config = TaskConfig(hidden_size=32)\n",
        "teacher = CRNN(teacher_config).to(teacher_config.device)\n",
        "\n",
        "print(teacher)\n",
        "\n",
        "teacher_opt = torch.optim.Adam(\n",
        "    teacher.parameters(),\n",
        "    lr=teacher_config.learning_rate,\n",
        "    weight_decay=teacher_config.weight_decay\n",
        ")"
      ]
    },
    {
      "cell_type": "code",
      "execution_count": null,
      "metadata": {
        "colab": {
          "base_uri": "https://localhost:8080/"
        },
        "id": "zedXm9dmINAE",
        "outputId": "90581924-6045-4891-8405-05d80b023882"
      },
      "outputs": [
        {
          "output_type": "execute_result",
          "data": {
            "text/plain": [
              "25387"
            ]
          },
          "metadata": {},
          "execution_count": 24
        }
      ],
      "source": [
        "sum([p.numel() for p in teacher.parameters()])"
      ]
    },
    {
      "cell_type": "code",
      "execution_count": null,
      "metadata": {
        "colab": {
          "base_uri": "https://localhost:8080/",
          "height": 297
        },
        "id": "32oooz4lqUYo",
        "outputId": "bbb277b8-c2b3-4f4e-9222-946fc4dc45c3",
        "scrolled": false
      },
      "outputs": [
        {
          "output_type": "display_data",
          "data": {
            "text/plain": [
              "<Figure size 432x288 with 1 Axes>"
            ],
            "image/png": "[encoded data removed]"
          },
          "metadata": {
            "needs_background": "light"
          }
        },
        {
          "output_type": "stream",
          "name": "stdout",
          "text": [
            "END OF EPOCH 19\n"
          ]
        }
      ],
      "source": [
        "teacher_history = train(teacher, teacher_config, teacher_opt)"
      ]
    },
    {
      "cell_type": "code",
      "execution_count": null,
      "metadata": {
        "id": "WBkTUHZcVugz",
        "colab": {
          "base_uri": "https://localhost:8080/"
        },
        "outputId": "7d727a0d-5a8d-4efb-eb13-578fce41c22a"
      },
      "outputs": [
        {
          "output_type": "execute_result",
          "data": {
            "text/plain": [
              "defaultdict(list,\n",
              "            {'val_metric': [0.0005324783031159102,\n",
              "              0.0004132287998023548,\n",
              "              0.0003083610861593027,\n",
              "              0.00022228517984920307,\n",
              "              0.0001794083504788435,\n",
              "              0.0001610402390241508,\n",
              "              0.00012009092752249355,\n",
              "              0.00010986255096845093,\n",
              "              0.00012648813852945604,\n",
              "              0.0001092240233772709,\n",
              "              9.300422905178205e-05,\n",
              "              7.834196464496597e-05,\n",
              "              8.190459055089564e-05,\n",
              "              6.471208596968395e-05,\n",
              "              6.526110034714716e-05,\n",
              "              5.2037014907381424e-05,\n",
              "              6.610849210366645e-05,\n",
              "              6.004546376124678e-05,\n",
              "              5.077487859397418e-05,\n",
              "              4.629623413434233e-05]})"
            ]
          },
          "metadata": {},
          "execution_count": 29
        }
      ],
      "source": [
        "teacher_history"
      ]
    },
    {
      "cell_type": "code",
      "source": [
        "torch.save(teacher, '/content/drive/MyDrive/teacher')\n",
        "torch.save(teacher_history, '/content/drive/MyDrive/teacher_history')"
      ],
      "metadata": {
        "id": "zC91ApXLfjMq"
      },
      "execution_count": null,
      "outputs": []
    },
    {
      "cell_type": "markdown",
      "source": [
        "# MACs and Memory Dependence on hidden_size и cnn_out_channels"
      ],
      "metadata": {
        "id": "x55t7y0NZg_w"
      }
    },
    {
      "cell_type": "code",
      "source": [
        "models_metadata = defaultdict(dict)\n",
        "tmp_config = TaskConfig()\n",
        "\n",
        "inp = torch.randn(1, 2 * 16_000)\n",
        "melspec_tmp = LogMelspec(is_train=False, config=tmp_config) \n",
        "spec = melspec_tmp(inp.to(tmp_config.device))\n",
        "\n",
        "n_chs = [2, 4, 6, 8]\n",
        "hid_ss = [2, 4, 8, 16, 24]\n",
        "\n",
        "for n_ch in n_chs:\n",
        "    for hid_s in hid_ss:\n",
        "\n",
        "        tmp_config.cnn_out_channels = n_ch\n",
        "        tmp_config.hidden_size = hid_s\n",
        "        tmp = CRNN(tmp_config).to(tmp_config.device)\n",
        "\n",
        "        macs = profile(tmp, (spec, ))[0]\n",
        "        memory = get_size_in_megabytes(tmp) * 10**3\n",
        "\n",
        "        models_metadata[f\"n_ch{n_ch}hid_s{hid_s}\"] = {\"macs\": macs, \"memory\": memory}\n",
        "\n",
        "torch.save(models_metadata, '/content/drive/MyDrive/models_metadata')"
      ],
      "metadata": {
        "id": "eh1EIKxTSy8O"
      },
      "execution_count": null,
      "outputs": []
    },
    {
      "cell_type": "code",
      "source": [
        "for n_ch in n_chs:\n",
        "    n_ch_macs, n_ch_memory = [], []\n",
        "    for hid_s in hid_ss:\n",
        "        n_ch_macs.append(models_metadata[f\"n_ch{n_ch}hid_s{hid_s}\"][\"macs\"])\n",
        "        n_ch_memory.append(models_metadata[f\"n_ch{n_ch}hid_s{hid_s}\"][\"memory\"])\n",
        "\n",
        "    fig, axs = plt.subplots(1, 2, figsize=(20, 8))\n",
        "\n",
        "    axs[0].plot(hid_ss, n_ch_macs)\n",
        "    axs[0].set_title(f\"Зависимость MACs от hidden_size для cnn_out_ch={n_ch}\", fontsize=15)\n",
        "    axs[0].set_ylabel(\"MACs\", fontsize=15)\n",
        "    axs[0].set_ylabel(\"hidden_size\", fontsize=15)\n",
        "\n",
        "    axs[1].plot(hid_ss, n_ch_memory)\n",
        "    axs[1].set_title(f\"Зависимость памяти(KB) от hidden_size для cnn_out_ch={n_ch}\", fontsize=15)\n",
        "    axs[1].set_ylabel(\"memory\", fontsize=15)\n",
        "    axs[1].set_ylabel(\"memory(KB)\", fontsize=15)\n",
        "\n",
        "    plt.show()"
      ],
      "metadata": {
        "colab": {
          "base_uri": "https://localhost:8080/",
          "height": 1000
        },
        "id": "3AbdB3KZI2RA",
        "outputId": "0cd683a6-68a5-429c-9f27-2bd1faa12d33"
      },
      "execution_count": null,
      "outputs": [
        {
          "output_type": "display_data",
          "data": {
            "text/plain": [
              "<Figure size 1440x576 with 2 Axes>"
            ],
            "image/png": "[encoded data removed]"
          },
          "metadata": {
            "needs_background": "light"
          }
        },
        {
          "output_type": "display_data",
          "data": {
            "text/plain": [
              "<Figure size 1440x576 with 2 Axes>"
            ],
            "image/png": "[encoded data removed]"
          },
          "metadata": {
            "needs_background": "light"
          }
        },
        {
          "output_type": "display_data",
          "data": {
            "text/plain": [
              "<Figure size 1440x576 with 2 Axes>"
            ],
            "image/png": "[encoded data removed]"
          },
          "metadata": {
            "needs_background": "light"
          }
        },
        {
          "output_type": "display_data",
          "data": {
            "text/plain": [
              "<Figure size 1440x576 with 2 Axes>"
            ],
            "image/png": "[encoded data removed]"
          },
          "metadata": {
            "needs_background": "light"
          }
        }
      ]
    },
    {
      "cell_type": "code",
      "source": [
        "for n_ch in n_chs:\n",
        "    plt.plot(hid_ss, )\n"
      ],
      "metadata": {
        "id": "6oLSdXUhUs6g"
      },
      "execution_count": null,
      "outputs": []
    },
    {
      "cell_type": "markdown",
      "source": [
        "# Dark Knowledge Distillation\n",
        "\n",
        "В этом эксперименте дистиллируем меньшую модель. У модели-ученика следующие параметры отличаются от модели-учителя:\n",
        "\n",
        "$\\star$ `hidden_size`: 16\n",
        "    \n",
        "$\\star$ `cnn_out_channels`: 4\n",
        "\n",
        "Дистилляция происходит за счёт нового лосса:\n",
        "\n",
        "$L = \\alpha L_{\\text{target}} + (1 - \\alpha)L_{\\text{distill}}(logits_{s}, logits_{t}) = \\alpha NLL(logits_{s}, target) + (1 - \\alpha)D_{KL}(logits_{s}, logits_{t})$\n",
        "\n",
        "В данном эксперименте $\\alpha = 0.3$\n",
        "\n",
        "При этом в $L_{target}$ logit'ы получались софтмаксом с <u>температурой 1</u> от выходов модели, а в $L_{distill}$ <u>температура равна 10</u> \n",
        "\n",
        "\n",
        "Обучение длилось 70 эпох (по 30 секунд каждая), хотя уже на ~40 эпохе модель достигла необходимого качества.\n",
        "\n",
        "\n",
        "**Результаты:** \n",
        "\n",
        "MACs ratio   | teacher : student = 2.88\n",
        "\n",
        "Memory ratio | teacher : student = 3.30"
      ],
      "metadata": {
        "id": "E1gvBNxlZ3H0"
      }
    },
    {
      "cell_type": "markdown",
      "source": [
        "## Trainig"
      ],
      "metadata": {
        "id": "jpIcAETckE3T"
      }
    },
    {
      "cell_type": "code",
      "source": [
        "teacher = torch.load('/content/drive/MyDrive/teacher')\n",
        "teacher_history = torch.load('/content/drive/MyDrive/teacher_history')"
      ],
      "metadata": {
        "id": "7aMM4-9HZ809"
      },
      "execution_count": null,
      "outputs": []
    },
    {
      "cell_type": "code",
      "source": [
        "set_random_seed()\n",
        "student_config = TaskConfig(\n",
        "    cnn_out_channels=4,\n",
        "    hidden_size=16,\n",
        "    num_epochs=70,\n",
        "    t=10,\n",
        "    target_loss_w=0.3\n",
        ")\n",
        "\n",
        "student = CRNN(student_config).to(student_config.device)\n",
        "\n",
        "student_opt = torch.optim.Adam(\n",
        "            student.parameters(),\n",
        "            lr=student_config.learning_rate,\n",
        "            weight_decay=student_config.weight_decay\n",
        "        )"
      ],
      "metadata": {
        "id": "L5-g0udQnJGK"
      },
      "execution_count": null,
      "outputs": []
    },
    {
      "cell_type": "code",
      "source": [
        "student_history = train(student, student_config, student_opt, teacher)"
      ],
      "metadata": {
        "id": "0yMzYjFzT3l-",
        "colab": {
          "base_uri": "https://localhost:8080/",
          "height": 297
        },
        "outputId": "5f577c0c-c31c-4406-f73a-a3ba1ee4c112"
      },
      "execution_count": null,
      "outputs": [
        {
          "output_type": "display_data",
          "data": {
            "text/plain": [
              "<Figure size 432x288 with 1 Axes>"
            ],
            "image/png": "[encoded data removed]"
          },
          "metadata": {
            "needs_background": "light"
          }
        },
        {
          "output_type": "stream",
          "name": "stdout",
          "text": [
            "END OF EPOCH 69\n"
          ]
        }
      ]
    },
    {
      "cell_type": "code",
      "source": [
        "student_history"
      ],
      "metadata": {
        "colab": {
          "base_uri": "https://localhost:8080/"
        },
        "id": "IRrxBuUyn9NT",
        "outputId": "d02d926f-aebe-4219-f199-3df241da0912"
      },
      "execution_count": null,
      "outputs": [
        {
          "output_type": "execute_result",
          "data": {
            "text/plain": [
              "defaultdict(list,\n",
              "            {'val_metric': [0.0023335348872528857,\n",
              "              0.0008277167521443264,\n",
              "              0.00026857544643596427,\n",
              "              0.0002742326815428677,\n",
              "              0.0002446992885638962,\n",
              "              0.00022118715109427663,\n",
              "              0.00024420994966224425,\n",
              "              0.00022387254750578142,\n",
              "              0.00021641908057696036,\n",
              "              0.00019622489956244444,\n",
              "              0.00019308000198719336,\n",
              "              0.00017643651178344484,\n",
              "              0.00014943335897886907,\n",
              "              0.00014723133392143515,\n",
              "              0.00014783405622712843,\n",
              "              0.00013210360080329156,\n",
              "              0.0001225197193880101,\n",
              "              0.00010094703488225505,\n",
              "              0.0001119690952645869,\n",
              "              9.847050263608954e-05,\n",
              "              9.981916838942307e-05,\n",
              "              8.768117660942147e-05,\n",
              "              7.97503058741107e-05,\n",
              "              7.285778841791511e-05,\n",
              "              7.325761410585027e-05,\n",
              "              6.216394315254499e-05,\n",
              "              7.458837721644041e-05,\n",
              "              7.059012033708886e-05,\n",
              "              6.93369353450533e-05,\n",
              "              6.766005447475809e-05,\n",
              "              6.335148512118821e-05,\n",
              "              6.216394315254498e-05,\n",
              "              5.7025884685199187e-05,\n",
              "              5.33200376373226e-05,\n",
              "              5.14521952444315e-05,\n",
              "              4.8760831285345593e-05,\n",
              "              5.5134172101983595e-05,\n",
              "              5.297988742519866e-05,\n",
              "              5.276505571227827e-05,\n",
              "              4.899953318859047e-05,\n",
              "              4.691089153519787e-05,\n",
              "              4.2351685183220865e-05,\n",
              "              4.15102609742827e-05,\n",
              "              4.307972598811772e-05,\n",
              "              4.525788085522715e-05,\n",
              "              4.249490632516779e-05,\n",
              "              4.606946732625971e-05,\n",
              "              4.2835056537291734e-05,\n",
              "              3.339439626395716e-05,\n",
              "              4.7089917962631516e-05,\n",
              "              4.162364437832402e-05,\n",
              "              4.003627672174564e-05,\n",
              "              4.6761702845669816e-05,\n",
              "              3.8484714350653994e-05,\n",
              "              3.570383717785127e-05,\n",
              "              3.6927184431981224e-05,\n",
              "              3.8317623018382584e-05,\n",
              "              3.869357851599325e-05,\n",
              "              4.340197355749829e-05,\n",
              "              3.73329776674975e-05,\n",
              "              3.563819415445893e-05,\n",
              "              3.6181240984341e-05,\n",
              "              4.295440748891416e-05,\n",
              "              3.563819415445893e-05,\n",
              "              3.5858993414960436e-05,\n",
              "              3.363309816720203e-05,\n",
              "              3.4516295209208044e-05,\n",
              "              3.555464848832322e-05,\n",
              "              3.949919743944468e-05,\n",
              "              4.121188359522662e-05]})"
            ]
          },
          "metadata": {},
          "execution_count": 47
        }
      ]
    },
    {
      "cell_type": "code",
      "source": [
        "torch.save(student_history, '/content/drive/MyDrive/student_history')\n",
        "torch.save(student, '/content/drive/MyDrive/student')"
      ],
      "metadata": {
        "id": "i8xBgW3inXBw"
      },
      "execution_count": null,
      "outputs": []
    },
    {
      "cell_type": "markdown",
      "source": [
        "## Validation"
      ],
      "metadata": {
        "id": "gyPmGTVRkJJX"
      }
    },
    {
      "cell_type": "code",
      "source": [
        "student = torch.load('/content/drive/MyDrive/student')\n",
        "student_history = torch.load('/content/drive/MyDrive/student_history')"
      ],
      "metadata": {
        "id": "tklkiSw5jZ5k"
      },
      "execution_count": null,
      "outputs": []
    },
    {
      "cell_type": "code",
      "source": [
        "validation(student, val_loader, melspec_val, device=\"cuda:0\")"
      ],
      "metadata": {
        "colab": {
          "base_uri": "https://localhost:8080/"
        },
        "id": "Mdw2fpuOoMFI",
        "outputId": "b173bbe8-6a84-4258-b673-4b03ad4daf3a"
      },
      "execution_count": null,
      "outputs": [
        {
          "output_type": "stream",
          "name": "stderr",
          "text": [
            "100%|██████████| 102/102 [00:05<00:00, 17.35it/s]\n"
          ]
        },
        {
          "output_type": "execute_result",
          "data": {
            "text/plain": [
              "4.121188359522662e-05"
            ]
          },
          "metadata": {},
          "execution_count": 51
        }
      ]
    },
    {
      "cell_type": "code",
      "source": [
        "inp = torch.randn(1, 2 * 16_000)\n",
        "spec = melspec_train(inp.to(\"cuda:0\"))\n",
        "\n",
        "with Timer(name='first', verbose=True):\n",
        "    student(spec)\n",
        "\n",
        "student_macs = profile(student, (spec, ))[0]\n",
        "student_macs"
      ],
      "metadata": {
        "colab": {
          "base_uri": "https://localhost:8080/"
        },
        "id": "jexJGByzpcdN",
        "outputId": "d889e7c6-d610-4574-d4d2-38ed0e4e7790"
      },
      "execution_count": null,
      "outputs": [
        {
          "output_type": "stream",
          "name": "stdout",
          "text": [
            "First | Elapsed time : 0.002969503402709961\n",
            "[INFO] Register count_convNd() for <class 'torch.nn.modules.conv.Conv2d'>.\n",
            "[INFO] Register zero_ops() for <class 'torch.nn.modules.container.Sequential'>.\n",
            "[INFO] Register count_gru() for <class 'torch.nn.modules.rnn.GRU'>.\n",
            "[INFO] Register count_linear() for <class 'torch.nn.modules.linear.Linear'>.\n"
          ]
        },
        {
          "output_type": "execute_result",
          "data": {
            "text/plain": [
              "313936.0"
            ]
          },
          "metadata": {},
          "execution_count": 52
        }
      ]
    },
    {
      "cell_type": "code",
      "source": [
        "teacher = torch.load('/content/drive/MyDrive/teacher')"
      ],
      "metadata": {
        "id": "DeTi_Nlgpupi"
      },
      "execution_count": null,
      "outputs": []
    },
    {
      "cell_type": "code",
      "source": [
        "inp = torch.randn(1, 2 * 16_000)\n",
        "spec = melspec_train(inp.to(\"cuda:0\"))\n",
        "\n",
        "with Timer(name='first', verbose=True):\n",
        "    teacher(spec)\n",
        "\n",
        "teacher_macs = profile(teacher, (spec, ))[0]\n",
        "teacher_macs"
      ],
      "metadata": {
        "colab": {
          "base_uri": "https://localhost:8080/"
        },
        "id": "TtKmvLO1pzqn",
        "outputId": "fea387b5-f728-4ffd-aa3a-34c1e8b89efa"
      },
      "execution_count": null,
      "outputs": [
        {
          "output_type": "stream",
          "name": "stdout",
          "text": [
            "First | Elapsed time : 0.002969503402709961\n",
            "[INFO] Register count_convNd() for <class 'torch.nn.modules.conv.Conv2d'>.\n",
            "[INFO] Register zero_ops() for <class 'torch.nn.modules.container.Sequential'>.\n",
            "[INFO] Register count_gru() for <class 'torch.nn.modules.rnn.GRU'>.\n",
            "[INFO] Register count_linear() for <class 'torch.nn.modules.linear.Linear'>.\n"
          ]
        },
        {
          "output_type": "execute_result",
          "data": {
            "text/plain": [
              "904608.0"
            ]
          },
          "metadata": {},
          "execution_count": 54
        }
      ]
    },
    {
      "cell_type": "code",
      "source": [
        "print(f\"MACs ratio | teacher : student = {teacher_macs / student_macs}\")"
      ],
      "metadata": {
        "colab": {
          "base_uri": "https://localhost:8080/"
        },
        "id": "MeMWNycUp8CN",
        "outputId": "6118e835-03f3-44fc-ea78-f30fc5a71d59"
      },
      "execution_count": null,
      "outputs": [
        {
          "output_type": "stream",
          "name": "stdout",
          "text": [
            "MACs ratio | teacher : student = 2.8815045104734724\n"
          ]
        }
      ]
    },
    {
      "cell_type": "code",
      "source": [
        "teacher_mb = get_size_in_megabytes(teacher)\n",
        "student_mb = get_size_in_megabytes(student)\n",
        "print(f\"Memory | teacher : student = {teacher_mb/student_mb}\")"
      ],
      "metadata": {
        "colab": {
          "base_uri": "https://localhost:8080/"
        },
        "id": "MT4i3zUf4ZN4",
        "outputId": "4855a80b-f292-474e-9d37-5f56a4e99ae2"
      },
      "execution_count": null,
      "outputs": [
        {
          "output_type": "stream",
          "name": "stdout",
          "text": [
            "Memory | teacher : student = 3.2976475646459065\n"
          ]
        }
      ]
    },
    {
      "cell_type": "markdown",
      "source": [
        "# Dark Knowledge Distillation + Attention Distillation\n",
        "\n",
        "В этом эксперименте дистиллируется не только основная модель, но и её отдельный блок - `attention`.\n",
        "\n",
        "В этот блок помещается объект класса `SmallAttention`, который отличается от изначального тем, что кол-во признаков на выходе первого линейного слоя уменьшается в `scale=4` раза.\n",
        "\n",
        "\n",
        "**Результаты:** \n",
        "\n",
        "MACs ratio   | teacher : attn_student = 2.93\n",
        "\n",
        "Memory ratio | teacher : attn_student = 3.39"
      ],
      "metadata": {
        "id": "54Qh8UoC0pRU"
      }
    },
    {
      "cell_type": "markdown",
      "source": [
        "## Training"
      ],
      "metadata": {
        "id": "CpEb2l65krVw"
      }
    },
    {
      "cell_type": "code",
      "source": [
        "teacher = torch.load('/content/drive/MyDrive/teacher')"
      ],
      "metadata": {
        "id": "eseubVrerLhj"
      },
      "execution_count": 53,
      "outputs": []
    },
    {
      "cell_type": "code",
      "source": [
        "set_random_seed()\n",
        "attn_student_config = TaskConfig(\n",
        "    hidden_size=8,\n",
        "    cnn_out_channels=4,\n",
        "    num_epochs=70,\n",
        "    t=10,\n",
        "    target_loss_w=0.3\n",
        ")\n",
        "\n",
        "attn_student = CRNN(attn_student_config).to(attn_student_config.device)\n",
        "attn_student.attention = SmallAttention(attn_student_config.hidden_size, scale=4)\n",
        "attn_student.attention.to(attn_student_config.device)\n",
        "\n",
        "print(attn_student)\n",
        "\n",
        "attn_student_opt = torch.optim.Adam(\n",
        "    attn_student.parameters(),\n",
        "    lr=attn_student_config.learning_rate,\n",
        "    weight_decay=attn_student_config.weight_decay\n",
        ")"
      ],
      "metadata": {
        "colab": {
          "base_uri": "https://localhost:8080/"
        },
        "id": "8BU5LPHm0zj9",
        "outputId": "24fb958c-1935-46ee-f310-e6521b0b2772"
      },
      "execution_count": 54,
      "outputs": [
        {
          "output_type": "stream",
          "name": "stdout",
          "text": [
            "CRNN(\n",
            "  (conv): Sequential(\n",
            "    (0): Conv2d(1, 4, kernel_size=(5, 20), stride=(2, 8))\n",
            "    (1): Flatten(start_dim=1, end_dim=2)\n",
            "  )\n",
            "  (gru): GRU(72, 8, num_layers=2, batch_first=True, dropout=0.1)\n",
            "  (attention): SmallAttention(\n",
            "    (energy): Sequential(\n",
            "      (0): Linear(in_features=8, out_features=2, bias=True)\n",
            "      (1): Tanh()\n",
            "      (2): Linear(in_features=2, out_features=1, bias=True)\n",
            "    )\n",
            "  )\n",
            "  (classifier): Linear(in_features=8, out_features=2, bias=True)\n",
            ")\n"
          ]
        }
      ]
    },
    {
      "cell_type": "code",
      "source": [
        "attn_student_history = train(attn_student, attn_student_config, attn_student_opt, teacher)"
      ],
      "metadata": {
        "colab": {
          "base_uri": "https://localhost:8080/",
          "height": 297
        },
        "id": "HbCCV82n03qm",
        "outputId": "27643172-9ebb-45a7-8ed0-a29b62e93efe"
      },
      "execution_count": 55,
      "outputs": [
        {
          "output_type": "display_data",
          "data": {
            "text/plain": [
              "<Figure size 432x288 with 1 Axes>"
            ],
            "image/png": "[encoded data removed]"
          },
          "metadata": {
            "needs_background": "light"
          }
        },
        {
          "output_type": "stream",
          "name": "stdout",
          "text": [
            "END OF EPOCH 69\n"
          ]
        }
      ]
    },
    {
      "cell_type": "code",
      "source": [
        "attn_student_history"
      ],
      "metadata": {
        "colab": {
          "base_uri": "https://localhost:8080/"
        },
        "id": "TUyOtRKerksH",
        "outputId": "fcdd7d56-e398-49bb-a943-f058ab9ba087"
      },
      "execution_count": 56,
      "outputs": [
        {
          "output_type": "execute_result",
          "data": {
            "text/plain": [
              "defaultdict(list,\n",
              "            {'val_metric': [0.0021264102620335225,\n",
              "              0.0018711305116082975,\n",
              "              0.0016148124079039573,\n",
              "              0.0012520123689358715,\n",
              "              0.0008539232373468223,\n",
              "              0.0007850368518441437,\n",
              "              0.0007910879450914012,\n",
              "              0.0006928501768109754,\n",
              "              0.0006558931546410885,\n",
              "              0.0006099549733616135,\n",
              "              0.0005964623482806973,\n",
              "              0.0006051869028442973,\n",
              "              0.0005769783054283349,\n",
              "              0.0004971265512453451,\n",
              "              0.00043902054044796295,\n",
              "              0.0004413956243852493,\n",
              "              0.00042159828528487805,\n",
              "              0.00040038066986019974,\n",
              "              0.0003703818081699008,\n",
              "              0.00037709828297245333,\n",
              "              0.0002943254142485045,\n",
              "              0.00027984814381670325,\n",
              "              0.0002722812934838408,\n",
              "              0.00027533667784537515,\n",
              "              0.00028136390090230807,\n",
              "              0.0002315587487902662,\n",
              "              0.0002521288853023928,\n",
              "              0.00022206438058870154,\n",
              "              0.00019776452683837388,\n",
              "              0.0002099383239038622,\n",
              "              0.00021823918258920253,\n",
              "              0.00019845676235778398,\n",
              "              0.00017980817616677862,\n",
              "              0.00019896400390217932,\n",
              "              0.00017533848302851848,\n",
              "              0.00016915013618689525,\n",
              "              0.00015121765570562447,\n",
              "              0.00015821162147069913,\n",
              "              0.0001517189297024387,\n",
              "              0.00013500979647529786,\n",
              "              0.0001562542658640912,\n",
              "              0.00011364597613488207,\n",
              "              0.00011794857794087085,\n",
              "              0.00014930207293208436,\n",
              "              0.0001353559142350029,\n",
              "              0.00011522140869629823,\n",
              "              0.00011476787508013297,\n",
              "              0.0001392586903530565,\n",
              "              0.00011791277265538412,\n",
              "              9.97475578184496e-05,\n",
              "              0.00011094267708063393,\n",
              "              0.00010070534920521962,\n",
              "              0.0001051004479987158,\n",
              "              0.00010442611512204903,\n",
              "              9.597010019959954e-05,\n",
              "              0.00010523770159308159,\n",
              "              9.000255261847783e-05,\n",
              "              8.957288919263706e-05,\n",
              "              0.000108346793882846,\n",
              "              9.673394628998314e-05,\n",
              "              7.313826315422784e-05,\n",
              "              8.904774500549835e-05,\n",
              "              9.033673528302065e-05,\n",
              "              0.00010163927040166516,\n",
              "              7.807939255139663e-05,\n",
              "              9.083800927983486e-05,\n",
              "              7.064979581290007e-05,\n",
              "              7.260715141950801e-05,\n",
              "              6.979643650879967e-05,\n",
              "              7.686798039242892e-05]})"
            ]
          },
          "metadata": {},
          "execution_count": 56
        }
      ]
    },
    {
      "cell_type": "code",
      "source": [
        "attn_student_config.num_epochs = 10\n",
        "attn_student_finetune_history = train(attn_student, attn_student_config, attn_student_opt, teacher)"
      ],
      "metadata": {
        "colab": {
          "base_uri": "https://localhost:8080/",
          "height": 308
        },
        "id": "MPO6dM3o33b8",
        "outputId": "df445a54-fe32-4055-e02b-426b13a0821c"
      },
      "execution_count": 57,
      "outputs": [
        {
          "output_type": "display_data",
          "data": {
            "text/plain": [
              "<Figure size 432x288 with 1 Axes>"
            ],
            "image/png": "[encoded data removed]"
          },
          "metadata": {
            "needs_background": "light"
          }
        },
        {
          "output_type": "stream",
          "name": "stdout",
          "text": [
            "END OF EPOCH 9\n"
          ]
        }
      ]
    },
    {
      "cell_type": "code",
      "source": [
        "attn_student_finetune_history"
      ],
      "metadata": {
        "colab": {
          "base_uri": "https://localhost:8080/"
        },
        "id": "3pTcSM6h4BfV",
        "outputId": "85b704e5-9f49-4d2f-89ab-d92f7417c6cd"
      },
      "execution_count": 58,
      "outputs": [
        {
          "output_type": "execute_result",
          "data": {
            "text/plain": [
              "defaultdict(list,\n",
              "            {'val_metric': [8.269827437918483e-05,\n",
              "              7.297117182195642e-05,\n",
              "              6.823293904254578e-05,\n",
              "              6.760037899894688e-05,\n",
              "              8.27997226880639e-05,\n",
              "              6.585785510525934e-05,\n",
              "              5.762263944331136e-05,\n",
              "              6.366776514298766e-05,\n",
              "              5.595172612059728e-05,\n",
              "              6.699168914567245e-05]})"
            ]
          },
          "metadata": {},
          "execution_count": 58
        }
      ]
    },
    {
      "cell_type": "code",
      "source": [
        "attn_student_config.num_epochs = 10\n",
        "attn_student_finetune2_history = train(attn_student, attn_student_config, attn_student_opt, teacher)"
      ],
      "metadata": {
        "colab": {
          "base_uri": "https://localhost:8080/",
          "height": 308
        },
        "id": "j1M1d03j6J4f",
        "outputId": "6c88050c-0d8e-4ec2-ae9a-2f25d1a1fbf4"
      },
      "execution_count": 59,
      "outputs": [
        {
          "output_type": "display_data",
          "data": {
            "text/plain": [
              "<Figure size 432x288 with 1 Axes>"
            ],
            "image/png": "[encoded data removed]"
          },
          "metadata": {
            "needs_background": "light"
          }
        },
        {
          "output_type": "stream",
          "name": "stdout",
          "text": [
            "END OF EPOCH 9\n"
          ]
        }
      ]
    },
    {
      "cell_type": "code",
      "source": [
        "attn_student_finetune2_history"
      ],
      "metadata": {
        "colab": {
          "base_uri": "https://localhost:8080/"
        },
        "id": "sNjglHHi6PcJ",
        "outputId": "1ad404e5-836c-4ea0-cbe9-2e7b8301800c"
      },
      "execution_count": 60,
      "outputs": [
        {
          "output_type": "execute_result",
          "data": {
            "text/plain": [
              "defaultdict(list,\n",
              "            {'val_metric': [6.098236873148289e-05,\n",
              "              6.759441145136575e-05,\n",
              "              6.206249484366591e-05,\n",
              "              5.8475998747411764e-05,\n",
              "              5.891759726841478e-05,\n",
              "              5.4227104869653096e-05,\n",
              "              6.240264505578986e-05,\n",
              "              5.730039187393079e-05,\n",
              "              5.929952031360655e-05,\n",
              "              5.345132368410727e-05]})"
            ]
          },
          "metadata": {},
          "execution_count": 60
        }
      ]
    },
    {
      "cell_type": "code",
      "source": [
        "fig, axs = plt.subplots(2, 3, figsize=(35,20))\n",
        "axs[0, 0].plot(range(len(attn_student_history['val_metric'])), attn_student_history['val_metric'])\n",
        "axs[0, 0].set_ylabel(\"Metric\", fontsize=15)\n",
        "axs[0, 0].set_xlabel(\"Epoch\", fontsize=15)\n",
        "\n",
        "axs[0, 1].plot(\n",
        "          range(\n",
        "                  len(attn_student_history['val_metric']),\n",
        "                  len(attn_student_history['val_metric']) + len(attn_student_finetune_history['val_metric'])\n",
        "              ),\n",
        "          attn_student_finetune_history['val_metric']\n",
        "    )\n",
        "axs[0, 1].set_ylabel(\"Metric\", fontsize=15)\n",
        "axs[0, 1].set_xlabel(\"Epoch\", fontsize=15)\n",
        "\n",
        "axs[0, 2].plot(\n",
        "          range(\n",
        "                  len(attn_student_history['val_metric']) + len(attn_student_finetune_history['val_metric']),\n",
        "                  len(attn_student_history['val_metric']) + len(attn_student_finetune_history['val_metric']) + len(attn_student_finetune2_history['val_metric'])\n",
        "              ),\n",
        "          attn_student_finetune2_history['val_metric']\n",
        "    )\n",
        "axs[0, 2].set_ylabel(\"Metric\", fontsize=15)\n",
        "axs[0, 2].set_xlabel(\"Epoch\", fontsize=15)"
      ],
      "metadata": {
        "colab": {
          "base_uri": "https://localhost:8080/",
          "height": 915
        },
        "id": "XTW5Kune-dMF",
        "outputId": "2fa2117f-b4b2-429c-a208-9878437f9f56"
      },
      "execution_count": 86,
      "outputs": [
        {
          "output_type": "execute_result",
          "data": {
            "text/plain": [
              "Text(0.5, 0, 'Epoch')"
            ]
          },
          "metadata": {},
          "execution_count": 86
        },
        {
          "output_type": "display_data",
          "data": {
            "text/plain": [
              "<Figure size 2520x1440 with 6 Axes>"
            ],
            "image/png": "[encoded data removed]"
          },
          "metadata": {
            "needs_background": "light"
          }
        }
      ]
    },
    {
      "cell_type": "code",
      "source": [
        "torch.save(attn_student, \"/content/drive/MyDrive/attn_student_hid_s8\")\n",
        "torch.save(attn_student_history, '/content/drive/MyDrive/attn_student_hid_s8_history')"
      ],
      "metadata": {
        "id": "PL2IAm_bob5j"
      },
      "execution_count": 61,
      "outputs": []
    },
    {
      "cell_type": "markdown",
      "source": [
        "## Validation"
      ],
      "metadata": {
        "id": "UXnmXk3gkwlR"
      }
    },
    {
      "cell_type": "code",
      "source": [
        "attn_student = torch.load('/content/drive/MyDrive/attn_student_hid_s8')\n",
        "# attn_student_history = torch.load('/content/drive/MyDrive/attn_student_history')"
      ],
      "metadata": {
        "id": "pg-t60k5kvrn"
      },
      "execution_count": 62,
      "outputs": []
    },
    {
      "cell_type": "code",
      "source": [
        "validation(attn_student, val_loader, melspec_val, device=\"cuda:0\")"
      ],
      "metadata": {
        "colab": {
          "base_uri": "https://localhost:8080/"
        },
        "id": "yICoayDjr0j5",
        "outputId": "249789c6-e07d-4cd6-eaec-cf2bc85e863c"
      },
      "execution_count": 63,
      "outputs": [
        {
          "output_type": "stream",
          "name": "stderr",
          "text": [
            "100%|██████████| 102/102 [00:05<00:00, 18.44it/s]\n"
          ]
        },
        {
          "output_type": "execute_result",
          "data": {
            "text/plain": [
              "5.345132368410727e-05"
            ]
          },
          "metadata": {},
          "execution_count": 63
        }
      ]
    },
    {
      "cell_type": "code",
      "source": [
        "inp = torch.randn(1, 2 * 16_000)\n",
        "spec = melspec_train(inp.to(\"cuda:0\"))\n",
        "\n",
        "with Timer(name='first', verbose=True):\n",
        "    attn_student(spec)\n",
        "\n",
        "attn_student_macs = profile(attn_student, (spec, ))[0]\n",
        "attn_student_macs"
      ],
      "metadata": {
        "colab": {
          "base_uri": "https://localhost:8080/"
        },
        "id": "y4stFjoVr3mC",
        "outputId": "5e6f86c7-a46c-4241-cd1b-f92977a7945e"
      },
      "execution_count": 64,
      "outputs": [
        {
          "output_type": "stream",
          "name": "stdout",
          "text": [
            "First | Elapsed time : 0.005749225616455078\n",
            "[INFO] Register count_convNd() for <class 'torch.nn.modules.conv.Conv2d'>.\n",
            "[INFO] Register zero_ops() for <class 'torch.nn.modules.container.Sequential'>.\n",
            "[INFO] Register count_gru() for <class 'torch.nn.modules.rnn.GRU'>.\n",
            "[INFO] Register count_linear() for <class 'torch.nn.modules.linear.Linear'>.\n"
          ]
        },
        {
          "output_type": "execute_result",
          "data": {
            "text/plain": [
              "223806.0"
            ]
          },
          "metadata": {},
          "execution_count": 64
        }
      ]
    },
    {
      "cell_type": "code",
      "source": [
        "teacher = torch.load('/content/drive/MyDrive/teacher')"
      ],
      "metadata": {
        "id": "Ng-w5fuVr_Ie"
      },
      "execution_count": 65,
      "outputs": []
    },
    {
      "cell_type": "code",
      "source": [
        "inp = torch.randn(1, 2 * 16_000)\n",
        "spec = melspec_train(inp.to(\"cuda:0\"))\n",
        "\n",
        "with Timer(name='first', verbose=True):\n",
        "    teacher(spec)\n",
        "\n",
        "teacher_macs = profile(teacher, (spec, ))[0]\n",
        "teacher_macs"
      ],
      "metadata": {
        "colab": {
          "base_uri": "https://localhost:8080/"
        },
        "id": "BEea1V7_sDTb",
        "outputId": "e584b346-e1eb-4a60-c3f9-789665f2a46a"
      },
      "execution_count": 66,
      "outputs": [
        {
          "output_type": "stream",
          "name": "stdout",
          "text": [
            "First | Elapsed time : 0.0028781890869140625\n",
            "[INFO] Register count_convNd() for <class 'torch.nn.modules.conv.Conv2d'>.\n",
            "[INFO] Register zero_ops() for <class 'torch.nn.modules.container.Sequential'>.\n",
            "[INFO] Register count_gru() for <class 'torch.nn.modules.rnn.GRU'>.\n",
            "[INFO] Register count_linear() for <class 'torch.nn.modules.linear.Linear'>.\n"
          ]
        },
        {
          "output_type": "execute_result",
          "data": {
            "text/plain": [
              "904608.0"
            ]
          },
          "metadata": {},
          "execution_count": 66
        }
      ]
    },
    {
      "cell_type": "code",
      "source": [
        "print(f\"MACs ratio | teacher : attn_student = {teacher_macs / attn_student_macs}\")"
      ],
      "metadata": {
        "colab": {
          "base_uri": "https://localhost:8080/"
        },
        "id": "FU_Rvcv5sNbP",
        "outputId": "9ae69a3a-ac51-4168-9f5d-592526f22b51"
      },
      "execution_count": 67,
      "outputs": [
        {
          "output_type": "stream",
          "name": "stdout",
          "text": [
            "MACs ratio | teacher : attn_student = 4.04192917079971\n"
          ]
        }
      ]
    },
    {
      "cell_type": "code",
      "source": [
        "teacher_mb = get_size_in_megabytes(teacher)\n",
        "attn_student_mb = get_size_in_megabytes(attn_student)\n",
        "print(f\"Memory | teacher : attn_student = {teacher_mb/attn_student_mb}\")"
      ],
      "metadata": {
        "colab": {
          "base_uri": "https://localhost:8080/"
        },
        "id": "MgGIKhzU36vq",
        "outputId": "cb23f3e1-5e58-446f-8380-e0bf63b122eb"
      },
      "execution_count": 68,
      "outputs": [
        {
          "output_type": "stream",
          "name": "stdout",
          "text": [
            "Memory | teacher : attn_student = 6.242181141727706\n"
          ]
        }
      ]
    },
    {
      "cell_type": "markdown",
      "source": [
        "# Dark Knowledge Distillation + Dynamic Quantization\n",
        "\n",
        "В этом эксперименте берётся сдистиллированная модель и применяется динамическая квантизация (в qint8).\n",
        "\n",
        "Квантизуются веса `torch.nn.Linear`, `torch.nn.GRU` слоёв.\n",
        "\n",
        "**Результаты:** \n",
        "\n",
        "MACs ratio   | teacher : quantized_student = teacher : student = 2.88\n",
        "\n",
        "Memory ratio | teacher : quantized_student = 6.62"
      ],
      "metadata": {
        "id": "mRubrtPF8VWz"
      }
    },
    {
      "cell_type": "markdown",
      "source": [
        "## Quantization"
      ],
      "metadata": {
        "id": "qFMnH8RoMvMD"
      }
    },
    {
      "cell_type": "code",
      "source": [
        "student = torch.load('/content/drive/MyDrive/student')"
      ],
      "metadata": {
        "id": "jJNnb6VNL-sT"
      },
      "execution_count": null,
      "outputs": []
    },
    {
      "cell_type": "code",
      "source": [
        "import torch.quantization\n",
        "\n",
        "set_random_seed()\n",
        "student.eval()\n",
        "student.to(torch.device('cpu'))\n",
        "\n",
        "print(student)\n",
        "quantized_student_config = TaskConfig(\n",
        "    hidden_size=16,\n",
        "    cnn_out_channels=4,\n",
        "    device=torch.device('cpu')\n",
        ")\n",
        "melspec_train_cpu = LogMelspec(is_train=True, config=quantized_student_config)\n",
        "melspec_val_cpu = LogMelspec(is_train=False, config=quantized_student_config)\n",
        "\n",
        "quantized_student = torch.quantization.quantize_dynamic(student, {torch.nn.Linear, torch.nn.GRU}, dtype=torch.torch.qint8)\n",
        "\n",
        "print(quantized_student)"
      ],
      "metadata": {
        "colab": {
          "base_uri": "https://localhost:8080/"
        },
        "id": "njGWI6HpME7g",
        "outputId": "35de7e7e-bcab-4aba-88a7-227e2c001ace"
      },
      "execution_count": null,
      "outputs": [
        {
          "output_type": "stream",
          "name": "stdout",
          "text": [
            "CRNN(\n",
            "  (conv): Sequential(\n",
            "    (0): Conv2d(1, 4, kernel_size=(5, 20), stride=(2, 8))\n",
            "    (1): Flatten(start_dim=1, end_dim=2)\n",
            "  )\n",
            "  (gru): GRU(72, 16, num_layers=2, batch_first=True, dropout=0.1)\n",
            "  (attention): Attention(\n",
            "    (energy): Sequential(\n",
            "      (0): Linear(in_features=16, out_features=16, bias=True)\n",
            "      (1): Tanh()\n",
            "      (2): Linear(in_features=16, out_features=1, bias=True)\n",
            "    )\n",
            "  )\n",
            "  (classifier): Linear(in_features=16, out_features=2, bias=True)\n",
            ")\n",
            "CRNN(\n",
            "  (conv): Sequential(\n",
            "    (0): Conv2d(1, 4, kernel_size=(5, 20), stride=(2, 8))\n",
            "    (1): Flatten(start_dim=1, end_dim=2)\n",
            "  )\n",
            "  (gru): DynamicQuantizedGRU(72, 16, num_layers=2, batch_first=True, dropout=0.1)\n",
            "  (attention): Attention(\n",
            "    (energy): Sequential(\n",
            "      (0): DynamicQuantizedLinear(in_features=16, out_features=16, dtype=torch.qint8, qscheme=torch.per_tensor_affine)\n",
            "      (1): Tanh()\n",
            "      (2): DynamicQuantizedLinear(in_features=16, out_features=1, dtype=torch.qint8, qscheme=torch.per_tensor_affine)\n",
            "    )\n",
            "  )\n",
            "  (classifier): DynamicQuantizedLinear(in_features=16, out_features=2, dtype=torch.qint8, qscheme=torch.per_tensor_affine)\n",
            ")\n"
          ]
        }
      ]
    },
    {
      "cell_type": "code",
      "source": [
        "torch.save(quantized_student, \"/content/drive/MyDrive/quantized_student\")"
      ],
      "metadata": {
        "id": "1kJbXEexMYvV"
      },
      "execution_count": null,
      "outputs": []
    },
    {
      "cell_type": "markdown",
      "source": [
        "## Validation"
      ],
      "metadata": {
        "id": "YI8m8BtdMxlU"
      }
    },
    {
      "cell_type": "code",
      "source": [
        "quantized_student = torch.load(\"/content/drive/MyDrive/quantized_student\")"
      ],
      "metadata": {
        "id": "02xuF-pUMzag"
      },
      "execution_count": null,
      "outputs": []
    },
    {
      "cell_type": "code",
      "source": [
        "melspec_train = LogMelspec(is_train=True, config=TaskConfig(device=torch.device(\"cpu\")))\n",
        "melspec_val = LogMelspec(is_train=False, config=TaskConfig(device=torch.device(\"cpu\")))\n",
        "\n",
        "fa_fr_rate = validation(quantized_student, val_loader, melspec_val, device=\"cpu\")\n",
        "\n",
        "melspec_train = LogMelspec(is_train=True, config=TaskConfig)\n",
        "melspec_val = LogMelspec(is_train=False, config=TaskConfig)\n",
        "\n",
        "fa_fr_rate"
      ],
      "metadata": {
        "colab": {
          "base_uri": "https://localhost:8080/"
        },
        "id": "MV23UESFNDVI",
        "outputId": "b16b6d69-a5be-4327-f1d8-437535170b02"
      },
      "execution_count": null,
      "outputs": [
        {
          "output_type": "stream",
          "name": "stderr",
          "text": [
            "100%|██████████| 102/102 [00:08<00:00, 11.80it/s]\n"
          ]
        },
        {
          "output_type": "execute_result",
          "data": {
            "text/plain": [
              "4.6845248511805524e-05"
            ]
          },
          "metadata": {},
          "execution_count": 203
        }
      ]
    },
    {
      "cell_type": "code",
      "source": [
        "teacher = torch.load(\"/content/drive/MyDrive/teacher\")"
      ],
      "metadata": {
        "id": "J0jsFmEVNH8s"
      },
      "execution_count": null,
      "outputs": []
    },
    {
      "cell_type": "code",
      "source": [
        "teacher_mb = get_size_in_megabytes(teacher)\n",
        "quantized_student_mb = get_size_in_megabytes(quantized_student)\n",
        "print(f\"Memory | teacher : quantized_attn_student = {teacher_mb/quantized_student_mb}\")"
      ],
      "metadata": {
        "colab": {
          "base_uri": "https://localhost:8080/"
        },
        "id": "eJ_HpqzoNIzq",
        "outputId": "0dc8c8ec-7d9f-430c-cadf-6e2b17054977"
      },
      "execution_count": null,
      "outputs": [
        {
          "output_type": "stream",
          "name": "stdout",
          "text": [
            "Memory | teacher : quantized_attn_student = 6.625702202865619\n"
          ]
        }
      ]
    },
    {
      "cell_type": "markdown",
      "source": [
        "# Dark Knowledge Distillation + Attention Distillation + Dynamic Quantization\n",
        "\n",
        "В этом эксперименте берётся сдистиллированная модель и применяется динамическая квантизация (в qint8).\n",
        "\n",
        "Квантизуются веса `torch.nn.Linear`, `torch.nn.GRU` слоёв.\n",
        "\n",
        "**Результаты:** \n",
        "\n",
        "MACs ratio   | teacher : quantized_attn_student = teacher : attn_student = 2.93\n",
        "\n",
        "Memory ratio | teacher : quantized_attn_student = 6.89"
      ],
      "metadata": {
        "id": "E1FplgDf5914"
      }
    },
    {
      "cell_type": "markdown",
      "source": [
        "## Quantization"
      ],
      "metadata": {
        "id": "y_6R-qQF9dn0"
      }
    },
    {
      "cell_type": "code",
      "source": [
        "attn_student = torch.load('/content/drive/MyDrive/attn_student_hid_s8')"
      ],
      "metadata": {
        "id": "p-9Hey_fwzHr"
      },
      "execution_count": 71,
      "outputs": []
    },
    {
      "cell_type": "code",
      "source": [
        "import torch.quantization\n",
        "\n",
        "set_random_seed()\n",
        "attn_student.eval()\n",
        "attn_student.to(torch.device('cpu'))\n",
        "\n",
        "print(attn_student)\n",
        "quantized_attn_student_config = TaskConfig(\n",
        "    hidden_size=16,\n",
        "    cnn_out_channels=4,\n",
        "    device=torch.device('cpu')\n",
        ")\n",
        "melspec_train_cpu = LogMelspec(is_train=True, config=quantized_attn_student_config)\n",
        "melspec_val_cpu = LogMelspec(is_train=False, config=quantized_attn_student_config)\n",
        "\n",
        "quantized_attn_student = torch.quantization.quantize_dynamic(attn_student, {torch.nn.Linear, torch.nn.GRU}, dtype=torch.torch.qint8)\n",
        "\n",
        "print(quantized_attn_student)"
      ],
      "metadata": {
        "colab": {
          "base_uri": "https://localhost:8080/"
        },
        "id": "3TZKEr09E_L7",
        "outputId": "4d70efd4-a226-4b5f-cee8-01f83a2ff66f"
      },
      "execution_count": 72,
      "outputs": [
        {
          "output_type": "stream",
          "name": "stdout",
          "text": [
            "CRNN(\n",
            "  (conv): Sequential(\n",
            "    (0): Conv2d(1, 4, kernel_size=(5, 20), stride=(2, 8))\n",
            "    (1): Flatten(start_dim=1, end_dim=2)\n",
            "  )\n",
            "  (gru): GRU(72, 8, num_layers=2, batch_first=True, dropout=0.1)\n",
            "  (attention): SmallAttention(\n",
            "    (energy): Sequential(\n",
            "      (0): Linear(in_features=8, out_features=2, bias=True)\n",
            "      (1): Tanh()\n",
            "      (2): Linear(in_features=2, out_features=1, bias=True)\n",
            "    )\n",
            "  )\n",
            "  (classifier): Linear(in_features=8, out_features=2, bias=True)\n",
            ")\n",
            "CRNN(\n",
            "  (conv): Sequential(\n",
            "    (0): Conv2d(1, 4, kernel_size=(5, 20), stride=(2, 8))\n",
            "    (1): Flatten(start_dim=1, end_dim=2)\n",
            "  )\n",
            "  (gru): DynamicQuantizedGRU(72, 8, num_layers=2, batch_first=True, dropout=0.1)\n",
            "  (attention): SmallAttention(\n",
            "    (energy): Sequential(\n",
            "      (0): DynamicQuantizedLinear(in_features=8, out_features=2, dtype=torch.qint8, qscheme=torch.per_tensor_affine)\n",
            "      (1): Tanh()\n",
            "      (2): DynamicQuantizedLinear(in_features=2, out_features=1, dtype=torch.qint8, qscheme=torch.per_tensor_affine)\n",
            "    )\n",
            "  )\n",
            "  (classifier): DynamicQuantizedLinear(in_features=8, out_features=2, dtype=torch.qint8, qscheme=torch.per_tensor_affine)\n",
            ")\n"
          ]
        }
      ]
    },
    {
      "cell_type": "code",
      "source": [
        "torch.save(quantized_attn_student, \"/content/drive/MyDrive/quantized_attn_hid_s8_student\")"
      ],
      "metadata": {
        "id": "SrUnZQ_k4_HU"
      },
      "execution_count": 73,
      "outputs": []
    },
    {
      "cell_type": "markdown",
      "source": [
        "## Validation"
      ],
      "metadata": {
        "id": "P8CoxFkI4tLb"
      }
    },
    {
      "cell_type": "code",
      "source": [
        "quantized_attn_student = torch.load(\"/content/drive/MyDrive/quantized_attn_hid_s8_student\")"
      ],
      "metadata": {
        "id": "3GNC3RLIJMrP"
      },
      "execution_count": 74,
      "outputs": []
    },
    {
      "cell_type": "code",
      "source": [
        "melspec_train = LogMelspec(is_train=True, config=TaskConfig(device=torch.device(\"cpu\")))\n",
        "melspec_val = LogMelspec(is_train=False, config=TaskConfig(device=torch.device(\"cpu\")))\n",
        "\n",
        "fa_fr_rate = validation(quantized_attn_student, val_loader, melspec_val, device=\"cpu\")\n",
        "\n",
        "melspec_train = LogMelspec(is_train=True, config=TaskConfig)\n",
        "melspec_val = LogMelspec(is_train=False, config=TaskConfig)\n",
        "\n",
        "fa_fr_rate"
      ],
      "metadata": {
        "colab": {
          "base_uri": "https://localhost:8080/"
        },
        "id": "G0g7K8xl4qEs",
        "outputId": "c8c93c62-d697-47c4-e7ee-d361b230d215"
      },
      "execution_count": 75,
      "outputs": [
        {
          "output_type": "stream",
          "name": "stderr",
          "text": [
            "100%|██████████| 102/102 [00:08<00:00, 12.13it/s]\n"
          ]
        },
        {
          "output_type": "execute_result",
          "data": {
            "text/plain": [
              "4.8480356549032876e-05"
            ]
          },
          "metadata": {},
          "execution_count": 75
        }
      ]
    },
    {
      "cell_type": "code",
      "source": [
        "teacher = torch.load(\"/content/drive/MyDrive/teacher\")"
      ],
      "metadata": {
        "id": "2osm7b-VJZxY"
      },
      "execution_count": 76,
      "outputs": []
    },
    {
      "cell_type": "code",
      "source": [
        "teacher_mb = get_size_in_megabytes(teacher)\n",
        "quantized_attn_student_mb = get_size_in_megabytes(quantized_attn_student)\n",
        "print(f\"Memory | teacher : quantized_attn_student = {teacher_mb/quantized_attn_student_mb}\")"
      ],
      "metadata": {
        "colab": {
          "base_uri": "https://localhost:8080/"
        },
        "id": "Ck22NzQb6QSP",
        "outputId": "ad7ec330-32f8-483d-9524-35adb3258d20"
      },
      "execution_count": 77,
      "outputs": [
        {
          "output_type": "stream",
          "name": "stdout",
          "text": [
            "Memory | teacher : quantized_attn_student = 8.93598365540138\n"
          ]
        }
      ]
    },
    {
      "cell_type": "markdown",
      "source": [
        "# Dark Knowledge Distillation + QAT\n",
        "\n",
        "\n",
        "Ссылки для вдохновения [раз](https://pytorch.org/docs/stable/quantization.html), [два](https://pytorch.org/tutorials/advanced/static_quantization_tutorial.html)\n",
        "\n",
        "Я не смогла победить эту штуку. Не работает ни на gpu, ни на cpu,  а в таких страшных ошибках я пока разбираться не умею...\n",
        "\n",
        "Должна была применяться `aware trainigt` квантизация `nn.Conv2d` слою (так как динамическая к свёрткам не применяется)."
      ],
      "metadata": {
        "id": "FDVPMwcu675z"
      }
    },
    {
      "cell_type": "code",
      "source": [
        "class QatCRNN(nn.Module):\n",
        "\n",
        "    def __init__(self, config: TaskConfig):\n",
        "        super().__init__()\n",
        "        self.config = config\n",
        "\n",
        "        self.conv = nn.Sequential(\n",
        "            nn.Conv2d(\n",
        "                in_channels=1, out_channels=config.cnn_out_channels,\n",
        "                kernel_size=config.kernel_size, stride=config.stride\n",
        "            ),\n",
        "            # nn.BatchNorm2d(config.cnn_out_channels),\n",
        "            nn.Flatten(start_dim=1, end_dim=2),\n",
        "        )\n",
        "\n",
        "        self.conv_out_frequency = (config.n_mels - config.kernel_size[0]) // \\\n",
        "            config.stride[0] + 1\n",
        "        \n",
        "        self.gru = nn.GRU(\n",
        "            input_size=self.conv_out_frequency * config.cnn_out_channels,\n",
        "            hidden_size=config.hidden_size,\n",
        "            num_layers=config.gru_num_layers,\n",
        "            dropout=0.1,\n",
        "            bidirectional=config.bidirectional,\n",
        "            batch_first=True\n",
        "        )\n",
        "\n",
        "        self.attention = Attention(config.hidden_size)\n",
        "        self.classifier = nn.Linear(config.hidden_size, config.num_classes)\n",
        "        self.quant = torch.quantization.QuantStub()\n",
        "        self.dequant = torch.quantization.DeQuantStub()\n",
        "    \n",
        "    def forward(self, input):\n",
        "        input = x = self.quant(input)\n",
        "        input = input.unsqueeze(dim=1)\n",
        "        conv_output = self.conv(input).transpose(-1, -2)\n",
        "        gru_output, _ = self.gru(conv_output)\n",
        "        contex_vector = self.attention(gru_output)\n",
        "        output = self.classifier(contex_vector)\n",
        "        output = self.dequant(output)\n",
        "        return output"
      ],
      "metadata": {
        "id": "d7cJpy5f-JV3"
      },
      "execution_count": null,
      "outputs": []
    },
    {
      "cell_type": "code",
      "source": [
        "set_random_seed()\n",
        "qat_teacher_config = TaskConfig(\n",
        "    hidden_size=32\n",
        ")\n",
        "qat_teacher = CRNN(qat_teacher_config).to(qat_teacher_config.device)\n",
        "\n",
        "print(qat_teacher)\n",
        "\n",
        "qat_teacher_opt = torch.optim.Adam(\n",
        "    qat_teacher.parameters(),\n",
        "    lr=qat_teacher_config.learning_rate,\n",
        "    weight_decay=qat_teacher_config.weight_decay\n",
        ")"
      ],
      "metadata": {
        "colab": {
          "base_uri": "https://localhost:8080/"
        },
        "id": "k5DD3MM2Eiou",
        "outputId": "7e95af59-992b-43ec-98bf-042e19ab1267"
      },
      "execution_count": null,
      "outputs": [
        {
          "output_type": "stream",
          "name": "stdout",
          "text": [
            "QatCRNN(\n",
            "  (conv): Sequential(\n",
            "    (0): Conv2d(1, 8, kernel_size=(5, 20), stride=(2, 8))\n",
            "    (1): BatchNorm2d(8, eps=1e-05, momentum=0.1, affine=True, track_running_stats=True)\n",
            "    (2): Flatten(start_dim=1, end_dim=2)\n",
            "  )\n",
            "  (gru): GRU(144, 32, num_layers=2, batch_first=True, dropout=0.1)\n",
            "  (attention): Attention(\n",
            "    (energy): Sequential(\n",
            "      (0): Linear(in_features=32, out_features=32, bias=True)\n",
            "      (1): Tanh()\n",
            "      (2): Linear(in_features=32, out_features=1, bias=True)\n",
            "    )\n",
            "  )\n",
            "  (classifier): Linear(in_features=32, out_features=2, bias=True)\n",
            ")\n"
          ]
        }
      ]
    },
    {
      "cell_type": "code",
      "source": [
        "qat_teacher_history = train(qat_teacher, qat_teacher_config, qat_teacher_opt)"
      ],
      "metadata": {
        "colab": {
          "base_uri": "https://localhost:8080/",
          "height": 297
        },
        "id": "ap7X-kg7E_7B",
        "outputId": "67ed81a8-000f-4a04-c4a9-0c444e3d0f4f"
      },
      "execution_count": null,
      "outputs": [
        {
          "output_type": "display_data",
          "data": {
            "text/plain": [
              "<Figure size 432x288 with 1 Axes>"
            ],
            "image/png": "[encoded data removed]"
          },
          "metadata": {
            "needs_background": "light"
          }
        },
        {
          "output_type": "stream",
          "name": "stdout",
          "text": [
            "END OF EPOCH 3\n"
          ]
        }
      ]
    },
    {
      "cell_type": "code",
      "source": [
        "set_random_seed()\n",
        "qat_student_config = TaskConfig(\n",
        "    hidden_size=16,\n",
        "    cnn_out_channels=4,\n",
        "    num_epochs=3\n",
        ")\n",
        "qat_student = QatCRNN(qat_student_config).to(qat_student_config.device)\n",
        "\n",
        "print(qat_student)\n",
        "\n",
        "qat_student_opt = torch.optim.Adam(\n",
        "    qat_student.parameters(),\n",
        "    lr=qat_student_config.learning_rate,\n",
        "    weight_decay=qat_student_config.weight_decay\n",
        ")"
      ],
      "metadata": {
        "colab": {
          "base_uri": "https://localhost:8080/"
        },
        "id": "SdKiF1slzprC",
        "outputId": "c8072156-6ab8-4820-e487-dc5dc1629fd5"
      },
      "execution_count": null,
      "outputs": [
        {
          "output_type": "stream",
          "name": "stdout",
          "text": [
            "QatCRNN(\n",
            "  (conv): Sequential(\n",
            "    (0): Conv2d(1, 4, kernel_size=(5, 20), stride=(2, 8))\n",
            "    (1): Flatten(start_dim=1, end_dim=2)\n",
            "  )\n",
            "  (gru): GRU(72, 16, num_layers=2, batch_first=True, dropout=0.1)\n",
            "  (attention): Attention(\n",
            "    (energy): Sequential(\n",
            "      (0): Linear(in_features=16, out_features=16, bias=True)\n",
            "      (1): Tanh()\n",
            "      (2): Linear(in_features=16, out_features=1, bias=True)\n",
            "    )\n",
            "  )\n",
            "  (classifier): Linear(in_features=16, out_features=2, bias=True)\n",
            "  (quant): QuantStub()\n",
            "  (dequant): DeQuantStub()\n",
            ")\n"
          ]
        }
      ]
    },
    {
      "cell_type": "code",
      "source": [
        "qat_student_history = train(qat_student, qat_student_config, qat_student_opt, qat_teacher)"
      ],
      "metadata": {
        "id": "bowFtbksGdQu"
      },
      "execution_count": null,
      "outputs": []
    },
    {
      "cell_type": "code",
      "source": [
        "fine_tune_qat_student_history = defaultdict(list)\n",
        "qat_student_config.device = torch.device('cpu')\n",
        "qat_student.to(qat_student_config.device)\n",
        "qat_student.eval()\n",
        "qat_student.qconfig = torch.quantization.get_default_qat_qconfig('fbgemm')\n",
        "# torch.ao.quantization.fuse_modules(qat_student.conv, ['0', '1'], inplace=True)\n",
        "qat_student.train()\n",
        "qat_student.gru.qconfig = None\n",
        "qat_student.classifier.qconfig = None\n",
        "qat_student.attention.qconfig = None\n",
        "torch.ao.quantization.prepare_qat(qat_student, inplace=True)\n",
        "\n",
        "# torch.ao.quantization.prepare_qat(qat_student.conv[0], inplace=True)\n",
        "# torch.ao.quantization.prepare_qat(qat_student.conv[1], inplace=True)\n",
        "\n",
        "cpu_melspec_train = LogMelspec(is_train=True, config=qat_student_config)\n",
        "cpu_melspec_val = LogMelspec(is_train=False, config=qat_student_config)\n",
        "\n",
        "for epoch in range(qat_student_config.num_epochs, qat_student_config.num_epochs + 8):\n",
        "    train_epoch(qat_student, qat_student_opt, train_loader, cpu_melspec_train, device=qat_student_config.device)\n",
        "\n",
        "    if epoch > qat_student_config.num_epochs + 3:\n",
        "        # Freeze quantizer parameters\n",
        "        qat_student.apply(torch.ao.quantization.disable_observer)\n",
        "    if epoch > qat_student_config.num_epochs + 2:\n",
        "        # Freeze batch norm mean and variance estimates\n",
        "        qat_student.apply(torch.nn.intrinsic.qat.freeze_bn_stats)\n",
        "\n",
        "    # Check the accuracy after each epoch\n",
        "    eval_student = torch.ao.quantization.convert(qat_student.eval(), inplace=False)\n",
        "    eval_student.eval()\n",
        "    au_fa_fr = validation(eval_student, val_loader,\n",
        "                              cpu_melspec_val, qat_student_config.device)\n",
        "    fine_tune_qat_student_history['val_metric'].append(au_fa_fr)\n",
        "\n",
        "    clear_output()\n",
        "    plt.plot(fine_tune_qat_student_history['val_metric'])\n",
        "    plt.ylabel('Metric')\n",
        "    plt.xlabel('Epoch')\n",
        "    plt.grid()\n",
        "    plt.show()\n",
        "\n",
        "    print('END OF FINE-TUNE EPOCH', epoch - qat_student_config.num_epochs)"
      ],
      "metadata": {
        "colab": {
          "base_uri": "https://localhost:8080/",
          "height": 1000
        },
        "id": "nP5EG9ra78vZ",
        "outputId": "0ff85e6e-d1ec-4cb5-96fe-f0cf9f4586ae"
      },
      "execution_count": null,
      "outputs": [
        {
          "output_type": "stream",
          "name": "stderr",
          "text": [
            "100%|██████████| 405/405 [00:50<00:00,  8.00it/s]\n",
            "  0%|          | 0/102 [00:00<?, ?it/s]\n"
          ]
        },
        {
          "output_type": "error",
          "ename": "NotImplementedError",
          "evalue": "ignored",
          "traceback": [
            "\u001b[0;31m---------------------------------------------------------------------------\u001b[0m",
            "\u001b[0;31mNotImplementedError\u001b[0m                       Traceback (most recent call last)",
            "\u001b[0;32m<ipython-input-832-95ec3de1efd5>\u001b[0m in \u001b[0;36m<module>\u001b[0;34m\u001b[0m\n\u001b[1;32m     31\u001b[0m     \u001b[0meval_student\u001b[0m\u001b[0;34m.\u001b[0m\u001b[0meval\u001b[0m\u001b[0;34m(\u001b[0m\u001b[0;34m)\u001b[0m\u001b[0;34m\u001b[0m\u001b[0;34m\u001b[0m\u001b[0m\n\u001b[1;32m     32\u001b[0m     au_fa_fr = validation(eval_student, val_loader,\n\u001b[0;32m---> 33\u001b[0;31m                               cpu_melspec_val, qat_student_config.device)\n\u001b[0m\u001b[1;32m     34\u001b[0m     \u001b[0mfine_tune_qat_student_history\u001b[0m\u001b[0;34m[\u001b[0m\u001b[0;34m'val_metric'\u001b[0m\u001b[0;34m]\u001b[0m\u001b[0;34m.\u001b[0m\u001b[0mappend\u001b[0m\u001b[0;34m(\u001b[0m\u001b[0mau_fa_fr\u001b[0m\u001b[0;34m)\u001b[0m\u001b[0;34m\u001b[0m\u001b[0;34m\u001b[0m\u001b[0m\n\u001b[1;32m     35\u001b[0m \u001b[0;34m\u001b[0m\u001b[0m\n",
            "\u001b[0;32m/usr/local/lib/python3.7/dist-packages/torch/autograd/grad_mode.py\u001b[0m in \u001b[0;36mdecorate_context\u001b[0;34m(*args, **kwargs)\u001b[0m\n\u001b[1;32m     25\u001b[0m         \u001b[0;32mdef\u001b[0m \u001b[0mdecorate_context\u001b[0m\u001b[0;34m(\u001b[0m\u001b[0;34m*\u001b[0m\u001b[0margs\u001b[0m\u001b[0;34m,\u001b[0m \u001b[0;34m**\u001b[0m\u001b[0mkwargs\u001b[0m\u001b[0;34m)\u001b[0m\u001b[0;34m:\u001b[0m\u001b[0;34m\u001b[0m\u001b[0;34m\u001b[0m\u001b[0m\n\u001b[1;32m     26\u001b[0m             \u001b[0;32mwith\u001b[0m \u001b[0mself\u001b[0m\u001b[0;34m.\u001b[0m\u001b[0mclone\u001b[0m\u001b[0;34m(\u001b[0m\u001b[0;34m)\u001b[0m\u001b[0;34m:\u001b[0m\u001b[0;34m\u001b[0m\u001b[0;34m\u001b[0m\u001b[0m\n\u001b[0;32m---> 27\u001b[0;31m                 \u001b[0;32mreturn\u001b[0m \u001b[0mfunc\u001b[0m\u001b[0;34m(\u001b[0m\u001b[0;34m*\u001b[0m\u001b[0margs\u001b[0m\u001b[0;34m,\u001b[0m \u001b[0;34m**\u001b[0m\u001b[0mkwargs\u001b[0m\u001b[0;34m)\u001b[0m\u001b[0;34m\u001b[0m\u001b[0;34m\u001b[0m\u001b[0m\n\u001b[0m\u001b[1;32m     28\u001b[0m         \u001b[0;32mreturn\u001b[0m \u001b[0mcast\u001b[0m\u001b[0;34m(\u001b[0m\u001b[0mF\u001b[0m\u001b[0;34m,\u001b[0m \u001b[0mdecorate_context\u001b[0m\u001b[0;34m)\u001b[0m\u001b[0;34m\u001b[0m\u001b[0;34m\u001b[0m\u001b[0m\n\u001b[1;32m     29\u001b[0m \u001b[0;34m\u001b[0m\u001b[0m\n",
            "\u001b[0;32m<ipython-input-755-fcd78ee96f75>\u001b[0m in \u001b[0;36mvalidation\u001b[0;34m(model, loader, log_melspec, device)\u001b[0m\n\u001b[1;32m      9\u001b[0m         \u001b[0mbatch\u001b[0m \u001b[0;34m=\u001b[0m \u001b[0mlog_melspec\u001b[0m\u001b[0;34m(\u001b[0m\u001b[0mbatch\u001b[0m\u001b[0;34m)\u001b[0m\u001b[0;34m\u001b[0m\u001b[0;34m\u001b[0m\u001b[0m\n\u001b[1;32m     10\u001b[0m \u001b[0;34m\u001b[0m\u001b[0m\n\u001b[0;32m---> 11\u001b[0;31m         \u001b[0moutput\u001b[0m \u001b[0;34m=\u001b[0m \u001b[0mmodel\u001b[0m\u001b[0;34m(\u001b[0m\u001b[0mbatch\u001b[0m\u001b[0;34m)\u001b[0m\u001b[0;34m\u001b[0m\u001b[0;34m\u001b[0m\u001b[0m\n\u001b[0m\u001b[1;32m     12\u001b[0m         \u001b[0;31m# we need probabilities so we use softmax & CE separately\u001b[0m\u001b[0;34m\u001b[0m\u001b[0;34m\u001b[0m\u001b[0;34m\u001b[0m\u001b[0m\n\u001b[1;32m     13\u001b[0m         \u001b[0mprobs\u001b[0m \u001b[0;34m=\u001b[0m \u001b[0mF\u001b[0m\u001b[0;34m.\u001b[0m\u001b[0msoftmax\u001b[0m\u001b[0;34m(\u001b[0m\u001b[0moutput\u001b[0m\u001b[0;34m,\u001b[0m \u001b[0mdim\u001b[0m\u001b[0;34m=\u001b[0m\u001b[0;34m-\u001b[0m\u001b[0;36m1\u001b[0m\u001b[0;34m)\u001b[0m\u001b[0;34m\u001b[0m\u001b[0;34m\u001b[0m\u001b[0m\n",
            "\u001b[0;32m/usr/local/lib/python3.7/dist-packages/torch/nn/modules/module.py\u001b[0m in \u001b[0;36m_call_impl\u001b[0;34m(self, *input, **kwargs)\u001b[0m\n\u001b[1;32m   1128\u001b[0m         if not (self._backward_hooks or self._forward_hooks or self._forward_pre_hooks or _global_backward_hooks\n\u001b[1;32m   1129\u001b[0m                 or _global_forward_hooks or _global_forward_pre_hooks):\n\u001b[0;32m-> 1130\u001b[0;31m             \u001b[0;32mreturn\u001b[0m \u001b[0mforward_call\u001b[0m\u001b[0;34m(\u001b[0m\u001b[0;34m*\u001b[0m\u001b[0minput\u001b[0m\u001b[0;34m,\u001b[0m \u001b[0;34m**\u001b[0m\u001b[0mkwargs\u001b[0m\u001b[0;34m)\u001b[0m\u001b[0;34m\u001b[0m\u001b[0;34m\u001b[0m\u001b[0m\n\u001b[0m\u001b[1;32m   1131\u001b[0m         \u001b[0;31m# Do not call functions when jit is used\u001b[0m\u001b[0;34m\u001b[0m\u001b[0;34m\u001b[0m\u001b[0;34m\u001b[0m\u001b[0m\n\u001b[1;32m   1132\u001b[0m         \u001b[0mfull_backward_hooks\u001b[0m\u001b[0;34m,\u001b[0m \u001b[0mnon_full_backward_hooks\u001b[0m \u001b[0;34m=\u001b[0m \u001b[0;34m[\u001b[0m\u001b[0;34m]\u001b[0m\u001b[0;34m,\u001b[0m \u001b[0;34m[\u001b[0m\u001b[0;34m]\u001b[0m\u001b[0;34m\u001b[0m\u001b[0;34m\u001b[0m\u001b[0m\n",
            "\u001b[0;32m<ipython-input-824-8de9e8fbd814>\u001b[0m in \u001b[0;36mforward\u001b[0;34m(self, input)\u001b[0m\n\u001b[1;32m     35\u001b[0m         \u001b[0minput\u001b[0m \u001b[0;34m=\u001b[0m \u001b[0minput\u001b[0m\u001b[0;34m.\u001b[0m\u001b[0munsqueeze\u001b[0m\u001b[0;34m(\u001b[0m\u001b[0mdim\u001b[0m\u001b[0;34m=\u001b[0m\u001b[0;36m1\u001b[0m\u001b[0;34m)\u001b[0m\u001b[0;34m\u001b[0m\u001b[0;34m\u001b[0m\u001b[0m\n\u001b[1;32m     36\u001b[0m         \u001b[0mconv_output\u001b[0m \u001b[0;34m=\u001b[0m \u001b[0mself\u001b[0m\u001b[0;34m.\u001b[0m\u001b[0mconv\u001b[0m\u001b[0;34m(\u001b[0m\u001b[0minput\u001b[0m\u001b[0;34m)\u001b[0m\u001b[0;34m.\u001b[0m\u001b[0mtranspose\u001b[0m\u001b[0;34m(\u001b[0m\u001b[0;34m-\u001b[0m\u001b[0;36m1\u001b[0m\u001b[0;34m,\u001b[0m \u001b[0;34m-\u001b[0m\u001b[0;36m2\u001b[0m\u001b[0;34m)\u001b[0m\u001b[0;34m\u001b[0m\u001b[0;34m\u001b[0m\u001b[0m\n\u001b[0;32m---> 37\u001b[0;31m         \u001b[0mgru_output\u001b[0m\u001b[0;34m,\u001b[0m \u001b[0m_\u001b[0m \u001b[0;34m=\u001b[0m \u001b[0mself\u001b[0m\u001b[0;34m.\u001b[0m\u001b[0mgru\u001b[0m\u001b[0;34m(\u001b[0m\u001b[0mconv_output\u001b[0m\u001b[0;34m)\u001b[0m\u001b[0;34m\u001b[0m\u001b[0;34m\u001b[0m\u001b[0m\n\u001b[0m\u001b[1;32m     38\u001b[0m         \u001b[0mcontex_vector\u001b[0m \u001b[0;34m=\u001b[0m \u001b[0mself\u001b[0m\u001b[0;34m.\u001b[0m\u001b[0mattention\u001b[0m\u001b[0;34m(\u001b[0m\u001b[0mgru_output\u001b[0m\u001b[0;34m)\u001b[0m\u001b[0;34m\u001b[0m\u001b[0;34m\u001b[0m\u001b[0m\n\u001b[1;32m     39\u001b[0m         \u001b[0moutput\u001b[0m \u001b[0;34m=\u001b[0m \u001b[0mself\u001b[0m\u001b[0;34m.\u001b[0m\u001b[0mclassifier\u001b[0m\u001b[0;34m(\u001b[0m\u001b[0mcontex_vector\u001b[0m\u001b[0;34m)\u001b[0m\u001b[0;34m\u001b[0m\u001b[0;34m\u001b[0m\u001b[0m\n",
            "\u001b[0;32m/usr/local/lib/python3.7/dist-packages/torch/nn/modules/module.py\u001b[0m in \u001b[0;36m_call_impl\u001b[0;34m(self, *input, **kwargs)\u001b[0m\n\u001b[1;32m   1128\u001b[0m         if not (self._backward_hooks or self._forward_hooks or self._forward_pre_hooks or _global_backward_hooks\n\u001b[1;32m   1129\u001b[0m                 or _global_forward_hooks or _global_forward_pre_hooks):\n\u001b[0;32m-> 1130\u001b[0;31m             \u001b[0;32mreturn\u001b[0m \u001b[0mforward_call\u001b[0m\u001b[0;34m(\u001b[0m\u001b[0;34m*\u001b[0m\u001b[0minput\u001b[0m\u001b[0;34m,\u001b[0m \u001b[0;34m**\u001b[0m\u001b[0mkwargs\u001b[0m\u001b[0;34m)\u001b[0m\u001b[0;34m\u001b[0m\u001b[0;34m\u001b[0m\u001b[0m\n\u001b[0m\u001b[1;32m   1131\u001b[0m         \u001b[0;31m# Do not call functions when jit is used\u001b[0m\u001b[0;34m\u001b[0m\u001b[0;34m\u001b[0m\u001b[0;34m\u001b[0m\u001b[0m\n\u001b[1;32m   1132\u001b[0m         \u001b[0mfull_backward_hooks\u001b[0m\u001b[0;34m,\u001b[0m \u001b[0mnon_full_backward_hooks\u001b[0m \u001b[0;34m=\u001b[0m \u001b[0;34m[\u001b[0m\u001b[0;34m]\u001b[0m\u001b[0;34m,\u001b[0m \u001b[0;34m[\u001b[0m\u001b[0;34m]\u001b[0m\u001b[0;34m\u001b[0m\u001b[0;34m\u001b[0m\u001b[0m\n",
            "\u001b[0;32m/usr/local/lib/python3.7/dist-packages/torch/nn/modules/rnn.py\u001b[0m in \u001b[0;36mforward\u001b[0;34m(self, input, hx)\u001b[0m\n\u001b[1;32m    940\u001b[0m             hx = torch.zeros(self.num_layers * num_directions,\n\u001b[1;32m    941\u001b[0m                              \u001b[0mmax_batch_size\u001b[0m\u001b[0;34m,\u001b[0m \u001b[0mself\u001b[0m\u001b[0;34m.\u001b[0m\u001b[0mhidden_size\u001b[0m\u001b[0;34m,\u001b[0m\u001b[0;34m\u001b[0m\u001b[0;34m\u001b[0m\u001b[0m\n\u001b[0;32m--> 942\u001b[0;31m                              dtype=input.dtype, device=input.device)\n\u001b[0m\u001b[1;32m    943\u001b[0m         \u001b[0;32melse\u001b[0m\u001b[0;34m:\u001b[0m\u001b[0;34m\u001b[0m\u001b[0;34m\u001b[0m\u001b[0m\n\u001b[1;32m    944\u001b[0m             \u001b[0;31m# Each batch of the hidden state should match the input sequence that\u001b[0m\u001b[0;34m\u001b[0m\u001b[0;34m\u001b[0m\u001b[0;34m\u001b[0m\u001b[0m\n",
            "\u001b[0;31mNotImplementedError\u001b[0m: Could not run 'aten::zero_' with arguments from the 'QuantizedCPU' backend. This could be because the operator doesn't exist for this backend, or was omitted during the selective/custom build process (if using custom build). If you are a Facebook employee using PyTorch on mobile, please visit https://fburl.com/ptmfixes for possible resolutions. 'aten::zero_' is only available for these backends: [Dense, FPGA, Conjugate, VmapMode, FuncTorchGradWrapper, Functionalize, MPS, IPU, UNKNOWN_TENSOR_TYPE_ID, QuantizedXPU, UNKNOWN_TENSOR_TYPE_ID, UNKNOWN_TENSOR_TYPE_ID, UNKNOWN_TENSOR_TYPE_ID, UNKNOWN_TENSOR_TYPE_ID, UNKNOWN_TENSOR_TYPE_ID, SparseCPU, SparseCUDA, SparseHIP, UNKNOWN_TENSOR_TYPE_ID, UNKNOWN_TENSOR_TYPE_ID, UNKNOWN_TENSOR_TYPE_ID, SparseXPU, UNKNOWN_TENSOR_TYPE_ID, SparseVE, UNKNOWN_TENSOR_TYPE_ID, UNKNOWN_TENSOR_TYPE_ID, UNKNOWN_TENSOR_TYPE_ID, UNKNOWN_TENSOR_TYPE_ID, UNKNOWN_TENSOR_TYPE_ID, NestedTensorCUDA, UNKNOWN_TENSOR_TYPE_ID, UNKNOWN_TENSOR_TYPE_ID, UNKNOWN_TENSOR_TYPE_ID, UNKNOWN_TENSOR_TYPE_ID, UNKNOWN_TENSOR_TYPE_ID, UNKNOWN_TENSOR_TYPE_ID].\n\nCPU: registered at aten/src/ATen/RegisterCPU.cpp:37386 [kernel]\nCUDA: registered at aten/src/ATen/RegisterCUDA.cpp:51977 [kernel]\nMeta: registered at aten/src/ATen/RegisterMeta.cpp:31637 [kernel]\nMkldnnCPU: registered at aten/src/ATen/RegisterMkldnnCPU.cpp:690 [kernel]\nSparseCPU: registered at aten/src/ATen/RegisterSparseCPU.cpp:1858 [kernel]\nSparseCUDA: registered at aten/src/ATen/RegisterSparseCUDA.cpp:2018 [kernel]\nSparseCsrCPU: registered at aten/src/ATen/RegisterSparseCsrCPU.cpp:1507 [kernel]\nSparseCsrCUDA: registered at aten/src/ATen/RegisterSparseCsrCUDA.cpp:1657 [kernel]\nBackendSelect: fallthrough registered at ../aten/src/ATen/core/BackendSelectFallbackKernel.cpp:3 [backend fallback]\nPython: registered at ../aten/src/ATen/core/PythonFallbackKernel.cpp:133 [backend fallback]\nNamed: fallthrough registered at ../aten/src/ATen/core/NamedRegistrations.cpp:11 [kernel]\nConjugate: registered at ../aten/src/ATen/ConjugateFallback.cpp:18 [backend fallback]\nNegative: registered at ../aten/src/ATen/native/NegateFallback.cpp:18 [backend fallback]\nZeroTensor: registered at ../aten/src/ATen/ZeroTensorFallback.cpp:86 [backend fallback]\nADInplaceOrView: registered at ../torch/csrc/autograd/generated/ADInplaceOrViewType_0.cpp:3016 [kernel]\nAutogradOther: registered at ../torch/csrc/autograd/generated/VariableType_0.cpp:11935 [autograd kernel]\nAutogradCPU: registered at ../torch/csrc/autograd/generated/VariableType_0.cpp:11935 [autograd kernel]\nAutogradCUDA: registered at ../torch/csrc/autograd/generated/VariableType_0.cpp:11935 [autograd kernel]\nUNKNOWN_TENSOR_TYPE_ID: registered at ../torch/csrc/autograd/generated/VariableType_0.cpp:11935 [autograd kernel]\nAutogradXLA: registered at ../torch/csrc/autograd/generated/VariableType_0.cpp:11935 [autograd kernel]\nAutogradMPS: registered at ../torch/csrc/autograd/generated/VariableType_0.cpp:11935 [autograd kernel]\nAutogradIPU: registered at ../torch/csrc/autograd/generated/VariableType_0.cpp:11935 [autograd kernel]\nAutogradXPU: registered at ../torch/csrc/autograd/generated/VariableType_0.cpp:11935 [autograd kernel]\nAutogradHPU: registered at ../torch/csrc/autograd/generated/VariableType_0.cpp:11935 [autograd kernel]\nUNKNOWN_TENSOR_TYPE_ID: registered at ../torch/csrc/autograd/generated/VariableType_0.cpp:11935 [autograd kernel]\nAutogradLazy: registered at ../torch/csrc/autograd/generated/VariableType_0.cpp:11935 [autograd kernel]\nAutogradPrivateUse1: registered at ../torch/csrc/autograd/generated/VariableType_0.cpp:11935 [autograd kernel]\nAutogradPrivateUse2: registered at ../torch/csrc/autograd/generated/VariableType_0.cpp:11935 [autograd kernel]\nAutogradPrivateUse3: registered at ../torch/csrc/autograd/generated/VariableType_0.cpp:11935 [autograd kernel]\nTracer: registered at ../torch/csrc/autograd/generated/TraceType_3.cpp:12515 [kernel]\nAutocastCPU: fallthrough registered at ../aten/src/ATen/autocast_mode.cpp:481 [backend fallback]\nAutocast: fallthrough registered at ../aten/src/ATen/autocast_mode.cpp:324 [backend fallback]\nBatched: registered at ../aten/src/ATen/BatchingRegistrations.cpp:1068 [kernel]\nVmapMode: fallthrough registered at ../aten/src/ATen/VmapModeRegistrations.cpp:33 [backend fallback]\nFunctionalize: registered at aten/src/ATen/RegisterFunctionalization_2.cpp:11616 [kernel]\nPythonTLSSnapshot: registered at ../aten/src/ATen/core/PythonFallbackKernel.cpp:137 [backend fallback]\n"
          ]
        }
      ]
    },
    {
      "cell_type": "code",
      "source": [
        "qat_student"
      ],
      "metadata": {
        "colab": {
          "base_uri": "https://localhost:8080/"
        },
        "id": "mn26fLV1PKDe",
        "outputId": "6bf2a92f-e19f-40ed-924a-c71cee83b617"
      },
      "execution_count": null,
      "outputs": [
        {
          "output_type": "execute_result",
          "data": {
            "text/plain": [
              "QatCRNN(\n",
              "  (conv): Sequential(\n",
              "    (0): Conv2d(\n",
              "      1, 4, kernel_size=(5, 20), stride=(2, 8)\n",
              "      (weight_fake_quant): FusedMovingAvgObsFakeQuantize(\n",
              "        fake_quant_enabled=tensor([1]), observer_enabled=tensor([1]), scale=tensor([0.0008, 0.0008, 0.0008, 0.0008]), zero_point=tensor([0, 0, 0, 0], dtype=torch.int32), dtype=torch.qint8, quant_min=-128, quant_max=127, qscheme=torch.per_channel_symmetric, reduce_range=False\n",
              "        (activation_post_process): MovingAveragePerChannelMinMaxObserver(min_val=tensor([-0.0990, -0.0997, -0.1003, -0.0997]), max_val=tensor([0.0966, 0.1006, 0.0973, 0.0986]))\n",
              "      )\n",
              "      (activation_post_process): FusedMovingAvgObsFakeQuantize(\n",
              "        fake_quant_enabled=tensor([1]), observer_enabled=tensor([1]), scale=tensor([0.3350]), zero_point=tensor([45], dtype=torch.int32), dtype=torch.quint8, quant_min=0, quant_max=127, qscheme=torch.per_tensor_affine, reduce_range=True\n",
              "        (activation_post_process): MovingAverageMinMaxObserver(min_val=-15.175553321838379, max_val=27.371301651000977)\n",
              "      )\n",
              "    )\n",
              "    (1): BatchNorm2d(\n",
              "      4, eps=1e-05, momentum=0.1, affine=True, track_running_stats=True\n",
              "      (activation_post_process): FusedMovingAvgObsFakeQuantize(\n",
              "        fake_quant_enabled=tensor([1]), observer_enabled=tensor([1]), scale=tensor([0.0539]), zero_point=tensor([66], dtype=torch.int32), dtype=torch.quint8, quant_min=0, quant_max=127, qscheme=torch.per_tensor_affine, reduce_range=True\n",
              "        (activation_post_process): MovingAverageMinMaxObserver(min_val=-3.572862386703491, max_val=3.2674622535705566)\n",
              "      )\n",
              "    )\n",
              "    (2): Flatten(start_dim=1, end_dim=2)\n",
              "  )\n",
              "  (gru): GRU(72, 16, num_layers=2, batch_first=True, dropout=0.1)\n",
              "  (attention): Attention(\n",
              "    (energy): Sequential(\n",
              "      (0): Linear(in_features=16, out_features=16, bias=True)\n",
              "      (1): Tanh()\n",
              "      (2): Linear(in_features=16, out_features=1, bias=True)\n",
              "    )\n",
              "  )\n",
              "  (classifier): Linear(in_features=16, out_features=2, bias=True)\n",
              ")"
            ]
          },
          "metadata": {},
          "execution_count": 812
        }
      ]
    },
    {
      "cell_type": "markdown",
      "source": [
        "# Best Result Representation\n",
        "\n",
        "**Dark Knowledge Distillation + Attention Distillation + Dynamic Quantization**\n",
        "`hidden_size`=8!!\n",
        "\n",
        "Вставьте нужные пути до моделей."
      ],
      "metadata": {
        "id": "GRFYF3Yva1FB"
      }
    },
    {
      "cell_type": "code",
      "source": [
        "PATH_TO_BEST_MODEL = \"/content/drive/MyDrive/quantized_attn_hid_s8_student\"\n",
        "PATH_TO_BEST_MODEL_WITHOUT_QUANT = \"/content/drive/MyDrive/attn_student_hid_s8\"\n",
        "PATH_TO_BASE_MODEL = \"/content/drive/MyDrive/teacher\""
      ],
      "metadata": {
        "id": "uiPt0xODJEPs"
      },
      "execution_count": 87,
      "outputs": []
    },
    {
      "cell_type": "code",
      "source": [
        "best_model = torch.load(PATH_TO_BEST_MODEL)\n",
        "base_model = torch.load(PATH_TO_BASE_MODEL)\n",
        "prev_best_model = torch.load(PATH_TO_BEST_MODEL_WITHOUT_QUANT)"
      ],
      "metadata": {
        "id": "PJh9HsMXJVUE"
      },
      "execution_count": 88,
      "outputs": []
    },
    {
      "cell_type": "code",
      "source": [
        "base_model_mb = get_size_in_megabytes(base_model)\n",
        "best_model_mb = get_size_in_megabytes(best_model)\n",
        "\n",
        "inp = torch.randn(1, 2 * 16_000)\n",
        "spec = melspec_train(inp.to(\"cuda:0\"))\n",
        "\n",
        "best_model_macs = profile(prev_best_model, (spec, ))[0]\n",
        "base_model_macs = profile(base_model, (spec, ))[0]\n",
        "\n",
        "print()\n",
        "print(f\"Memory compression ratio (base_model : best_model) = {base_model_mb / best_model_mb}\")\n",
        "print(f\"MACs compression ratio (base_model : best_model) = {base_model_macs / best_model_macs}\")"
      ],
      "metadata": {
        "colab": {
          "base_uri": "https://localhost:8080/"
        },
        "id": "z3xEzyKOJn_E",
        "outputId": "2d493a61-1df5-4d74-9441-f111d0ce25f7"
      },
      "execution_count": 91,
      "outputs": [
        {
          "output_type": "stream",
          "name": "stdout",
          "text": [
            "[INFO] Register count_convNd() for <class 'torch.nn.modules.conv.Conv2d'>.\n",
            "[INFO] Register zero_ops() for <class 'torch.nn.modules.container.Sequential'>.\n",
            "[INFO] Register count_gru() for <class 'torch.nn.modules.rnn.GRU'>.\n",
            "[INFO] Register count_linear() for <class 'torch.nn.modules.linear.Linear'>.\n",
            "[INFO] Register count_convNd() for <class 'torch.nn.modules.conv.Conv2d'>.\n",
            "[INFO] Register zero_ops() for <class 'torch.nn.modules.container.Sequential'>.\n",
            "[INFO] Register count_gru() for <class 'torch.nn.modules.rnn.GRU'>.\n",
            "[INFO] Register count_linear() for <class 'torch.nn.modules.linear.Linear'>.\n",
            "\n",
            "Memory compression ratio (base_model : best_model) = 9.140887034987657\n",
            "MACs compression ratio (base_model : best_model) = 4.04192917079971\n"
          ]
        }
      ]
    },
    {
      "cell_type": "code",
      "source": [],
      "metadata": {
        "id": "riQ23u1FPY_p"
      },
      "execution_count": null,
      "outputs": []
    }
  ],
  "metadata": {
    "accelerator": "GPU",
    "colab": {
      "collapsed_sections": [
        "_lhrn5O-qUYZ",
        "812GwLfqqUYf",
        "ItjcT3iW1fzj",
        "KA1gPmE1h9pI",
        "LUxfDJw1qUYi",
        "2vbPDqd6qUYj",
        "e8G9xPRVqUYk",
        "kTlsn6cpqUYk",
        "CcEP5cEZqUYl",
        "j7-iqO5jralt",
        "VlOkiCcasIyp",
        "JVd8Ar0GS-W_",
        "GSNW-nZCJ4Q0",
        "x55t7y0NZg_w",
        "jpIcAETckE3T",
        "gyPmGTVRkJJX",
        "CpEb2l65krVw",
        "UXnmXk3gkwlR",
        "mRubrtPF8VWz",
        "qFMnH8RoMvMD",
        "YI8m8BtdMxlU",
        "y_6R-qQF9dn0",
        "P8CoxFkI4tLb",
        "FDVPMwcu675z",
        "GRFYF3Yva1FB"
      ],
      "provenance": []
    },
    "kernelspec": {
      "display_name": "Python 3 (ipykernel)",
      "language": "python",
      "name": "python3"
    },
    "language_info": {
      "codemirror_mode": {
        "name": "ipython",
        "version": 3
      },
      "file_extension": ".py",
      "mimetype": "text/x-python",
      "name": "python",
      "nbconvert_exporter": "python",
      "pygments_lexer": "ipython3",
      "version": "3.8.12"
    },
    "gpuClass": "standard"
  },
  "nbformat": 4,
  "nbformat_minor": 0
}