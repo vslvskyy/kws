{
  "nbformat": 4,
  "nbformat_minor": 0,
  "metadata": {
    "colab": {
      "provenance": [],
      "collapsed_sections": [
        "_3CGjOcMSZkD",
        "s7UHG5UVLUmc",
        "vtkFFQM1LddD",
        "yPxdULdeLksZ",
        "S79_FLnlL8a1",
        "clhQKOAKML2N",
        "wNHC0WXMMpvK",
        "dpvv0DJeM3oF",
        "W7gkw5TnNXUT",
        "z2BZL79oNnYk",
        "Sy0tlKsZN9FN"
      ]
    },
    "kernelspec": {
      "name": "python3",
      "display_name": "Python 3"
    },
    "language_info": {
      "name": "python"
    },
    "accelerator": "GPU",
    "gpuClass": "standard"
  },
  "cells": [
    {
      "cell_type": "code",
      "execution_count": 1,
      "metadata": {
        "colab": {
          "base_uri": "https://localhost:8080/"
        },
        "id": "6cGCVfr-J8az",
        "outputId": "92f6e8e3-d1f5-44d5-9b6c-8e601a7d17c5"
      },
      "outputs": [
        {
          "output_type": "stream",
          "name": "stdout",
          "text": [
            "Cloning into 'kws'...\n",
            "remote: Enumerating objects: 41, done.\u001b[K\n",
            "remote: Counting objects: 100% (41/41), done.\u001b[K\n",
            "remote: Compressing objects: 100% (37/37), done.\u001b[K\n",
            "remote: Total 41 (delta 8), reused 0 (delta 0), pack-reused 0\u001b[K\n",
            "Unpacking objects: 100% (41/41), done.\n"
          ]
        }
      ],
      "source": [
        "!git clone https://github.com/vslvskyy/kws"
      ]
    },
    {
      "cell_type": "markdown",
      "source": [
        "# Imports"
      ],
      "metadata": {
        "id": "_3CGjOcMSZkD"
      }
    },
    {
      "cell_type": "code",
      "source": [
        "from typing import Tuple, Union, List, Callable, Optional\n",
        "from tqdm import tqdm\n",
        "from itertools import islice\n",
        "import pathlib\n",
        "import dataclasses\n",
        "\n",
        "import numpy as np\n",
        "import pandas as pd\n",
        "import math\n",
        "\n",
        "import torch\n",
        "import torch.nn.functional as F\n",
        "from torch import nn\n",
        "from torch import distributions\n",
        "from torch.utils.data import DataLoader, Dataset, WeightedRandomSampler\n",
        "from torch.nn.utils.rnn import pad_sequence\n",
        "\n",
        "import torchaudio\n",
        "from IPython import display as display_\n",
        "\n",
        "from collections import defaultdict\n",
        "from IPython.display import clear_output\n",
        "from matplotlib import pyplot as plt"
      ],
      "metadata": {
        "id": "ALOJL9qZKl-X"
      },
      "execution_count": 2,
      "outputs": []
    },
    {
      "cell_type": "code",
      "source": [
        "import random\n",
        "\n",
        "def set_random_seed(seed=42):\n",
        "    random.seed(seed)\n",
        "    np.random.seed(seed)\n",
        "    torch.manual_seed(seed)\n",
        "    if torch.cuda.is_available():\n",
        "        torch.cuda.manual_seed_all(seed)\n",
        "\n",
        "set_random_seed()"
      ],
      "metadata": {
        "id": "hHNQXbddLSUZ"
      },
      "execution_count": 3,
      "outputs": []
    },
    {
      "cell_type": "markdown",
      "source": [
        "# Task"
      ],
      "metadata": {
        "id": "s7UHG5UVLUmc"
      }
    },
    {
      "cell_type": "code",
      "source": [
        "@dataclasses.dataclass\n",
        "class TaskConfig:\n",
        "    keyword: str = 'sheila'  # We will use 1 key word -- 'sheila'\n",
        "    batch_size: int = 128\n",
        "    learning_rate: float = 3e-4\n",
        "    weight_decay: float = 1e-5\n",
        "    num_epochs: int = 20\n",
        "    n_mels: int = 40\n",
        "    cnn_out_channels: int = 8\n",
        "    kernel_size: Tuple[int, int] = (5, 20)\n",
        "    stride: Tuple[int, int] = (2, 8)\n",
        "    hidden_size: int = 64\n",
        "    gru_num_layers: int = 2\n",
        "    bidirectional: bool = False\n",
        "    num_classes: int = 2\n",
        "    sample_rate: int = 16000\n",
        "    device: torch.device = torch.device(\n",
        "        'cuda:0' if torch.cuda.is_available() else 'cpu')\n",
        "    max_window_length: int = 130\n",
        "    streaming_step_size = 40\n",
        "    t: int = 10\n",
        "    target_loss_w: float = 0.5"
      ],
      "metadata": {
        "id": "iAG5kKxiLT7F"
      },
      "execution_count": 4,
      "outputs": []
    },
    {
      "cell_type": "markdown",
      "source": [
        "# Quality measurment functions:"
      ],
      "metadata": {
        "id": "vtkFFQM1LddD"
      }
    },
    {
      "cell_type": "code",
      "source": [
        "# FA - true: 0, model: 1\n",
        "# FR - true: 1, model: 0\n",
        "\n",
        "def count_FA_FR(preds, labels):\n",
        "    FA = torch.sum(preds[labels == 0])\n",
        "    FR = torch.sum(labels[preds == 0])\n",
        "    \n",
        "    # torch.numel - returns total number of elements in tensor\n",
        "    return FA.item() / torch.numel(preds), FR.item() / torch.numel(preds)\n",
        "\n",
        "\n",
        "def get_au_fa_fr(probs, labels):\n",
        "    sorted_probs, _ = torch.sort(probs)\n",
        "    sorted_probs = torch.cat((torch.Tensor([0]), sorted_probs, torch.Tensor([1])))\n",
        "    labels = torch.cat(labels, dim=0)\n",
        "        \n",
        "    FAs, FRs = [], []\n",
        "    for prob in sorted_probs:\n",
        "        preds = (probs >= prob) * 1\n",
        "        FA, FR = count_FA_FR(preds, labels)        \n",
        "        FAs.append(FA)\n",
        "        FRs.append(FR)\n",
        "    # plt.plot(FAs, FRs)\n",
        "    # plt.show()\n",
        "\n",
        "    # ~ area under curve using trapezoidal rule\n",
        "    return -np.trapz(FRs, x=FAs)"
      ],
      "metadata": {
        "id": "77f771-cLaSB"
      },
      "execution_count": 5,
      "outputs": []
    },
    {
      "cell_type": "code",
      "source": [
        "!pip install thop"
      ],
      "metadata": {
        "id": "wYbOEQfALhXM"
      },
      "execution_count": null,
      "outputs": []
    },
    {
      "cell_type": "code",
      "source": [
        "import tempfile\n",
        "import time\n",
        "\n",
        "from thop import profile\n",
        "\n",
        "\n",
        "class Timer:\n",
        "\n",
        "    def __init__(self, name: str, verbose=False):\n",
        "        self.name = name\n",
        "        self.verbose = verbose\n",
        "\n",
        "    def __enter__(self):\n",
        "        self.t = time.time()\n",
        "        return self\n",
        "\n",
        "    def __exit__(self, type, value, traceback):\n",
        "        self.t = time.time() - self.t\n",
        "\n",
        "        if self.verbose:\n",
        "            print(f\"{self.name.capitalize()} | Elapsed time : {self.t}\")\n",
        "\n",
        "\n",
        "def get_size_in_megabytes(model):\n",
        "    # https://pytorch.org/tutorials/recipes/recipes/dynamic_quantization.html#look-at-model-size\n",
        "    with tempfile.TemporaryFile() as f:\n",
        "        torch.save(model.state_dict(), f)\n",
        "        size = f.tell() / 2**20\n",
        "    return size"
      ],
      "metadata": {
        "id": "jw4uq4FmLi_u"
      },
      "execution_count": 7,
      "outputs": []
    },
    {
      "cell_type": "markdown",
      "source": [
        "# Data"
      ],
      "metadata": {
        "id": "yPxdULdeLksZ"
      }
    },
    {
      "cell_type": "code",
      "source": [
        "!wget http://download.tensorflow.org/data/speech_commands_v0.01.tar.gz -O speech_commands_v0.01.tar.gz\n",
        "!mkdir speech_commands && tar -C speech_commands -xvzf speech_commands_v0.01.tar.gz 1> log"
      ],
      "metadata": {
        "id": "s6rg3Bz4Ls-j"
      },
      "execution_count": null,
      "outputs": []
    },
    {
      "cell_type": "code",
      "source": [
        "from pickle import FALSE\n",
        "class SpeechCommandDataset(Dataset):\n",
        "\n",
        "    def __init__(\n",
        "        self,\n",
        "        transform: Optional[Callable] = None,\n",
        "        path2dir: str = None,\n",
        "        keywords: Union[str, List[str]] = None,\n",
        "        csv: Optional[pd.DataFrame] = None,\n",
        "        return_path: bool = False\n",
        "    ):        \n",
        "        self.transform = transform\n",
        "        self.return_path = return_path\n",
        "\n",
        "        if csv is None:\n",
        "            path2dir = pathlib.Path(path2dir)\n",
        "            keywords = keywords if isinstance(keywords, list) else [keywords]\n",
        "            \n",
        "            all_keywords = [\n",
        "                p.stem for p in path2dir.glob('*')\n",
        "                if p.is_dir() and not p.stem.startswith('_')\n",
        "            ]\n",
        "\n",
        "            triplets = []\n",
        "            for keyword in all_keywords:\n",
        "                paths = (path2dir / keyword).rglob('*.wav')\n",
        "                if keyword in keywords:\n",
        "                    for path2wav in paths:\n",
        "                        triplets.append((path2wav.as_posix(), keyword, 1))\n",
        "                else:\n",
        "                    for path2wav in paths:\n",
        "                        triplets.append((path2wav.as_posix(), keyword, 0))\n",
        "            \n",
        "            self.csv = pd.DataFrame(\n",
        "                triplets,\n",
        "                columns=['path', 'keyword', 'label']\n",
        "            )\n",
        "\n",
        "        else:\n",
        "            self.csv = csv\n",
        "    \n",
        "    def __getitem__(self, index: int):\n",
        "        instance = self.csv.iloc[index]\n",
        "\n",
        "        path2wav = instance['path']\n",
        "        wav, sr = torchaudio.load(path2wav)\n",
        "        wav = wav.sum(dim=0)\n",
        "        \n",
        "        if self.transform:\n",
        "            wav = self.transform(wav)\n",
        "\n",
        "        if self.return_path:\n",
        "            return {\n",
        "                'wav': wav,\n",
        "                'keyword': instance['keyword'],\n",
        "                'label': instance['label'],\n",
        "                'path': path2wav\n",
        "            }\n",
        "        return {\n",
        "                'wav': wav,\n",
        "                'keyword': instance['keyword'],\n",
        "                'label': instance['label'],\n",
        "            }\n",
        "\n",
        "    def __len__(self):\n",
        "        return len(self.csv)"
      ],
      "metadata": {
        "id": "F3LFA3mqLtyo"
      },
      "execution_count": 9,
      "outputs": []
    },
    {
      "cell_type": "code",
      "source": [
        "dataset = SpeechCommandDataset(\n",
        "    path2dir='speech_commands', keywords=TaskConfig.keyword\n",
        ")\n",
        "dataset.csv.sample(5)"
      ],
      "metadata": {
        "colab": {
          "base_uri": "https://localhost:8080/",
          "height": 206
        },
        "id": "CCZRYwQ1LvqI",
        "outputId": "753918e5-30ce-42aa-e054-3a82f030eb98"
      },
      "execution_count": 10,
      "outputs": [
        {
          "output_type": "execute_result",
          "data": {
            "text/plain": [
              "                                              path keyword  label\n",
              "50866    speech_commands/two/f4cae173_nohash_0.wav     two      0\n",
              "1003   speech_commands/happy/d3a18257_nohash_1.wav   happy      0\n",
              "38126  speech_commands/right/471a0925_nohash_0.wav   right      0\n",
              "144    speech_commands/happy/518588b6_nohash_1.wav   happy      0\n",
              "31651     speech_commands/go/5588c7e6_nohash_0.wav      go      0"
            ],
            "text/html": [
              "\n",
              "  <div id=\"df-8eff9f94-cf85-4868-b6f4-0aa3ba7fbbb1\">\n",
              "    <div class=\"colab-df-container\">\n",
              "      <div>\n",
              "<style scoped>\n",
              "    .dataframe tbody tr th:only-of-type {\n",
              "        vertical-align: middle;\n",
              "    }\n",
              "\n",
              "    .dataframe tbody tr th {\n",
              "        vertical-align: top;\n",
              "    }\n",
              "\n",
              "    .dataframe thead th {\n",
              "        text-align: right;\n",
              "    }\n",
              "</style>\n",
              "<table border=\"1\" class=\"dataframe\">\n",
              "  <thead>\n",
              "    <tr style=\"text-align: right;\">\n",
              "      <th></th>\n",
              "      <th>path</th>\n",
              "      <th>keyword</th>\n",
              "      <th>label</th>\n",
              "    </tr>\n",
              "  </thead>\n",
              "  <tbody>\n",
              "    <tr>\n",
              "      <th>50866</th>\n",
              "      <td>speech_commands/two/f4cae173_nohash_0.wav</td>\n",
              "      <td>two</td>\n",
              "      <td>0</td>\n",
              "    </tr>\n",
              "    <tr>\n",
              "      <th>1003</th>\n",
              "      <td>speech_commands/happy/d3a18257_nohash_1.wav</td>\n",
              "      <td>happy</td>\n",
              "      <td>0</td>\n",
              "    </tr>\n",
              "    <tr>\n",
              "      <th>38126</th>\n",
              "      <td>speech_commands/right/471a0925_nohash_0.wav</td>\n",
              "      <td>right</td>\n",
              "      <td>0</td>\n",
              "    </tr>\n",
              "    <tr>\n",
              "      <th>144</th>\n",
              "      <td>speech_commands/happy/518588b6_nohash_1.wav</td>\n",
              "      <td>happy</td>\n",
              "      <td>0</td>\n",
              "    </tr>\n",
              "    <tr>\n",
              "      <th>31651</th>\n",
              "      <td>speech_commands/go/5588c7e6_nohash_0.wav</td>\n",
              "      <td>go</td>\n",
              "      <td>0</td>\n",
              "    </tr>\n",
              "  </tbody>\n",
              "</table>\n",
              "</div>\n",
              "      <button class=\"colab-df-convert\" onclick=\"convertToInteractive('df-8eff9f94-cf85-4868-b6f4-0aa3ba7fbbb1')\"\n",
              "              title=\"Convert this dataframe to an interactive table.\"\n",
              "              style=\"display:none;\">\n",
              "        \n",
              "  <svg xmlns=\"http://www.w3.org/2000/svg\" height=\"24px\"viewBox=\"0 0 24 24\"\n",
              "       width=\"24px\">\n",
              "    <path d=\"M0 0h24v24H0V0z\" fill=\"none\"/>\n",
              "    <path d=\"M18.56 5.44l.94 2.06.94-2.06 2.06-.94-2.06-.94-.94-2.06-.94 2.06-2.06.94zm-11 1L8.5 8.5l.94-2.06 2.06-.94-2.06-.94L8.5 2.5l-.94 2.06-2.06.94zm10 10l.94 2.06.94-2.06 2.06-.94-2.06-.94-.94-2.06-.94 2.06-2.06.94z\"/><path d=\"M17.41 7.96l-1.37-1.37c-.4-.4-.92-.59-1.43-.59-.52 0-1.04.2-1.43.59L10.3 9.45l-7.72 7.72c-.78.78-.78 2.05 0 2.83L4 21.41c.39.39.9.59 1.41.59.51 0 1.02-.2 1.41-.59l7.78-7.78 2.81-2.81c.8-.78.8-2.07 0-2.86zM5.41 20L4 18.59l7.72-7.72 1.47 1.35L5.41 20z\"/>\n",
              "  </svg>\n",
              "      </button>\n",
              "      \n",
              "  <style>\n",
              "    .colab-df-container {\n",
              "      display:flex;\n",
              "      flex-wrap:wrap;\n",
              "      gap: 12px;\n",
              "    }\n",
              "\n",
              "    .colab-df-convert {\n",
              "      background-color: #E8F0FE;\n",
              "      border: none;\n",
              "      border-radius: 50%;\n",
              "      cursor: pointer;\n",
              "      display: none;\n",
              "      fill: #1967D2;\n",
              "      height: 32px;\n",
              "      padding: 0 0 0 0;\n",
              "      width: 32px;\n",
              "    }\n",
              "\n",
              "    .colab-df-convert:hover {\n",
              "      background-color: #E2EBFA;\n",
              "      box-shadow: 0px 1px 2px rgba(60, 64, 67, 0.3), 0px 1px 3px 1px rgba(60, 64, 67, 0.15);\n",
              "      fill: #174EA6;\n",
              "    }\n",
              "\n",
              "    [theme=dark] .colab-df-convert {\n",
              "      background-color: #3B4455;\n",
              "      fill: #D2E3FC;\n",
              "    }\n",
              "\n",
              "    [theme=dark] .colab-df-convert:hover {\n",
              "      background-color: #434B5C;\n",
              "      box-shadow: 0px 1px 3px 1px rgba(0, 0, 0, 0.15);\n",
              "      filter: drop-shadow(0px 1px 2px rgba(0, 0, 0, 0.3));\n",
              "      fill: #FFFFFF;\n",
              "    }\n",
              "  </style>\n",
              "\n",
              "      <script>\n",
              "        const buttonEl =\n",
              "          document.querySelector('#df-8eff9f94-cf85-4868-b6f4-0aa3ba7fbbb1 button.colab-df-convert');\n",
              "        buttonEl.style.display =\n",
              "          google.colab.kernel.accessAllowed ? 'block' : 'none';\n",
              "\n",
              "        async function convertToInteractive(key) {\n",
              "          const element = document.querySelector('#df-8eff9f94-cf85-4868-b6f4-0aa3ba7fbbb1');\n",
              "          const dataTable =\n",
              "            await google.colab.kernel.invokeFunction('convertToInteractive',\n",
              "                                                     [key], {});\n",
              "          if (!dataTable) return;\n",
              "\n",
              "          const docLinkHtml = 'Like what you see? Visit the ' +\n",
              "            '<a target=\"_blank\" href=https://colab.research.google.com/notebooks/data_table.ipynb>data table notebook</a>'\n",
              "            + ' to learn more about interactive tables.';\n",
              "          element.innerHTML = '';\n",
              "          dataTable['output_type'] = 'display_data';\n",
              "          await google.colab.output.renderOutput(dataTable, element);\n",
              "          const docLink = document.createElement('div');\n",
              "          docLink.innerHTML = docLinkHtml;\n",
              "          element.appendChild(docLink);\n",
              "        }\n",
              "      </script>\n",
              "    </div>\n",
              "  </div>\n",
              "  "
            ]
          },
          "metadata": {},
          "execution_count": 10
        }
      ]
    },
    {
      "cell_type": "code",
      "source": [
        "my_dataset = SpeechCommandDataset(\n",
        "    path2dir='kws/my_dataset', keywords=TaskConfig.keyword,\n",
        "    return_path=True\n",
        ")\n",
        "my_dataset.csv"
      ],
      "metadata": {
        "colab": {
          "base_uri": "https://localhost:8080/",
          "height": 237
        },
        "id": "Mus-g8q8LyuS",
        "outputId": "3b81b22c-8ed0-498e-9720-0c694546b4b8"
      },
      "execution_count": 11,
      "outputs": [
        {
          "output_type": "execute_result",
          "data": {
            "text/plain": [
              "                                        path     keyword  label\n",
              "0  kws/my_dataset/sheila/sheila_alphabet.wav      sheila      1\n",
              "1    kws/my_dataset/sheila/friend_sheila.wav      sheila      1\n",
              "2           kws/my_dataset/sheila/sheila.wav      sheila      1\n",
              "3      kws/my_dataset/sheila/sheila_ones.wav      sheila      1\n",
              "4     kws/my_dataset/not_sheila/alphabet.wav  not_sheila      0\n",
              "5  kws/my_dataset/not_sheila/friend_alex.wav  not_sheila      0"
            ],
            "text/html": [
              "\n",
              "  <div id=\"df-e1d110a0-a574-4642-8130-92dc85c9162d\">\n",
              "    <div class=\"colab-df-container\">\n",
              "      <div>\n",
              "<style scoped>\n",
              "    .dataframe tbody tr th:only-of-type {\n",
              "        vertical-align: middle;\n",
              "    }\n",
              "\n",
              "    .dataframe tbody tr th {\n",
              "        vertical-align: top;\n",
              "    }\n",
              "\n",
              "    .dataframe thead th {\n",
              "        text-align: right;\n",
              "    }\n",
              "</style>\n",
              "<table border=\"1\" class=\"dataframe\">\n",
              "  <thead>\n",
              "    <tr style=\"text-align: right;\">\n",
              "      <th></th>\n",
              "      <th>path</th>\n",
              "      <th>keyword</th>\n",
              "      <th>label</th>\n",
              "    </tr>\n",
              "  </thead>\n",
              "  <tbody>\n",
              "    <tr>\n",
              "      <th>0</th>\n",
              "      <td>kws/my_dataset/sheila/sheila_alphabet.wav</td>\n",
              "      <td>sheila</td>\n",
              "      <td>1</td>\n",
              "    </tr>\n",
              "    <tr>\n",
              "      <th>1</th>\n",
              "      <td>kws/my_dataset/sheila/friend_sheila.wav</td>\n",
              "      <td>sheila</td>\n",
              "      <td>1</td>\n",
              "    </tr>\n",
              "    <tr>\n",
              "      <th>2</th>\n",
              "      <td>kws/my_dataset/sheila/sheila.wav</td>\n",
              "      <td>sheila</td>\n",
              "      <td>1</td>\n",
              "    </tr>\n",
              "    <tr>\n",
              "      <th>3</th>\n",
              "      <td>kws/my_dataset/sheila/sheila_ones.wav</td>\n",
              "      <td>sheila</td>\n",
              "      <td>1</td>\n",
              "    </tr>\n",
              "    <tr>\n",
              "      <th>4</th>\n",
              "      <td>kws/my_dataset/not_sheila/alphabet.wav</td>\n",
              "      <td>not_sheila</td>\n",
              "      <td>0</td>\n",
              "    </tr>\n",
              "    <tr>\n",
              "      <th>5</th>\n",
              "      <td>kws/my_dataset/not_sheila/friend_alex.wav</td>\n",
              "      <td>not_sheila</td>\n",
              "      <td>0</td>\n",
              "    </tr>\n",
              "  </tbody>\n",
              "</table>\n",
              "</div>\n",
              "      <button class=\"colab-df-convert\" onclick=\"convertToInteractive('df-e1d110a0-a574-4642-8130-92dc85c9162d')\"\n",
              "              title=\"Convert this dataframe to an interactive table.\"\n",
              "              style=\"display:none;\">\n",
              "        \n",
              "  <svg xmlns=\"http://www.w3.org/2000/svg\" height=\"24px\"viewBox=\"0 0 24 24\"\n",
              "       width=\"24px\">\n",
              "    <path d=\"M0 0h24v24H0V0z\" fill=\"none\"/>\n",
              "    <path d=\"M18.56 5.44l.94 2.06.94-2.06 2.06-.94-2.06-.94-.94-2.06-.94 2.06-2.06.94zm-11 1L8.5 8.5l.94-2.06 2.06-.94-2.06-.94L8.5 2.5l-.94 2.06-2.06.94zm10 10l.94 2.06.94-2.06 2.06-.94-2.06-.94-.94-2.06-.94 2.06-2.06.94z\"/><path d=\"M17.41 7.96l-1.37-1.37c-.4-.4-.92-.59-1.43-.59-.52 0-1.04.2-1.43.59L10.3 9.45l-7.72 7.72c-.78.78-.78 2.05 0 2.83L4 21.41c.39.39.9.59 1.41.59.51 0 1.02-.2 1.41-.59l7.78-7.78 2.81-2.81c.8-.78.8-2.07 0-2.86zM5.41 20L4 18.59l7.72-7.72 1.47 1.35L5.41 20z\"/>\n",
              "  </svg>\n",
              "      </button>\n",
              "      \n",
              "  <style>\n",
              "    .colab-df-container {\n",
              "      display:flex;\n",
              "      flex-wrap:wrap;\n",
              "      gap: 12px;\n",
              "    }\n",
              "\n",
              "    .colab-df-convert {\n",
              "      background-color: #E8F0FE;\n",
              "      border: none;\n",
              "      border-radius: 50%;\n",
              "      cursor: pointer;\n",
              "      display: none;\n",
              "      fill: #1967D2;\n",
              "      height: 32px;\n",
              "      padding: 0 0 0 0;\n",
              "      width: 32px;\n",
              "    }\n",
              "\n",
              "    .colab-df-convert:hover {\n",
              "      background-color: #E2EBFA;\n",
              "      box-shadow: 0px 1px 2px rgba(60, 64, 67, 0.3), 0px 1px 3px 1px rgba(60, 64, 67, 0.15);\n",
              "      fill: #174EA6;\n",
              "    }\n",
              "\n",
              "    [theme=dark] .colab-df-convert {\n",
              "      background-color: #3B4455;\n",
              "      fill: #D2E3FC;\n",
              "    }\n",
              "\n",
              "    [theme=dark] .colab-df-convert:hover {\n",
              "      background-color: #434B5C;\n",
              "      box-shadow: 0px 1px 3px 1px rgba(0, 0, 0, 0.15);\n",
              "      filter: drop-shadow(0px 1px 2px rgba(0, 0, 0, 0.3));\n",
              "      fill: #FFFFFF;\n",
              "    }\n",
              "  </style>\n",
              "\n",
              "      <script>\n",
              "        const buttonEl =\n",
              "          document.querySelector('#df-e1d110a0-a574-4642-8130-92dc85c9162d button.colab-df-convert');\n",
              "        buttonEl.style.display =\n",
              "          google.colab.kernel.accessAllowed ? 'block' : 'none';\n",
              "\n",
              "        async function convertToInteractive(key) {\n",
              "          const element = document.querySelector('#df-e1d110a0-a574-4642-8130-92dc85c9162d');\n",
              "          const dataTable =\n",
              "            await google.colab.kernel.invokeFunction('convertToInteractive',\n",
              "                                                     [key], {});\n",
              "          if (!dataTable) return;\n",
              "\n",
              "          const docLinkHtml = 'Like what you see? Visit the ' +\n",
              "            '<a target=\"_blank\" href=https://colab.research.google.com/notebooks/data_table.ipynb>data table notebook</a>'\n",
              "            + ' to learn more about interactive tables.';\n",
              "          element.innerHTML = '';\n",
              "          dataTable['output_type'] = 'display_data';\n",
              "          await google.colab.output.renderOutput(dataTable, element);\n",
              "          const docLink = document.createElement('div');\n",
              "          docLink.innerHTML = docLinkHtml;\n",
              "          element.appendChild(docLink);\n",
              "        }\n",
              "      </script>\n",
              "    </div>\n",
              "  </div>\n",
              "  "
            ]
          },
          "metadata": {},
          "execution_count": 11
        }
      ]
    },
    {
      "cell_type": "markdown",
      "source": [
        "### Augmentations"
      ],
      "metadata": {
        "id": "S79_FLnlL8a1"
      }
    },
    {
      "cell_type": "code",
      "source": [
        "class AugsCreation:\n",
        "\n",
        "    def __init__(self):\n",
        "        self.background_noises = [\n",
        "            'speech_commands/_background_noise_/white_noise.wav',\n",
        "            'speech_commands/_background_noise_/dude_miaowing.wav',\n",
        "            'speech_commands/_background_noise_/doing_the_dishes.wav',\n",
        "            'speech_commands/_background_noise_/exercise_bike.wav',\n",
        "            'speech_commands/_background_noise_/pink_noise.wav',\n",
        "            'speech_commands/_background_noise_/running_tap.wav'\n",
        "        ]\n",
        "\n",
        "        self.noises = [\n",
        "            torchaudio.load(p)[0].squeeze()\n",
        "            for p in self.background_noises\n",
        "        ]\n",
        "\n",
        "    def add_rand_noise(self, audio):\n",
        "\n",
        "        # randomly choose noise\n",
        "        noise_num = torch.randint(low=0, high=len(\n",
        "            self.background_noises), size=(1,)).item()\n",
        "        noise = self.noises[noise_num]\n",
        "\n",
        "        noise_level = torch.Tensor([1])  # [0, 40]\n",
        "\n",
        "        noise_energy = torch.norm(noise)\n",
        "        audio_energy = torch.norm(audio)\n",
        "        alpha = (audio_energy / noise_energy) * \\\n",
        "            torch.pow(10, -noise_level / 20)\n",
        "\n",
        "        start = torch.randint(\n",
        "            low=0,\n",
        "            high=max(int(noise.size(0) - audio.size(0) - 1), 1),\n",
        "            size=(1,)\n",
        "        ).item()\n",
        "        noise_sample = noise[start: start + audio.size(0)]\n",
        "\n",
        "        audio_new = audio + alpha * noise_sample\n",
        "        audio_new.clamp_(-1, 1)\n",
        "        return audio_new\n",
        "\n",
        "    def __call__(self, wav):\n",
        "        aug_num = torch.randint(low=0, high=4, size=(1,)).item()   # choose 1 random aug from augs\n",
        "        augs = [\n",
        "            lambda x: x,\n",
        "            lambda x: (x + distributions.Normal(0, 0.01).sample(x.size())).clamp_(-1, 1),\n",
        "            lambda x: torchaudio.transforms.Vol(.25)(x),\n",
        "            lambda x: self.add_rand_noise(x)\n",
        "        ]\n",
        "\n",
        "        return augs[aug_num](wav)"
      ],
      "metadata": {
        "id": "wcW8q3RFL621"
      },
      "execution_count": 15,
      "outputs": []
    },
    {
      "cell_type": "code",
      "source": [
        "set_random_seed()\n",
        "indexes = torch.randperm(len(dataset))\n",
        "train_indexes = indexes[:int(len(dataset) * 0.8)]\n",
        "val_indexes = indexes[int(len(dataset) * 0.8):]\n",
        "\n",
        "train_df = dataset.csv.iloc[train_indexes].reset_index(drop=True)\n",
        "val_df = dataset.csv.iloc[val_indexes].reset_index(drop=True)"
      ],
      "metadata": {
        "id": "-maXjCjEMFJz"
      },
      "execution_count": 16,
      "outputs": []
    },
    {
      "cell_type": "code",
      "source": [
        "# Sample is a dict of utt, word and label\n",
        "# train_set = SpeechCommandDataset(csv=train_df, transform=AugsCreation())\n",
        "val_set = SpeechCommandDataset(csv=val_df)"
      ],
      "metadata": {
        "id": "gPGlsA_wMGuL"
      },
      "execution_count": 17,
      "outputs": []
    },
    {
      "cell_type": "markdown",
      "source": [
        "### Sampler for oversampling:"
      ],
      "metadata": {
        "id": "clhQKOAKML2N"
      }
    },
    {
      "cell_type": "code",
      "source": [
        "# We should provide to WeightedRandomSampler _weight for every sample_; by default it is 1/len(target)\n",
        "\n",
        "def get_sampler(target):\n",
        "    class_sample_count = np.array(\n",
        "        [len(np.where(target == t)[0]) for t in np.unique(target)])   # for every class count it's number of occ.\n",
        "    weight = 1. / class_sample_count\n",
        "    samples_weight = np.array([weight[t] for t in target])\n",
        "    samples_weight = torch.from_numpy(samples_weight)\n",
        "    samples_weigth = samples_weight.float()\n",
        "    sampler = WeightedRandomSampler(samples_weight, len(samples_weight))\n",
        "    return sampler"
      ],
      "metadata": {
        "id": "dXbAlHDMMLDZ"
      },
      "execution_count": 18,
      "outputs": []
    },
    {
      "cell_type": "code",
      "source": [
        "class Collator:\n",
        "    \n",
        "    def __call__(self, data):\n",
        "        wavs, labels, paths = [], [], []\n",
        "\n",
        "        for el in data:\n",
        "            wavs.append(el['wav'])\n",
        "            labels.append(el['label'])\n",
        "            try:\n",
        "                paths.append(el['path'])\n",
        "            except:\n",
        "              continue\n",
        "\n",
        "        # torch.nn.utils.rnn.pad_sequence takes list(Tensors) and returns padded (with 0.0) Tensor\n",
        "        wavs = pad_sequence(wavs, batch_first=True)    \n",
        "        labels = torch.Tensor(labels).long()\n",
        "        if len(paths) == len(wavs):\n",
        "            return wavs, labels, paths\n",
        "        return wavs, labels"
      ],
      "metadata": {
        "id": "5Q8mLq2YMRJO"
      },
      "execution_count": 19,
      "outputs": []
    },
    {
      "cell_type": "markdown",
      "source": [
        "###  Dataloaders"
      ],
      "metadata": {
        "id": "wNHC0WXMMpvK"
      }
    },
    {
      "cell_type": "code",
      "source": [
        "val_loader = DataLoader(val_set, batch_size=TaskConfig.batch_size,\n",
        "                        shuffle=False, collate_fn=Collator(),\n",
        "                        num_workers=2, pin_memory=True)\n",
        "\n",
        "my_loader = DataLoader(my_dataset, batch_size=1,\n",
        "                        shuffle=False, collate_fn=Collator(),\n",
        "                        num_workers=2, pin_memory=True)"
      ],
      "metadata": {
        "id": "HjGI0FmCMm-f"
      },
      "execution_count": 20,
      "outputs": []
    },
    {
      "cell_type": "markdown",
      "source": [
        "### Creating MelSpecs on GPU for speeeed: "
      ],
      "metadata": {
        "id": "pCyUEWbtMuJB"
      }
    },
    {
      "cell_type": "code",
      "source": [
        "class LogMelspec:\n",
        "\n",
        "    def __init__(self, is_train, config):\n",
        "        # with augmentations\n",
        "        if is_train:\n",
        "            self.melspec = nn.Sequential(\n",
        "                torchaudio.transforms.MelSpectrogram(\n",
        "                    sample_rate=config.sample_rate,\n",
        "                    n_fft=400,\n",
        "                    win_length=400,\n",
        "                    hop_length=160,\n",
        "                    n_mels=config.n_mels\n",
        "                ),\n",
        "                torchaudio.transforms.FrequencyMasking(freq_mask_param=15),\n",
        "                torchaudio.transforms.TimeMasking(time_mask_param=35),\n",
        "            ).to(config.device)\n",
        "\n",
        "        # no augmentations\n",
        "        else:\n",
        "            self.melspec = torchaudio.transforms.MelSpectrogram(\n",
        "                sample_rate=config.sample_rate,\n",
        "                n_fft=400,\n",
        "                win_length=400,\n",
        "                hop_length=160,\n",
        "                n_mels=config.n_mels\n",
        "            ).to(config.device)\n",
        "\n",
        "    def __call__(self, batch):\n",
        "        # already on device\n",
        "        return torch.log(self.melspec(batch).clamp_(min=1e-9, max=1e9))"
      ],
      "metadata": {
        "id": "ZxI9tUpmMszU"
      },
      "execution_count": 21,
      "outputs": []
    },
    {
      "cell_type": "code",
      "source": [
        "melspec_val = LogMelspec(is_train=False, config=TaskConfig)"
      ],
      "metadata": {
        "id": "JG1WkAzyMz2t"
      },
      "execution_count": 22,
      "outputs": []
    },
    {
      "cell_type": "markdown",
      "source": [
        "# Models"
      ],
      "metadata": {
        "id": "dpvv0DJeM3oF"
      }
    },
    {
      "cell_type": "code",
      "source": [
        "class SmallAttention(nn.Module):\n",
        "    def __init__(self, hidden_size: int, scale: int = 2):\n",
        "        assert hidden_size >= scale\n",
        "        super().__init__()\n",
        "\n",
        "        self.energy = nn.Sequential(\n",
        "            nn.Linear(hidden_size, hidden_size // scale),\n",
        "            nn.Tanh(),\n",
        "            nn.Linear(hidden_size // scale, 1)\n",
        "        )\n",
        "    \n",
        "    def forward(self, input):\n",
        "        energy = self.energy(input)\n",
        "        alpha = torch.softmax(energy, dim=-2)\n",
        "        return (input * alpha).sum(dim=-2)\n",
        "\n",
        "class Attention(nn.Module):\n",
        "\n",
        "    def __init__(self, hidden_size: int):\n",
        "        super().__init__()\n",
        "\n",
        "        self.energy = nn.Sequential(\n",
        "            nn.Linear(hidden_size, hidden_size),\n",
        "            nn.Tanh(),\n",
        "            nn.Linear(hidden_size, 1)\n",
        "        )\n",
        "    \n",
        "    def forward(self, input):\n",
        "        energy = self.energy(input)\n",
        "        alpha = torch.softmax(energy, dim=-2)\n",
        "        return (input * alpha).sum(dim=-2)\n",
        "\n",
        "class CRNN(nn.Module):\n",
        "\n",
        "    def __init__(self, config: TaskConfig):\n",
        "        super().__init__()\n",
        "        self.config = config\n",
        "\n",
        "        self.conv = nn.Sequential(\n",
        "            nn.Conv2d(\n",
        "                in_channels=1, out_channels=config.cnn_out_channels,\n",
        "                kernel_size=config.kernel_size, stride=config.stride\n",
        "            ),\n",
        "            nn.Flatten(start_dim=1, end_dim=2),\n",
        "        )\n",
        "\n",
        "        self.conv_out_frequency = (config.n_mels - config.kernel_size[0]) // \\\n",
        "            config.stride[0] + 1\n",
        "        \n",
        "        self.gru = nn.GRU(\n",
        "            input_size=self.conv_out_frequency * config.cnn_out_channels,\n",
        "            hidden_size=config.hidden_size,\n",
        "            num_layers=config.gru_num_layers,\n",
        "            dropout=0.1,\n",
        "            bidirectional=config.bidirectional,\n",
        "            batch_first=True\n",
        "        )\n",
        "\n",
        "        self.attention = Attention(config.hidden_size)\n",
        "        self.classifier = nn.Linear(config.hidden_size, config.num_classes)\n",
        "    \n",
        "    def forward(self, input):\n",
        "        input = input.unsqueeze(dim=1)\n",
        "        conv_output = self.conv(input).transpose(-1, -2)\n",
        "        gru_output, _ = self.gru(conv_output)\n",
        "        contex_vector = self.attention(gru_output)\n",
        "        output = self.classifier(contex_vector)\n",
        "        return output\n",
        "\n",
        "\n",
        "class StreamingCRNN(CRNN, nn.Module):\n",
        "\n",
        "    def __init__(self, config: TaskConfig):\n",
        "        super().__init__(config)\n",
        "        self.buffer = torch.tensor([])\n",
        "        self.last_hidden = torch.tensor([])\n",
        "        self.gru_chunk_buffer: List[torch.tensor] = []\n",
        "        self.streaming_mode = True\n",
        "\n",
        "    def forward(self, input, flush=False, max_window_length=101, streaming_step_size=40):\n",
        "        if self.training or not self.streaming_mode:\n",
        "            # output = super().forward(input)\n",
        "            input = input.unsqueeze(dim=1)\n",
        "            conv_output = self.conv(input).transpose(-1, -2)\n",
        "            gru_output, _ = self.gru(conv_output)\n",
        "            contex_vector = self.attention(gru_output)\n",
        "            output = self.classifier(contex_vector)\n",
        "            \n",
        "        else: \n",
        "            if flush:\n",
        "                self.buffer = torch.tensor([])\n",
        "                self.last_hidden = torch.tensor([])\n",
        "                self.gru_chunk_buffer = []\n",
        "                self.streaming_mode = True\n",
        "\n",
        "            n_input_frames = input.size()[-1]\n",
        "            max_chunk_n = max_window_length // streaming_step_size\n",
        "\n",
        "            # набираем буфер (чтобы размерности были больше kernel_size)\n",
        "            if len(self.buffer) == 0:\n",
        "                self.buffer = input.unsqueeze(dim=1)\n",
        "                return None\n",
        "            elif self.buffer.size()[-1] < self.conv[0].kernel_size[1] - 1:  # self.config.max_window_length:  \n",
        "                self.buffer = torch.cat((\n",
        "                    self.buffer,\n",
        "                    input.unsqueeze(dim=1)\n",
        "                    ),\n",
        "                    dim=-1\n",
        "                )\n",
        "                return None\n",
        "            # добавляем в буфер новые фреймы + оставляем kernel_size - 1 пердыдущих\n",
        "            # чтобы первый фрейм входа был связа с предыдущими\n",
        "            else:\n",
        "                self.buffer = torch.cat((\n",
        "                    self.buffer[:, :, :, -(self.conv[0].kernel_size[1] - 1):],\n",
        "                    input.unsqueeze(dim=1)\n",
        "                    ), \n",
        "                    dim=-1\n",
        "                )\n",
        "            conv_output = self.conv(self.buffer).transpose(-1, -2)\n",
        "\n",
        "            # применяем gru и сохраняем hidden_state (gru)\n",
        "            if len(self.last_hidden) == 0:\n",
        "                gru_output, self.last_hidden = self.gru(conv_output)\n",
        "            else:\n",
        "                gru_output, self.last_hidden = self.gru(conv_output, self.last_hidden)\n",
        "\n",
        "            # заполняем буфер выходов gru\n",
        "            if len(self.gru_chunk_buffer) == 0:\n",
        "                self.gru_output_buffer = [gru_output]\n",
        "            else:\n",
        "                self.gru_output_buffer.append(gru_output)\n",
        "                self.gru_output_buffer = self.gru_output_buffer[-max_chunk_n:]\n",
        "            \n",
        "            contex_vector = self.attention(torch.cat(self.gru_output_buffer, dim=-2))\n",
        "            output = self.classifier(contex_vector)\n",
        "        return output"
      ],
      "metadata": {
        "id": "GlFGuf2LM2HR"
      },
      "execution_count": 12,
      "outputs": []
    },
    {
      "cell_type": "markdown",
      "source": [
        "# Validation Function"
      ],
      "metadata": {
        "id": "W7gkw5TnNXUT"
      }
    },
    {
      "cell_type": "code",
      "source": [
        "@torch.no_grad()\n",
        "def validation(model, loader, log_melspec, device):\n",
        "    model.eval()\n",
        "\n",
        "    val_losses, accs, FAs, FRs = [], [], [], []\n",
        "    all_probs, all_labels = [], []\n",
        "    for i, (batch, labels) in tqdm(enumerate(loader), total=len(loader)):\n",
        "        batch, labels = batch.to(device), labels.to(device)\n",
        "        batch = log_melspec(batch)\n",
        "\n",
        "        output = model(batch)\n",
        "        # we need probabilities so we use softmax & CE separately\n",
        "        probs = F.softmax(output, dim=-1)\n",
        "\n",
        "        loss = F.cross_entropy(output, labels)\n",
        "\n",
        "        # logging\n",
        "        argmax_probs = torch.argmax(probs, dim=-1)\n",
        "        all_probs.append(probs[:, 1].cpu())\n",
        "        all_labels.append(labels.cpu())\n",
        "        val_losses.append(loss.item())\n",
        "        accs.append(\n",
        "            torch.sum(argmax_probs == labels).item() /  # ???\n",
        "            torch.numel(argmax_probs)\n",
        "        )\n",
        "        FA, FR = count_FA_FR(argmax_probs, labels)\n",
        "        FAs.append(FA)\n",
        "        FRs.append(FR)\n",
        "\n",
        "    # area under FA/FR curve for whole loader\n",
        "    au_fa_fr = get_au_fa_fr(torch.cat(all_probs, dim=0).cpu(), all_labels)\n",
        "    return au_fa_fr"
      ],
      "metadata": {
        "id": "raUBj8C3NKvs"
      },
      "execution_count": 13,
      "outputs": []
    },
    {
      "cell_type": "markdown",
      "source": [
        "# Result Reoresentation"
      ],
      "metadata": {
        "id": "Nw5IhrJ8NaC7"
      }
    },
    {
      "cell_type": "markdown",
      "source": [
        "## Streaming Models Inference"
      ],
      "metadata": {
        "id": "z2BZL79oNnYk"
      }
    },
    {
      "cell_type": "code",
      "source": [
        "streaming_config = TaskConfig(hidden_size=32)\n",
        "\n",
        "streaming_model = StreamingCRNN(streaming_config).to(streaming_config.device)\n",
        "streaming_model.load_state_dict(torch.load(\"kws/streaming_model_state_dict\"))\n",
        "\n",
        "streaming_model.eval()\n",
        "streaming_model.streaming_mode = True\n",
        "streaming_melspec = LogMelspec(is_train=False, config=streaming_config)\n",
        "max_window_length = 101\n",
        "streaming_step_size = 40\n",
        "\n",
        "probs_history = defaultdict(list)\n",
        "for obj, label, path in my_loader:\n",
        "\n",
        "    obj, label = obj.to(streaming_config.device), label.to(streaming_config.device)\n",
        "    obj = obj[:, 1::3]  # sample rate 16000 from 48000\n",
        "    batch = streaming_melspec(obj)\n",
        "\n",
        "    for i in range(0, batch.size()[-1], streaming_step_size):\n",
        "        chunk = batch[:, :, i : i + streaming_step_size]\n",
        "\n",
        "        flush = True if i == 0 else False\n",
        "        output = streaming_model(chunk, flush, max_window_length, streaming_step_size)\n",
        "\n",
        "        if output is not None:\n",
        "            probs = F.softmax(output, dim=-1)\n",
        "\n",
        "            argmax_probs = torch.argmax(probs, dim=-1)\n",
        "            probs_history[path[0]].append(probs[:, 1].cpu().item())"
      ],
      "metadata": {
        "id": "-rkMCAkzNZTi"
      },
      "execution_count": 23,
      "outputs": []
    },
    {
      "cell_type": "code",
      "source": [
        "title_dict = {\n",
        "    \"kws/my_dataset/sheila/sheila_alphabet.wav\": [\"abc...xyz Sheila abc...xyz\", \"Sheila\"],\n",
        "    \"kws/my_dataset/sheila/friend_sheila.wav\": [\"My friend's name is Sheila. She is very kind and beautiful\", \"Sheila\"],\n",
        "    \"kws/my_dataset/sheila/friend_sheila.wav\": [\"My friend's name is Sheila. She is very kind and beautiful\", \"Sheila\"],\n",
        "    \"kws/my_dataset/sheila/sheila.wav\": [\"Sheila\", \"Sheila\"],\n",
        "    \"kws/my_dataset/sheila/sheila_ones.wav\": [\"one one ... one Sheila one ... one one\", \"Sheila\"],\n",
        "    \"kws/my_dataset/not_sheila/alphabet.wav\": [\"abc...xyz abc...xyz\", \"not Sheila\"],\n",
        "    \"kws/my_dataset/not_sheila/friend_alex.wav\": [\"My friend's name is Alex. He is very kind and funny\", \"not Sheila\"]\n",
        "}"
      ],
      "metadata": {
        "id": "ZT_SGpfzNxk-"
      },
      "execution_count": 26,
      "outputs": []
    },
    {
      "cell_type": "code",
      "source": [
        "fig, axs = plt.subplots((len(probs_history) + 2) // 3, 3, figsize=(35,20))\n",
        "for i, path in enumerate(probs_history):\n",
        "    raw, col = i // 3, i - (i // 3) * 3\n",
        "    axs[raw, col].plot(range(len(probs_history[path])), probs_history[path] , label=title_dict[path][1])\n",
        "    axs[raw, col].legend(fontsize=14)\n",
        "    axs[raw, col].set_title(title_dict[path][0], fontsize=15)\n",
        "    axs[raw, col].set_ylabel(\"Вероятность Sheil'ы\", fontsize=15)\n",
        "plt.show()"
      ],
      "metadata": {
        "colab": {
          "base_uri": "https://localhost:8080/",
          "height": 914
        },
        "id": "uvxhUVcpN4xW",
        "outputId": "706cbb85-75f5-44d3-d0d7-0e0d98eeefca"
      },
      "execution_count": 27,
      "outputs": [
        {
          "output_type": "display_data",
          "data": {
            "text/plain": [
              "<Figure size 2520x1440 with 6 Axes>"
            ],
            "image/png": "[encoded data removed]"
          },
          "metadata": {
            "needs_background": "light"
          }
        }
      ]
    },
    {
      "cell_type": "markdown",
      "source": [
        "## Best Compressed Model Results"
      ],
      "metadata": {
        "id": "Sy0tlKsZN9FN"
      }
    },
    {
      "cell_type": "code",
      "source": [
        "PATH_TO_BEST_MODEL = \"kws/models/best_model\"\n",
        "PATH_TO_BEST_MODEL_WITHOUT_QUANT = \"kws/models/best_model_before_quant\"\n",
        "PATH_TO_BASE_MODEL = \"kws/models/teacher\""
      ],
      "metadata": {
        "id": "3uLGCSbHN7xo"
      },
      "execution_count": 28,
      "outputs": []
    },
    {
      "cell_type": "code",
      "source": [
        "best_model = torch.load(PATH_TO_BEST_MODEL)\n",
        "base_model = torch.load(PATH_TO_BASE_MODEL)\n",
        "prev_best_model = torch.load(PATH_TO_BEST_MODEL_WITHOUT_QUANT)"
      ],
      "metadata": {
        "id": "ZyZmvAeYOhZ5"
      },
      "execution_count": 29,
      "outputs": []
    },
    {
      "cell_type": "code",
      "source": [
        "# результат оказался зависимым от среды выполнения в колабе\n",
        "# при GPU она меньше 5.5e-5\n",
        "# при CPU она больше 5.5e-5\n",
        "\n",
        "melspec_val = LogMelspec(is_train=False, config=TaskConfig(device=torch.device(\"cpu\")))\n",
        "\n",
        "fa_fr_rate = validation(best_model, val_loader, melspec_val, device=\"cpu\")\n",
        "\n",
        "melspec_val = LogMelspec(is_train=False, config=TaskConfig)\n",
        "\n",
        "fa_fr_rate"
      ],
      "metadata": {
        "colab": {
          "base_uri": "https://localhost:8080/"
        },
        "id": "9FfnZZpiOxE5",
        "outputId": "70d1f59d-f7b1-4df1-f3e0-2b25dc10b658"
      },
      "execution_count": 30,
      "outputs": [
        {
          "output_type": "stream",
          "name": "stderr",
          "text": [
            "100%|██████████| 102/102 [00:08<00:00, 12.03it/s]\n"
          ]
        },
        {
          "output_type": "execute_result",
          "data": {
            "text/plain": [
              "4.8480356549032876e-05"
            ]
          },
          "metadata": {},
          "execution_count": 30
        }
      ]
    },
    {
      "cell_type": "code",
      "source": [
        "# Memory Comprisseion ratio 8.94 при первом запуске и 9.14 при втором (не очень знаю, с чем это связано) \n",
        "\n",
        "base_model_mb = get_size_in_megabytes(base_model)\n",
        "best_model_mb = get_size_in_megabytes(best_model)\n",
        "\n",
        "inp = torch.randn(1, 2 * 16_000)\n",
        "spec = melspec_val(inp.to(\"cuda:0\"))\n",
        "\n",
        "best_model_macs = profile(prev_best_model, (spec, ))[0]\n",
        "base_model_macs = profile(base_model, (spec, ))[0]\n",
        "\n",
        "print()\n",
        "print(f\"Memory compression ratio (base_model : best_model) = {base_model_mb / best_model_mb}\")\n",
        "print(f\"MACs compression ratio (base_model : best_model) = {base_model_macs / best_model_macs}\")"
      ],
      "metadata": {
        "id": "A0Pu71UcOoVy",
        "colab": {
          "base_uri": "https://localhost:8080/"
        },
        "outputId": "d7a75039-04ac-4a4d-cfd7-b180c51d1fff"
      },
      "execution_count": 32,
      "outputs": [
        {
          "output_type": "stream",
          "name": "stdout",
          "text": [
            "[INFO] Register count_convNd() for <class 'torch.nn.modules.conv.Conv2d'>.\n",
            "[INFO] Register zero_ops() for <class 'torch.nn.modules.container.Sequential'>.\n",
            "[INFO] Register count_gru() for <class 'torch.nn.modules.rnn.GRU'>.\n",
            "[INFO] Register count_linear() for <class 'torch.nn.modules.linear.Linear'>.\n",
            "[INFO] Register count_convNd() for <class 'torch.nn.modules.conv.Conv2d'>.\n",
            "[INFO] Register zero_ops() for <class 'torch.nn.modules.container.Sequential'>.\n",
            "[INFO] Register count_gru() for <class 'torch.nn.modules.rnn.GRU'>.\n",
            "[INFO] Register count_linear() for <class 'torch.nn.modules.linear.Linear'>.\n",
            "\n",
            "Memory compression ratio (base_model : best_model) = 9.140887034987657\n",
            "MACs compression ratio (base_model : best_model) = 4.04192917079971\n"
          ]
        }
      ]
    },
    {
      "cell_type": "code",
      "source": [],
      "metadata": {
        "id": "R_a5r6TPR_Ji"
      },
      "execution_count": null,
      "outputs": []
    }
  ]
}